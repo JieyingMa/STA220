{
 "cells": [
  {
   "cell_type": "code",
   "execution_count": 33,
   "metadata": {},
   "outputs": [],
   "source": [
    "import requests\n",
    "import pandas as pd\n",
    "import numpy as np\n",
    "import re\n",
    "import lxml.html as lx\n",
    "import time\n",
    "from bs4 import BeautifulSoup\n",
    "import requests_cache\n",
    "requests_cache.install_cache(\"fp\")\n",
    "from tqdm import tqdm\n",
    "import string\n",
    "import nltk\n",
    "import warnings\n",
    "import geopandas as gpd\n",
    "import matplotlib.pyplot as plt"
   ]
  },
  {
   "cell_type": "code",
   "execution_count": 3,
   "metadata": {},
   "outputs": [],
   "source": [
    "from selenium import webdriver\n",
    "from selenium.webdriver.common.by import By\n",
    "from selenium.webdriver.support.ui import WebDriverWait\n",
    "from selenium.webdriver.support import expected_conditions as EC\n",
    "from selenium.webdriver.chrome.service import Service\n",
    "from webdriver_manager.chrome import ChromeDriverManager"
   ]
  },
  {
   "cell_type": "code",
   "execution_count": 4,
   "metadata": {},
   "outputs": [],
   "source": [
    "driver_path = \" /Users/masheng/Library/Python/3.11/lib/python/site-packages\"\n",
    "\n",
    "options = webdriver.ChromeOptions()\n",
    "options.add_argument(driver_path)\n",
    "\n",
    "driver = webdriver.Chrome(options=options)"
   ]
  },
  {
   "cell_type": "code",
   "execution_count": 5,
   "metadata": {},
   "outputs": [],
   "source": [
    "url = \"https://ucdavis.joinhandshake.com/stu/postings\"\n",
    "driver.get(url)"
   ]
  },
  {
   "cell_type": "code",
   "execution_count": 60,
   "metadata": {},
   "outputs": [],
   "source": [
    "# find all jobs_bar in this page\n",
    "job_list = driver.find_element(\"xpath\", '//*[@id=\"skip-to-content\"]/div[4]/div/div[1]/div/div/form/div[2]/div/div/div[1]/div[3]/div/div[1]')"
   ]
  },
  {
   "cell_type": "code",
   "execution_count": 30,
   "metadata": {},
   "outputs": [],
   "source": [
    "a_elements = job_list.find_element(By.TAG_NAME, 'a')"
   ]
  },
  {
   "cell_type": "code",
   "execution_count": 31,
   "metadata": {},
   "outputs": [],
   "source": [
    "# for job_bar in a_elements:\n",
    "job_bar.click()"
   ]
  },
  {
   "cell_type": "code",
   "execution_count": 62,
   "metadata": {},
   "outputs": [],
   "source": [
    "# more information\n",
    "more_buttom = driver.find_element(\"xpath\", '//*[@id=\"skip-to-content\"]/div[4]/div/div[1]/div/div/form/div[2]/div/div/div[2]/div[1]/div[3]/div[4]/div/div/div/button')\n",
    "more_buttom.click()"
   ]
  },
  {
   "cell_type": "code",
   "execution_count": 77,
   "metadata": {},
   "outputs": [],
   "source": [
    "more_buttom = driver.find_element(\"xpath\", \"//button[contains(text(), 'More')]\")\n",
    "more_buttom.click()"
   ]
  },
  {
   "cell_type": "code",
   "execution_count": 42,
   "metadata": {},
   "outputs": [
    {
     "data": {
      "text/plain": [
       "\"Nexon America\\nOther Industries\\nData Analyst Intern\\nPosted 4 days ago∙Apply by March 25, 2024 at 6 AM\\nSave\\nApply Externally\\nAt a glance\\n$20–22/hr\\nHybrid, based in El Segundo, CA\\nWork in person for part of the week, from the location\\nInternship\\nFull-time∙From June 10 to September 2\\nUS work authorization required\\nOpen to candidates with OPT/CPT\\nAbout Nexon\\nNexon America is a branch of Nexon Co., Ltd., a global video game publisher and leading developer of online virtual worlds for PCs, consoles, and mobile devices. Nexon proudly offers celebrated franchises like MapleStory, KartRider, and Mabinogi that have been enjoyed by millions of players for over two decades. When we founded our Nexon America branch in 2006, we made it our goal to bring those unique games to western players using a player-first approach. We achieve that goal by applying our team’s outstanding free-to-play expertise and live game support to every decision, every day.\\nSummary of Position\\nNexon America is looking for a Data Analyst Intern to join our Data team for the 2024 summer internship program. This internship will provide valuable experience to learn how our Nexon Data Analytics team is supporting our game business with in-depth data mining and analyses. You will be able to explore game and player data with various tools and analytics methods and learn how to visualize the analytics data for the business goals. You will also be able to provide your creativity with your fresh view to our Data Analytics team.\\nWe are currently working in the office 2-3x a week in a hybrid work model.\\nThe target start date for the internship program is 6/10 (40 hours/week) and the duration of the internship will vary between 8-12 weeks depending on the role.\\nTo be considered for the internship, you must apply by March 25, 2024.\\nJob Responsibilities\\nDesign and develop data analyses to create unique business insights\\nExplorer our game and player data using SQL querying and data mining to understand players’ behavior and trends\\nIdentify key analytic metrics and build interactive data visualizations and present key insights to inform business decisions and drive growth\\nWork closely with our Data Analysts, Data Engineers, Data Scientists, and stakeholders to translate business data needs into analysis specifications\\nEducation, Professional Training, Technical Training or Certification\\nEnrolled in Bachelor’s or Advanced degree in Computer Science, Mathematics, Statistics, Economics or a related technical field\\nKnowledge/Skills\\nKnowledge of statistical analysis\\nKnowledge of data visualization techniques\\nExperience with any data analytics tools\\nSQL query and Python Programming for data analysis preferred\\nStrong interpersonal and communication skills\\nOnline gaming experience preferred\\nDocumentation Needed (i.e., art portfolio, coding portfolio)\\nResume and Cover Letter\\nManagement has the right to add or change duties and job requirements at any time.\\nNexon is an Equal Opportunity Employer. All qualified applicants will receive consideration for employment without regard to race, color, religion, sex, sexual orientation, gender identity, gender expression, national origin, protected veteran status, or any other basis protected by applicable law and will not be discriminated against on the basis of disability.\\nCompensation Description for Pay Transparency (hourly)\\nThe base salary range for this position in El Segundo, CA is $20.00 - $22.00 hourly.\\nOur salary ranges are determined by market data based on position and level. The range displayed on each job posting reflects the minimum and maximum salaries for that position. An individual’s pay is determined by factors including, but not limited to, a candidate’s qualifications, skills, experiences, relevant education or training, and location.\\nLess\\nYou match all of Nexon America's candidate preferences\\nEmployers are more likely to interview you if you match these preferences:\\nGPA\\nMajors\\nSchool Year\\nU.S. Work authorization\\nNot up to date? Update profile\\nEmployer accepts OPT/CPT.\\nAbout Nexon America\\nFollow\\nEmployees\\n100 - 250\\nIndustry\\nOther Industries\\nHeadquarters\\nEl Segundo, CA\\nA pioneer in the world of interactive entertainment software, Nexon was founded in 1994 and introduced some of the biggest innovations in our industry including the world’s first graphic massively multiplayer online role-playing game (MMORPG) and the first free-to-play game.\\n\\nSince then, we've continued to be an industry leader in MMORPG’s with more than 80 live games operated across more than 190 countries proving that online games are a progressive, mainstream form of entertainment to be enjoyed by everyone.\\n\\nBy focusing on quality we have developed long-standing IP franchise hits, including MapleStory, Dungeon&Fighter, Sudden Attack, and KartRider. Each of our games is tailored to the unique geography in which they are played, which is why our titles continue to be played by millions of people around the globe.\\n\\nNexon is listed on the Tokyo Stock Exchange, and the company was placed on the Nikkei Stock Index 300 in 2017.\\nFlag this Employer for abuse\\nShow full Nexon America profile →\""
      ]
     },
     "execution_count": 42,
     "metadata": {},
     "output_type": "execute_result"
    }
   ],
   "source": [
    "# job_detail = driver.find_element(\"xpath\", '//*[@id=\"skip-to-content\"]/div[4]/div/div[1]/div/div/form/div[2]/div/div/div[2]/div[1]')\n",
    "job_detail.text"
   ]
  },
  {
   "cell_type": "code",
   "execution_count": 41,
   "metadata": {},
   "outputs": [],
   "source": [
    "last_button = driver.find_element('xpath','//*[@id=\"skip-to-content\"]/div[4]/div/div[1]/div/div/form/div[2]/div/div/div[1]/div[3]/div/div[2]/div/div/button[1]')"
   ]
  },
  {
   "cell_type": "code",
   "execution_count": 48,
   "metadata": {},
   "outputs": [
    {
     "name": "stdout",
     "output_type": "stream",
     "text": [
      "None\n"
     ]
    }
   ],
   "source": [
    "next = next_button.get_attribute('disabled')\n",
    "print(next)"
   ]
  },
  {
   "cell_type": "code",
   "execution_count": 68,
   "metadata": {},
   "outputs": [],
   "source": [
    "next_button = driver.find_element('xpath','//*[@id=\"skip-to-content\"]/div[4]/div/div[1]/div/div/form/div[2]/div/div/div[1]/div[3]/div/div[2]/div/div/button[2]')\n",
    "next_button.get_attribute('disabled')"
   ]
  },
  {
   "cell_type": "code",
   "execution_count": 70,
   "metadata": {},
   "outputs": [
    {
     "data": {
      "text/plain": [
       "1.3243228547953614"
      ]
     },
     "execution_count": 70,
     "metadata": {},
     "output_type": "execute_result"
    }
   ],
   "source": [
    "np.random.normal(loc=0, scale=1, size=1)[0]"
   ]
  },
  {
   "cell_type": "code",
   "execution_count": 78,
   "metadata": {},
   "outputs": [
    {
     "ename": "StaleElementReferenceException",
     "evalue": "Message: stale element reference: stale element not found\n  (Session info: chrome=122.0.6261.112); For documentation on this error, please visit: https://www.selenium.dev/documentation/webdriver/troubleshooting/errors#stale-element-reference-exception\nStacktrace:\n0   chromedriver                        0x0000000104800508 chromedriver + 3966216\n1   chromedriver                        0x00000001047f8a94 chromedriver + 3934868\n2   chromedriver                        0x000000010447bda0 chromedriver + 277920\n3   chromedriver                        0x0000000104480648 chromedriver + 296520\n4   chromedriver                        0x0000000104481fe0 chromedriver + 303072\n5   chromedriver                        0x0000000104482078 chromedriver + 303224\n6   chromedriver                        0x00000001044c3da4 chromedriver + 572836\n7   chromedriver                        0x00000001044c2044 chromedriver + 565316\n8   chromedriver                        0x00000001044c056c chromedriver + 558444\n9   chromedriver                        0x00000001044bfa9c chromedriver + 555676\n10  chromedriver                        0x00000001044b4e84 chromedriver + 511620\n11  chromedriver                        0x00000001044b48a8 chromedriver + 510120\n12  chromedriver                        0x00000001044f6bf0 chromedriver + 781296\n13  chromedriver                        0x00000001044b2fb0 chromedriver + 503728\n14  chromedriver                        0x00000001044b3a28 chromedriver + 506408\n15  chromedriver                        0x00000001047c56f0 chromedriver + 3725040\n16  chromedriver                        0x00000001047c9be4 chromedriver + 3742692\n17  chromedriver                        0x00000001047ae1d8 chromedriver + 3629528\n18  chromedriver                        0x00000001047ca6e0 chromedriver + 3745504\n19  chromedriver                        0x00000001047a1550 chromedriver + 3577168\n20  chromedriver                        0x00000001047e8f40 chromedriver + 3870528\n21  chromedriver                        0x00000001047e90e4 chromedriver + 3870948\n22  chromedriver                        0x00000001047f8704 chromedriver + 3933956\n23  libsystem_pthread.dylib             0x00000001a726e26c _pthread_start + 148\n24  libsystem_pthread.dylib             0x00000001a726908c thread_start + 8\n",
     "output_type": "error",
     "traceback": [
      "\u001b[0;31m---------------------------------------------------------------------------\u001b[0m",
      "\u001b[0;31mStaleElementReferenceException\u001b[0m            Traceback (most recent call last)",
      "Cell \u001b[0;32mIn[78], line 29\u001b[0m\n\u001b[1;32m     27\u001b[0m time\u001b[38;5;241m.\u001b[39msleep(random_num)\n\u001b[1;32m     28\u001b[0m \u001b[38;5;28;01mif\u001b[39;00m more_buttom:\n\u001b[0;32m---> 29\u001b[0m     \u001b[43mmore_buttom\u001b[49m\u001b[38;5;241;43m.\u001b[39;49m\u001b[43mclick\u001b[49m\u001b[43m(\u001b[49m\u001b[43m)\u001b[49m\n\u001b[1;32m     30\u001b[0m job_detail_tag \u001b[38;5;241m=\u001b[39m driver\u001b[38;5;241m.\u001b[39mfind_element(\u001b[38;5;124m\"\u001b[39m\u001b[38;5;124mxpath\u001b[39m\u001b[38;5;124m\"\u001b[39m, \u001b[38;5;124m'\u001b[39m\u001b[38;5;124m//div[@class=\u001b[39m\u001b[38;5;124m\"\u001b[39m\u001b[38;5;124mstyle__details-paddingV2___FdddG\u001b[39m\u001b[38;5;124m\"\u001b[39m\u001b[38;5;124m]\u001b[39m\u001b[38;5;124m'\u001b[39m)\n\u001b[1;32m     31\u001b[0m job_detail \u001b[38;5;241m=\u001b[39m info \u001b[38;5;241m=\u001b[39m BeautifulSoup(job_detail_tag\u001b[38;5;241m.\u001b[39mtext, \u001b[38;5;124m'\u001b[39m\u001b[38;5;124mhtml.parser\u001b[39m\u001b[38;5;124m'\u001b[39m)\n",
      "File \u001b[0;32m/Library/Frameworks/Python.framework/Versions/3.11/lib/python3.11/site-packages/selenium/webdriver/remote/webelement.py:94\u001b[0m, in \u001b[0;36mWebElement.click\u001b[0;34m(self)\u001b[0m\n\u001b[1;32m     92\u001b[0m \u001b[38;5;28;01mdef\u001b[39;00m \u001b[38;5;21mclick\u001b[39m(\u001b[38;5;28mself\u001b[39m) \u001b[38;5;241m-\u001b[39m\u001b[38;5;241m>\u001b[39m \u001b[38;5;28;01mNone\u001b[39;00m:\n\u001b[1;32m     93\u001b[0m \u001b[38;5;250m    \u001b[39m\u001b[38;5;124;03m\"\"\"Clicks the element.\"\"\"\u001b[39;00m\n\u001b[0;32m---> 94\u001b[0m     \u001b[38;5;28;43mself\u001b[39;49m\u001b[38;5;241;43m.\u001b[39;49m\u001b[43m_execute\u001b[49m\u001b[43m(\u001b[49m\u001b[43mCommand\u001b[49m\u001b[38;5;241;43m.\u001b[39;49m\u001b[43mCLICK_ELEMENT\u001b[49m\u001b[43m)\u001b[49m\n",
      "File \u001b[0;32m/Library/Frameworks/Python.framework/Versions/3.11/lib/python3.11/site-packages/selenium/webdriver/remote/webelement.py:395\u001b[0m, in \u001b[0;36mWebElement._execute\u001b[0;34m(self, command, params)\u001b[0m\n\u001b[1;32m    393\u001b[0m     params \u001b[38;5;241m=\u001b[39m {}\n\u001b[1;32m    394\u001b[0m params[\u001b[38;5;124m\"\u001b[39m\u001b[38;5;124mid\u001b[39m\u001b[38;5;124m\"\u001b[39m] \u001b[38;5;241m=\u001b[39m \u001b[38;5;28mself\u001b[39m\u001b[38;5;241m.\u001b[39m_id\n\u001b[0;32m--> 395\u001b[0m \u001b[38;5;28;01mreturn\u001b[39;00m \u001b[38;5;28;43mself\u001b[39;49m\u001b[38;5;241;43m.\u001b[39;49m\u001b[43m_parent\u001b[49m\u001b[38;5;241;43m.\u001b[39;49m\u001b[43mexecute\u001b[49m\u001b[43m(\u001b[49m\u001b[43mcommand\u001b[49m\u001b[43m,\u001b[49m\u001b[43m \u001b[49m\u001b[43mparams\u001b[49m\u001b[43m)\u001b[49m\n",
      "File \u001b[0;32m/Library/Frameworks/Python.framework/Versions/3.11/lib/python3.11/site-packages/selenium/webdriver/remote/webdriver.py:347\u001b[0m, in \u001b[0;36mWebDriver.execute\u001b[0;34m(self, driver_command, params)\u001b[0m\n\u001b[1;32m    345\u001b[0m response \u001b[38;5;241m=\u001b[39m \u001b[38;5;28mself\u001b[39m\u001b[38;5;241m.\u001b[39mcommand_executor\u001b[38;5;241m.\u001b[39mexecute(driver_command, params)\n\u001b[1;32m    346\u001b[0m \u001b[38;5;28;01mif\u001b[39;00m response:\n\u001b[0;32m--> 347\u001b[0m     \u001b[38;5;28;43mself\u001b[39;49m\u001b[38;5;241;43m.\u001b[39;49m\u001b[43merror_handler\u001b[49m\u001b[38;5;241;43m.\u001b[39;49m\u001b[43mcheck_response\u001b[49m\u001b[43m(\u001b[49m\u001b[43mresponse\u001b[49m\u001b[43m)\u001b[49m\n\u001b[1;32m    348\u001b[0m     response[\u001b[38;5;124m\"\u001b[39m\u001b[38;5;124mvalue\u001b[39m\u001b[38;5;124m\"\u001b[39m] \u001b[38;5;241m=\u001b[39m \u001b[38;5;28mself\u001b[39m\u001b[38;5;241m.\u001b[39m_unwrap_value(response\u001b[38;5;241m.\u001b[39mget(\u001b[38;5;124m\"\u001b[39m\u001b[38;5;124mvalue\u001b[39m\u001b[38;5;124m\"\u001b[39m, \u001b[38;5;28;01mNone\u001b[39;00m))\n\u001b[1;32m    349\u001b[0m     \u001b[38;5;28;01mreturn\u001b[39;00m response\n",
      "File \u001b[0;32m/Library/Frameworks/Python.framework/Versions/3.11/lib/python3.11/site-packages/selenium/webdriver/remote/errorhandler.py:229\u001b[0m, in \u001b[0;36mErrorHandler.check_response\u001b[0;34m(self, response)\u001b[0m\n\u001b[1;32m    227\u001b[0m         alert_text \u001b[38;5;241m=\u001b[39m value[\u001b[38;5;124m\"\u001b[39m\u001b[38;5;124malert\u001b[39m\u001b[38;5;124m\"\u001b[39m]\u001b[38;5;241m.\u001b[39mget(\u001b[38;5;124m\"\u001b[39m\u001b[38;5;124mtext\u001b[39m\u001b[38;5;124m\"\u001b[39m)\n\u001b[1;32m    228\u001b[0m     \u001b[38;5;28;01mraise\u001b[39;00m exception_class(message, screen, stacktrace, alert_text)  \u001b[38;5;66;03m# type: ignore[call-arg]  # mypy is not smart enough here\u001b[39;00m\n\u001b[0;32m--> 229\u001b[0m \u001b[38;5;28;01mraise\u001b[39;00m exception_class(message, screen, stacktrace)\n",
      "\u001b[0;31mStaleElementReferenceException\u001b[0m: Message: stale element reference: stale element not found\n  (Session info: chrome=122.0.6261.112); For documentation on this error, please visit: https://www.selenium.dev/documentation/webdriver/troubleshooting/errors#stale-element-reference-exception\nStacktrace:\n0   chromedriver                        0x0000000104800508 chromedriver + 3966216\n1   chromedriver                        0x00000001047f8a94 chromedriver + 3934868\n2   chromedriver                        0x000000010447bda0 chromedriver + 277920\n3   chromedriver                        0x0000000104480648 chromedriver + 296520\n4   chromedriver                        0x0000000104481fe0 chromedriver + 303072\n5   chromedriver                        0x0000000104482078 chromedriver + 303224\n6   chromedriver                        0x00000001044c3da4 chromedriver + 572836\n7   chromedriver                        0x00000001044c2044 chromedriver + 565316\n8   chromedriver                        0x00000001044c056c chromedriver + 558444\n9   chromedriver                        0x00000001044bfa9c chromedriver + 555676\n10  chromedriver                        0x00000001044b4e84 chromedriver + 511620\n11  chromedriver                        0x00000001044b48a8 chromedriver + 510120\n12  chromedriver                        0x00000001044f6bf0 chromedriver + 781296\n13  chromedriver                        0x00000001044b2fb0 chromedriver + 503728\n14  chromedriver                        0x00000001044b3a28 chromedriver + 506408\n15  chromedriver                        0x00000001047c56f0 chromedriver + 3725040\n16  chromedriver                        0x00000001047c9be4 chromedriver + 3742692\n17  chromedriver                        0x00000001047ae1d8 chromedriver + 3629528\n18  chromedriver                        0x00000001047ca6e0 chromedriver + 3745504\n19  chromedriver                        0x00000001047a1550 chromedriver + 3577168\n20  chromedriver                        0x00000001047e8f40 chromedriver + 3870528\n21  chromedriver                        0x00000001047e90e4 chromedriver + 3870948\n22  chromedriver                        0x00000001047f8704 chromedriver + 3933956\n23  libsystem_pthread.dylib             0x00000001a726e26c _pthread_start + 148\n24  libsystem_pthread.dylib             0x00000001a726908c thread_start + 8\n"
     ]
    }
   ],
   "source": [
    "all_data_analysts_json = {}\n",
    "i = 0\n",
    "page_i = 0\n",
    "page = 1\n",
    "\n",
    "# find all jobs_bar in this page\n",
    "job_list = driver.find_element(\"xpath\", '//div[@class=\"style__cards___gaXdn\"]')\n",
    "a_elements = job_list.find_elements(By.TAG_NAME, 'a')\n",
    "for job_bar in a_elements:\n",
    "    while True:\n",
    "        random_num = np.random.normal(5, 1)\n",
    "        if 5 < random_num <= 10:\n",
    "            break\n",
    "    time.sleep(random_num)\n",
    "    job_bar.click()\n",
    "    while True:\n",
    "        random_num = np.random.normal(2, 1)\n",
    "        if 2 < random_num <= 5:\n",
    "            break\n",
    "    time.sleep(random_num)\n",
    "    # more information\n",
    "    more_buttom = driver.find_element(\"xpath\", \"//button[contains(text(), 'More')]\")\n",
    "    while True:\n",
    "        random_num = np.random.normal(2, 1)\n",
    "        if 2 < random_num <= 5:\n",
    "            break\n",
    "    time.sleep(random_num)\n",
    "    if more_buttom:\n",
    "        more_buttom.click()\n",
    "    job_detail_tag = driver.find_element(\"xpath\", '//div[@class=\"style__details-paddingV2___FdddG\"]')\n",
    "    job_detail = info = BeautifulSoup(job_detail_tag.text, 'html.parser')\n",
    "    all_data_analysts_json[i] = job_detail\n",
    "    page_i = page_i + 1\n",
    "    i = i+1\n",
    "print(f'page {page}: {page_i+1} - total: {i+1}')\n",
    "next_button = driver.find_element('xpath','//button[@data-hook=\"search-pagination-next\"]')\n",
    "\n",
    "while next_button.get_attribute('disabled') and page<2:\n",
    "    next_button.click()\n",
    "    page = page+1\n",
    "    page_i = 0\n",
    "    job_list = driver.find_element(\"xpath\", '//div[@class=\"style__cards___gaXdn\"]')\n",
    "    a_elements = job_list.find_elements(By.TAG_NAME, 'a')\n",
    "    for job_bar in a_elements:\n",
    "        while True:\n",
    "            random_num = np.random.normal(5, 1)\n",
    "            if 0 < random_num <= 10:\n",
    "                break\n",
    "        time.sleep(random_num)\n",
    "        job_bar.click()\n",
    "        # more information\n",
    "        more_buttom = driver.find_element(\"xpath\", \"//button[contains(text(), 'More')]\")\n",
    "        if more_buttom:\n",
    "            more_buttom.click()\n",
    "        job_detail_tag = driver.find_element(\"xpath\", '//div[@class=\"style__details-paddingV2___FdddG\"]')\n",
    "        job_detail = info = BeautifulSoup(job_detail_tag.text, 'html.parser')\n",
    "        all_data_analysts_json[i] = job_detail\n",
    "        page_i = page_i + 1\n",
    "        i = i+1\n",
    "    print(f'page {page}: {page_i+1} - total: {i+1}')\n",
    "    next_button = driver.find_element('xpath','//button[@data-hook=\"search-pagination-next\"]')\n",
    "\n",
    "print(f\"Finish scraping!\")"
   ]
  }
 ],
 "metadata": {
  "kernelspec": {
   "display_name": "Python 3",
   "language": "python",
   "name": "python3"
  },
  "language_info": {
   "codemirror_mode": {
    "name": "ipython",
    "version": 3
   },
   "file_extension": ".py",
   "mimetype": "text/x-python",
   "name": "python",
   "nbconvert_exporter": "python",
   "pygments_lexer": "ipython3",
   "version": "3.11.4"
  }
 },
 "nbformat": 4,
 "nbformat_minor": 2
}
