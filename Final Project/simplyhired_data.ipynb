{
 "cells": [
  {
   "cell_type": "code",
   "execution_count": 2,
   "metadata": {},
   "outputs": [],
   "source": [
    "import httpx\n",
    "import requests\n",
    "import pandas as pd\n",
    "import numpy as np\n",
    "import re\n",
    "import lxml.html as lx\n",
    "import time\n",
    "from bs4 import BeautifulSoup\n",
    "import requests_cache\n",
    "requests_cache.install_cache(\"fp\")\n",
    "from tqdm import tqdm\n",
    "import string\n",
    "import nltk\n",
    "import warnings\n",
    "import geopandas as gpd\n",
    "import matplotlib.pyplot as plt"
   ]
  },
  {
   "cell_type": "code",
   "execution_count": 3,
   "metadata": {},
   "outputs": [],
   "source": [
    "all_job_urls = pd.read_csv(\"all_job_urls.csv\")"
   ]
  },
  {
   "cell_type": "code",
   "execution_count": 30,
   "metadata": {},
   "outputs": [],
   "source": [
    "HEADERS = {\n",
    "    \"User-Agent\": 'Mozilla/5.0 (Macintosh; Intel Mac OS X 10_15_7) AppleWebKit/537.36 (KHTML, like Gecko) Chrome/122.0.0.0 Safari/537.36',\n",
    "    \"Accept-Encoding\": \"gzip\",\n",
    "    \"Accept\": \"text/html\",\n",
    "    \"Accept-Language\": \"en\",\n",
    "    \"Cache-Control\": \"max-age=0\",\n",
    "    \"Sec-Fetch-Dest\": \"document\",\n",
    "    \"Sec-Fetch-Mode\": \"navigate\",\n",
    "    \"Cookie\": 'CTK=1hiq7b982kp0r800; CSRF=UI0smzR2tqo8tJ24OuSOj508sm9vHI8F; INDEED_CSRF_TOKEN=M2rWlP53k5jQfzlAKOPZPEyndcH9SQPw; hpnode=1; _ga=GA1.2.1145195577.1710268026; SURF=ItSgDBEj0VPErn3ajGry1QSo4GuVxYCF; _gcl_au=1.1.731099277.1710268048; LOCALE=en; MICRO_CONTENT_CSRF_TOKEN=QCX1xyVCzusGcsmtf9QmtsqKkp9O3XK1; PPID=\"\"; cp=1; SHARED_INDEED_CSRF_TOKEN=M2rWlP53k5jQfzlAKOPZPEyndcH9SQPw; CMP_VISITED=1; cmppmeta=\"eNoBSAC3/8b/XBs7B0rSHIGEFJ46L9UdKTYVM6+sJmiVYxvpWk35oUR7UvfyJu9WAEje3S0/RCbbefeqNX5i+p2s6IlHhBtxVaU/Bn5K8Xj4IOE=\"; indeed_rcc=\"cmppmeta:LV:CTK\"; cmp-jobsCta=hidden; _gid=GA1.2.335988752.1710918658; cmpsmeta=\"eNoBOADH/9aA1wR7fF6jCVoww2nY2biOLpn6KhfawGvqoP8GjMMSOM3mZ4mTYM26MD9JVM165pyD5+X6lXJnTBseuA==\"; RJAS=v7f5cdfb8f61922b2:ie77c8615daba01c7; LC=\"co=US&hl=en_US\"; ROJC=f54882cebf10ebd4:87375e52799bef99:d889eeefdb0ec0c3:1a2903e5ba3a600f:de4d586b8c555828:c4a0c5f43b1be38b:831587431a365711:e90b3572f6c08240:4484d7039ddfc55e:667062de587332f3; RSJC=a3084fb41e49fce0:44984acf92d08d60:e77c8615daba01c7:6e3f8d65e9c47a5f:a54d06e7f22b8fe2:7872f8291b2ac864:fb6af8fe9094d287:7f5cdfb8f61922b2:1a76a5f8066be394:bb2a9274c7891c7c; cf_clearance=ay8veu1OGi7SD5SYVhVOtIdmnhSBLf17DDMnj6Sdhz0-1710954247-1.0.1.1-CqvsQX2tXBrtamOVPXdMqLR8loGAPIarbzAYYGI_hNpiJlwugybckNkP.BPJhvJSL8Xp3f9mVm3TdC8S5lLkSw; __cf_bm=dY2GcM0MUBFHvUjJhJbAEkZG6s_y8VYHVoSAgK5MtQY-1710959648-1.0.1.1-vM6BVbtLlVrEwfVQzT353iaDKFrwx1Fzav0ly7zSVayTC4MehxtgBVhYpr1aFM2wvws6ZDOS40gaBOzYfi9fXw; _cfuvid=260GWXYbRFSZkaeqo1q4bJgEfdt7o04bZZjS1YPOMu4-1710959648791-0.0.1.1-604800000; LV=\"LA=1710959912:LV=1710932098:CV=1710959912:TS=1710268024\"; RQ=\"q=data+scientist&l=&ts=1710959912294&pts=1710932177839:q=biostatistician&l=&ts=1710741322360:q=data+science+intern&l=&ts=1710646303290&pts=1710291574347:q=data+analyst+internship&l=&ts=1710291500827:q=data+analyst&l=&ts=1710291471839:q=data&l=&ts=1710291360613&pts=1710269684404\"; JSESSIONID=48462AC846AB222A8F94D443A4F025CE; _gat=1'\n",
    "}"
   ]
  },
  {
   "cell_type": "code",
   "execution_count": 9,
   "metadata": {},
   "outputs": [
    {
     "data": {
      "text/plain": [
       "['https://www.indeed.com/pagead/clk?mo=r&ad=-6NYlbfkN0Dv5y2Tz_XTKJ5_FAkW3zrjLJOd2TmyCZSSGZAIb9qsK7ED9MMzJfjSU2w0kpoNwcJaml4oafevb-o3Ugsk_frYlGVEBMoPkqxp8whNJr5tOFQHG8bEFY2k5826KYL7Qe7WxLcxFxPzSStkzPo-54WgjEtX6iqpDHCeZe6BTK98nuTZ1jxzJ2mU2lB8SyaRwDTE6EBONmflvwxMysPYwZndWb0ouQJKfODLFgYCt6GvRsdFQFlvg_XOkikHU9NuLxlTWgbBOMKMcszHRVmfPXxOKyM_2IoTwjVT1oQHH9lDo_Qn75WrHrnqkVuzaP3SDZMuAi2zzwrYR5yPPfDpw6ZvNiL4nxzBSUaH4caQ2huYOjEXRX5aFt9XTZ_eqipagKZdw37PJBiypEEznj_kzUFkzWjwU6m3g8uOP148F--OVGcqaidp7urOgl3ppXDRmUTeVR7qGG57WbGgKSRw3znPtjEicSrkuh4WO67MpyYMHuXvqbUAdBMp8xpzPwlmlNVJpyZh9f-wJQJV_gXS-gAaMAK14p8BChu_uB7jYKjbBhWXTaqnW7Kp3V2dKz9YjHwp6SpTJl2sxXlYXwfRcz9x&xkcb=SoDm6_M3DlT6q7Tenh0LbzkdCdPP&camk=4HOcmqOLYrCEe3bkuslzNA==&p=0&fvj=0&vjs=3',\n",
       " 'https://www.indeed.com/pagead/clk?mo=r&ad=-6NYlbfkN0CnM4TERr6XuVBW3VTRACvDXDx9S3Pbn6a0SwhkmoLTiKD4BGD0VT7S6S0mhSg0W4vN4oo9e5UeuVScx57ooOWwlk-R3y6npUah7ze3WgfL68m5TudUhYdSk7h9Az2dKYTdKHCisLtjYcDGthvCmzluHdSrfIwNFzRLd6NDiH-vFORi6FRS0ZShmjxf00uHR4iyJD059HnP_OW2AYgugERZ2mhbc-ckMIOgKAk2tdeZeUDvztKJPwteyNyy_NfcxVJbA7VG-drnY0ZR5wXGNVq-qJ6Yq178_elGju89tAxxDCuDnkg2moN6tRcvfNNesq2Dfv3OBkeKtfTbsVNnc7WmLX-d_-Am6hTuzBdlw5Uf_cE8u6mCT8FrlRqPJjWEd5WbcKbnMyDbvQVEojiDTMINdaiouU92_PpcXX6M8DaiGXA64gIC4b3kALe8trxtfHVoutASLEylTc0BJA_QmIHWlbcvmOZiQq-N0mC-h_g6_XpQv_vU9Falfv8OzUSvcvFp6l1Mx8bacW5WXM2I-OYfryBlHIZecySurXKXVkhD-9hAo6WbAjN_1N1GL1VUxUziPaPSOMA5cxzIDxYYTlM8e0MMEzAFC7HSXU5LkPwnRwry6wsc9EBpvyqbc0YG7V9gUzjfCo4OZQT74opaoKR5zwn0eLX8Zw-mQA6xmKxnNsuSfJet3gYXWdLOShFxGm67o5o_-XvECIXxkhigfipQUkqCQtEzcSEUEzKNBWLKcUTuTwYe4D5q9qtHBno1LTo=&xkcb=SoBS6_M3DlT6q7Tenh0KbzkdCdPP&camk=4HOcmqOLYrCXmVXMKDlYWA==&p=1&fvj=1&vjs=3',\n",
       " 'https://www.indeed.com/pagead/clk?mo=r&ad=-6NYlbfkN0DmLzMUg58vpcKEuOsz23xHQTZNvrMlEx10uQb-YrWTgMqY-3s5SNrt7lutRm_SxX7hWqv3TvbgomFUcooYG5iZKaNAa_jrJ2tQaMpbH5tNZF6fYXa6Y3WANSHinNK4jQ6IBxQsS3sb-HXrj55r86Vf70rgbum22K48NWcws41GUyiMYe-N7vk3jXeLCQ6IJZTw51Kxb0ylrrEF_GUS1u-pof4yEJRI6kYhdIifzfkhzJhNrK1AkpyvmKywXW-lUDfA2JGcsvVJ10kHPdeDE-fi5K2hizBU4_mT5fvrDpgZIq8hsP8kcHOzanvOViRSizxLKRPC6n1p5Zuvp62rBhhBM3ZzNhJ5m211WZiGV7_OSzaSg68f3YJIML10iYsL5CTw0HYDy4atxLf-CEog2EGMOfgSoRsyKs1BQ5bHZWC9aS4lU0zxS3uF2rUyjBrOaNf2B75AbPTEszaNbcPvW_JwRKHWl--_YkYpJNOjAGes3h59knZCGr0YC19H7pNzSCcUyaCx1yZnTMb20BZlMhyrghGd9sNLgtOpwkzKf2xhu9Q4suUhA_1cqG7xKEAi0RQeu0CE1aqOAesUIeDD44G_G8Ac-GSgRX-e-Yrk7CZUSJTnoHXIdYXJLlkPJTf6WTTCnnQRMxrZha4ElYRa2_Ew&xkcb=SoDP6_M3DlT6q7Tenh0JbzkdCdPP&camk=4HOcmqOLYrC_m-jc7dw8kQ==&p=2&fvj=0&vjs=3',\n",
       " 'https://www.indeed.com/rc/clk?jk=d9364d889da7c35e&bb=vMIpEXXjC7Llm2W0M6R2LtDnXgLxqe-i1ATCDPqyVgpAisstWQ5PmlGXZcB3F0WXyogrTwhB49nDuFaUSa3-yVzJUXVGGs_qGvClf13e6wo%3D&xkcb=SoCP67M3DlT6q7Tenh0IbzkdCdPP&fccid=d6ef41e202aa2c0b&vjs=3',\n",
       " 'https://www.indeed.com/pagead/clk?mo=r&ad=-6NYlbfkN0BXuQyu8a89IGjYOqzws6EwobUQWMJj07p0mQmaAEzBimmUwMXy040AmZAYZsLeBKrMwSJCgVf4Cz-Sg77X2DejDHflImo0jlcbIMya4NGofvn987jDgGCkYgNJlSLsEpQ5kssdrTqKCinV3EmPa-jK--GbRwDOj7E4GE8ockEo0o-B6PR1TjNR_A26AwDKBKbtBGX-3Ac5DsaHpnXcO8PMUSgEffoAnB06QdqqgZi_Cc5FnAF8_YFJswToHxuleaHBtMKDOxXsahRONMFbIKTu82pViMv5ycD2pGYwVmvTuq62UHqCU-zZJ7I3Mvx0CzYATBrjFWzd68YWv-OsDX9p1SAe-VgeNr3qm-wEAL9dawMxcNRe4SzTiapMEEqrJQ8_Z8SVKp75dDyibbigi2eqjVEkR0lDzeBm1YzyvNkYXaADLUaaZ27K429l2RwdPkN0zqIccsLlOjeuIPEcA2seuw9iXe0qmptFmFDRsD3rA4fELywer7U9tN3eP_a33qI3Qechn7hObWYmZFxjogXvIuU9j9T2dS4wM0Lw11d1BR5pTCJAgHwPlDNhTP90wUu_gfO-Sro6eJ1qwhGlcKdIvRO9gO7opTJn6UGLNLgtyOgUtFOeh6AgONrd11149qd_yZUUsmfz_3jMtQv-_EogZBva1ApGYYVzU659pyRuDY1P2rTzhRJwzatA7V9WXA5goh2XNNAjsr2FXkhbd39SCnK0I0h_5JE9_cTQm_hL2Tfusg8oTS0weWQnuWriOfobaYRizeO3B85JmQb8YrFB9jKfNTBNpWxh9KNJ4KeH99BGl7gkHa3BA4D_pcdvILKh6oO14mQIpfWHxVeiZpIckOm1bnvi-p1gJRxCBaYUNlJ5rSDMTSzff23zitzwGQvtVRrrI-zoOQ==&xkcb=SoD16_M3DlT6q7Tenh0PbzkdCdPP&camk=4HOcmqOLYrBB86wtdUdPbQ==&p=4&fvj=0&vjs=3',\n",
       " 'https://www.indeed.com/pagead/clk?mo=r&ad=-6NYlbfkN0C2ZFwvvDqMqUSd2oyW6lCV3jOgG1gOU5u1NExha-d6nF0wf8tb-UVFizSAU2Z_0c3iDpYA10DVRCkV-Oncq0nX_SBp-wh2G0GIaTVZzAIkMapoF1K6uPTU-UzTrWk-fr95N9GRtKsSFdW7yq3mHFmjlv5dRDyUoolExZL1uae9N9pE2GuXkb0-K0sWnvOIko5HUrREvUGYXtGtbsybZO7aVbppvZFcGqrdjMUI9DNV8xqVrqbSe9QhaSX2J3kLQFbARgXsCvttActlbidggZEjVO6h6BDfcubb0Mzwq5S9gS5rVHyt4rnGKL8PkNFchb9Q1U9avlZWwdn72WiRgMza9gktgkD_cFNkWpZFFz60UpdtTxS0hn84ssF5c-OYrOY5u7hjdmnvlJlYsQ1E0vbd7Z9pXbRnt8M0Q_M5Sb9SyxHY_vwPjojyD7_rOvZ_XCJWqFL4kjEf6q0c3RsBvGoXmk1ws7YvxDmRzP52NFL0nXObChLP8erqt3OLj-tAJBAdwv6Txd8I8ma9yGMfNgf8FO7tza1psWnC_jcNqUxYDiU_g9CgUhcJ94fTenAs9NcRh0r_jr-9UUb--mC7YzeBtrs8MS6tlV4=&xkcb=SoBB6_M3DlT6q7Tenh0ObzkdCdPP&camk=f416UQcMBpDlwBwDfsqFkQ==&p=5&fvj=0&vjs=3',\n",
       " 'https://www.indeed.com/pagead/clk?mo=r&ad=-6NYlbfkN0DlG8eQ-E_eElbjQUAvh1Po9TMRdgcP7wLVIjfv-ORu9JgO3eKYfgel2s47D-0NuUXJl1UrKa2y1OyhgAErKoc_cJtR7wM9qsiEdGISgKNpJsAPTSS_Q9RtKTGSjH-lp_UcVcNTj70afhqpQqpIB0S9xQXQmgLSR-0guQY7Sha3TbG7jWlBiIwfznS_r6hzb1C3k9RezZfT6grCMPNOBZMgoarO9DChMeWD_YJUcykELp3YdiIUqX5rvpWWBV8-BZHZNeLLhjunwgOT0n8whpl82ftsaZQux5T_jOGPhZezwvQSwS6pfmrEkXyhGxSjPChMY8KuZnwqM1CDbuHtTIZJkWbdl04yuc1zxk_NWl8Xzjih-Qy8Sv0vfw3OlmvT5fQoGh1io8uITcejCSBUhrSl9jpb3lGa1Z1Smkl7Fn7YYMtL_rleFDWk07tIyLJ7ZsTM4dpejQj3bd6mdaoRNak3GdQ78Boq-X7UyAkYqQzgB7PfCDy_1E6lOrwiSiFP6Mkz42ZA9MdL2bec96UyCHb33Suim6_Cs_fJCp8KpHHaHwfjXej8fsho3CHk5XmqDwCjfC9HDYfKgr1WSV-3B8usUHnuQNSjDtbmjzv0SPhJLxqqQL2i8-YoFXy5VioMlzR--A45bdcrTJMGtUfmHRCaj3B0-SyZDEQ6mA7DzROTZE-j7UFGsJGPMBzOc9PxH9KxxZ1At_fCtYrlVgEi9-ld1sw0LDwIrI-CEUA7VZ2ZshZhnO3VirNJRiOwhPYKp_PRm1HdHkERiwguIrwBPM6AxNIWptYelFqeDwxjHl5LV8CsL9au7tjpX01UTciGlqeSWxA868_vqCRNSk-aO6zj17JWIKxLOEQCm5Cg30sPREYko3xExyFP-flNltrd2wkxXAaR_T-uyDcV2piLYdJfqqx8MEVokbhV2nHFzONvzBARZT3MqWjQgIvVrwpWn28=&xkcb=SoDc6_M3DlT6q7Tenh0NbzkdCdPP&camk=H-lBaXMUocKZ3rvXdkQH-Q==&p=6&fvj=0&vjs=3',\n",
       " 'https://www.indeed.com/rc/clk?jk=cb772f0849d45778&bb=vMIpEXXjC7Llm2W0M6R2LuWrd6xa37nZa0zzzystGdK5AmCcwUJRi94IS9n6elxVaDnENEQLEFPCB1LivtXIqG9_nkg7i2OpYlcFL9_ejzBZoXN4tURAsQ%3D%3D&xkcb=SoCc67M3DlT6q7Tenh0MbzkdCdPP&fccid=313709e0fcad12b5&cmp=California-Air-Resources-Board&ti=Data+Scientist&vjs=3',\n",
       " 'https://www.indeed.com/rc/clk?jk=ffb3efd1d31ce49a&bb=vMIpEXXjC7Llm2W0M6R2LpNt3MTbiBdmePUZm4973iownkL_wfsfjgzuAvSdyc8IlZ8S4pyK8LApDNE5LLLSUgwKHEV2wz0BAYs8sgzFiVA%3D&xkcb=SoB167M3DlT6q7Tenh0DbzkdCdPP&fccid=978d9fd9799d55a8&vjs=3',\n",
       " 'https://www.indeed.com/pagead/clk?mo=r&ad=-6NYlbfkN0De7scZMGRktcRm1xquClSEeXRaD9t0XBHJvo7d6kcpExlomjbh8A5nFoPA5209EXWszLPqn7dOUvr0YLJlfeK0DQOr1asw6BN6uS2YgYbNkhxnLUfX_Uz3Mp1UjUaW6oSR-28jGDfmuoWPDvumM3EfO52P9otowkYTiwmrwunRnTct5HEobT6S3w0RhKLci1pD3QnJaFI5YxiZfufO9kZ_RYVQtuiRmP9QADqAyloeiM4-ZAuEC55PNIwvfcCbA8qzKiTVmRIm6SJUO4OTR-elUmSlvG8Eu3v8yUGc4-c7Xe2nw_fWMtev9LI-xrJqjad5-Q4UI0LBFVLjNuX5POLzXePvjKVIbWK_LtEWMH9Dj86JSYWIOZRXflkM97okf0JpDjejAJ92uDQu1nOoT-yrs82t2fOGNjCi328RlR9SprJwMfSFbNX5tIlVfd0pT2lRTEIP_4rHNOfK-xSjyoSY5WODmVfKHKncf42Q_P2yHU6_m606vXfv9BlWs8TJUg69gfw3dsD-kaMKel7j4WICv2cJW_ZlaevQE44KLgl2z2Lk9dRlcsosbn3GxCkVugzR8YLer0FUQPHXPoZ0E2AD7mxYgLtknSoJIBoXz4Jdsezb7LPDo4Z0GHH1N5t-lGv9I9wOoAeA1oFNMkvHFyCuLtfCmPyxmG7HLZO9ZuoosixGGwYxw0JsO7MY9FF0LQhrNjSscAV3oZMmGwpdaVRCsB7FXKL53PCqD1rrnFFQ8xSLELo7s7ALZHes0denmg8sILPKQqpfRArY8fl7mSB-r5fhw33reEpp0-6b2DZ5TsWPNcuOBH-Tj0_HGp6kbaOAUazc-e-OIH-oiZR4dZxXoIXgHiNIgs0tzzus8gfEB_HESD7NdX9rIryGACz9W6g-xORSgzhl80gTIq0hmouRRXRltfYqI4f-vlGaPUGp8VF6NMNk5VjjIHYYeVRGlhNK9B8COjw48-xXeMUQ7QK3zz6Zx9eRcxrYcH6TguRZR3WHjXhsooJj1h4gePw2hnYW1nPklNR1iIJEDyGkByjx65XTLPVe3ev3NYBR_NxLFm7fQM4jOKDdlz7o6orjZDtTpgIE2u9xmh60-kGvyi9-WEqRtOHDilOl2OYySzjD5QerJnpYYQsoZ7P5-5KWDEW_XPLX2BUiTuzgBS7MbyNvkAB_69iw9R4pyDBbSwMt3_aEDhH12yCi-2-E4GmoWxyf0HqQq11_SwBCD6aoa6rymby1wj0Ig4BBXaUspoFFD1o6MJxzvAkn0RALFz3Hn19w_va5NzRXYpG_QZr_8n_-L7zObRu0ASFDFaL1BpbqN0ZrwLiATLVZQbhBFGl-ZqA-jwaqTUDiFw==&xkcb=SoA16_M3DlT6q7Tenh0CbzkdCdPP&camk=4HOcmqOLYrCUBK0VZEL2og==&p=9&fvj=0&vjs=3']"
      ]
     },
     "execution_count": 9,
     "metadata": {},
     "output_type": "execute_result"
    }
   ],
   "source": [
    "all_job_urls = [item for sublist in all_job_urls for item in sublist]\n",
    "all_job_urls[:10]"
   ]
  },
  {
   "cell_type": "code",
   "execution_count": 11,
   "metadata": {},
   "outputs": [
    {
     "name": "stderr",
     "output_type": "stream",
     "text": [
      "Fetching job details:   0%|          | 0/10 [00:00<?, ?job/s]"
     ]
    },
    {
     "name": "stderr",
     "output_type": "stream",
     "text": [
      "Fetching job details: 100%|██████████| 10/10 [00:02<00:00,  3.40job/s]"
     ]
    },
    {
     "name": "stdout",
     "output_type": "stream",
     "text": [
      "All job details fetched!\n"
     ]
    },
    {
     "name": "stderr",
     "output_type": "stream",
     "text": [
      "\n"
     ]
    }
   ],
   "source": [
    "all_job_soup = []\n",
    "for url in tqdm(all_job_urls[:10], desc=\"Fetching job details\", unit=\"job\"):\n",
    "    time.sleep(0.1)\n",
    "    response = requests.get(url, headers=HEADERS, cookies={})\n",
    "    if response.status_code == 200:\n",
    "        all_job_soup.append(response.text)\n",
    "print(\"All job details fetched!\")"
   ]
  },
  {
   "cell_type": "code",
   "execution_count": 29,
   "metadata": {},
   "outputs": [
    {
     "name": "stdout",
     "output_type": "stream",
     "text": [
      "<Response [403]>\n"
     ]
    },
    {
     "data": {
      "text/plain": [
       "'<!DOCTYPE html><html lang=\"en-US\"><head><title>Just a moment...</title><meta http-equiv=\"Content-Type\" content=\"text/html; charset=UTF-8\"><meta http-equiv=\"X-UA-Compatible\" content=\"IE=Edge\"><meta name=\"robots\" content=\"noindex,nofollow\"><meta name=\"viewport\" content=\"width=device-width,initial-scale=1\"><style>*{box-sizing:border-box;margin:0;padding:0}html{line-height:1.15;-webkit-text-size-adjust:100%;color:#313131}button,html{font-family:system-ui,-apple-system,BlinkMacSystemFont,Segoe UI,Roboto,Helvetica Neue,Arial,Noto Sans,sans-serif,Apple Color Emoji,Segoe UI Emoji,Segoe UI Symbol,Noto Color Emoji}@media (prefers-color-scheme:dark){body{background-color:#222;color:#d9d9d9}body a{color:#fff}body a:hover{color:#ee730a;text-decoration:underline}body .lds-ring div{border-color:#999 transparent transparent}body .font-red{color:#b20f03}body .big-button,body .pow-button{background-color:#4693ff;color:#1d1d1d}body #challenge-success-text{background-image:url(data:image/svg+xml;base64,PHN2ZyB4bWxucz0iaHR0cDovL3d3dy53My5vcmcvMjAwMC9zdmciIHdpZHRoPSIzMiIgaGVpZ2h0PSIzMiIgZmlsbD0ibm9uZSIgdmlld0JveD0iMCAwIDI2IDI2Ij48cGF0aCBmaWxsPSIjZDlkOWQ5IiBkPSJNMTMgMGExMyAxMyAwIDEgMCAwIDI2IDEzIDEzIDAgMCAwIDAtMjZtMCAyNGExMSAxMSAwIDEgMSAwLTIyIDExIDExIDAgMCAxIDAgMjIiLz48cGF0aCBmaWxsPSIjZDlkOWQ5IiBkPSJtMTAuOTU1IDE2LjA1NS0zLjk1LTQuMTI1LTEuNDQ1IDEuMzg1IDUuMzcgNS42MSA5LjQ5NS05LjYtMS40Mi0xLjQwNXoiLz48L3N2Zz4=)}body #challenge-error-text{background-image:url(data:image/svg+xml;base64,PHN2ZyB4bWxucz0iaHR0cDovL3d3dy53My5vcmcvMjAwMC9zdmciIHdpZHRoPSIzMiIgaGVpZ2h0PSIzMiIgZmlsbD0ibm9uZSI+PHBhdGggZmlsbD0iI0IyMEYwMyIgZD0iTTE2IDNhMTMgMTMgMCAxIDAgMTMgMTNBMTMuMDE1IDEzLjAxNSAwIDAgMCAxNiAzbTAgMjRhMTEgMTEgMCAxIDEgMTEtMTEgMTEuMDEgMTEuMDEgMCAwIDEtMTEgMTEiLz48cGF0aCBmaWxsPSIjQjIwRjAzIiBkPSJNMTcuMDM4IDE4LjYxNUgxNC44N0wxNC41NjMgOS41aDIuNzgzem0tMS4wODQgMS40MjdxLjY2IDAgMS4wNTcuMzg4LjQwNy4zODkuNDA3Ljk5NCAwIC41OTYtLjQwNy45ODQtLjM5Ny4zOS0xLjA1Ny4zODktLjY1IDAtMS4wNTYtLjM4OS0uMzk4LS4zODktLjM5OC0uOTg0IDAtLjU5Ny4zOTgtLjk4NS40MDYtLjM5NyAxLjA1Ni0uMzk3Ii8+PC9zdmc+)}}body{display:flex;flex-direction:column;min-height:100vh}body.no-js .loading-spinner{visibility:hidden}body.no-js .challenge-running{display:none}body.dark{background-color:#222;color:#d9d9d9}body.dark a{color:#fff}body.dark a:hover{color:#ee730a;text-decoration:underline}body.dark .lds-ring div{border-color:#999 transparent transparent}body.dark .font-red{color:#b20f03}body.dark .big-button,body.dark .pow-button{background-color:#4693ff;color:#1d1d1d}body.dark #challenge-success-text{background-image:url(data:image/svg+xml;base64,PHN2ZyB4bWxucz0iaHR0cDovL3d3dy53My5vcmcvMjAwMC9zdmciIHdpZHRoPSIzMiIgaGVpZ2h0PSIzMiIgZmlsbD0ibm9uZSIgdmlld0JveD0iMCAwIDI2IDI2Ij48cGF0aCBmaWxsPSIjZDlkOWQ5IiBkPSJNMTMgMGExMyAxMyAwIDEgMCAwIDI2IDEzIDEzIDAgMCAwIDAtMjZtMCAyNGExMSAxMSAwIDEgMSAwLTIyIDExIDExIDAgMCAxIDAgMjIiLz48cGF0aCBmaWxsPSIjZDlkOWQ5IiBkPSJtMTAuOTU1IDE2LjA1NS0zLjk1LTQuMTI1LTEuNDQ1IDEuMzg1IDUuMzcgNS42MSA5LjQ5NS05LjYtMS40Mi0xLjQwNXoiLz48L3N2Zz4=)}body.dark #challenge-error-text{background-image:url(data:image/svg+xml;base64,PHN2ZyB4bWxucz0iaHR0cDovL3d3dy53My5vcmcvMjAwMC9zdmciIHdpZHRoPSIzMiIgaGVpZ2h0PSIzMiIgZmlsbD0ibm9uZSI+PHBhdGggZmlsbD0iI0IyMEYwMyIgZD0iTTE2IDNhMTMgMTMgMCAxIDAgMTMgMTNBMTMuMDE1IDEzLjAxNSAwIDAgMCAxNiAzbTAgMjRhMTEgMTEgMCAxIDEgMTEtMTEgMTEuMDEgMTEuMDEgMCAwIDEtMTEgMTEiLz48cGF0aCBmaWxsPSIjQjIwRjAzIiBkPSJNMTcuMDM4IDE4LjYxNUgxNC44N0wxNC41NjMgOS41aDIuNzgzem0tMS4wODQgMS40MjdxLjY2IDAgMS4wNTcuMzg4LjQwNy4zODkuNDA3Ljk5NCAwIC41OTYtLjQwNy45ODQtLjM5Ny4zOS0xLjA1Ny4zODktLjY1IDAtMS4wNTYtLjM4OS0uMzk4LS4zODktLjM5OC0uOTg0IDAtLjU5Ny4zOTgtLjk4NS40MDYtLjM5NyAxLjA1Ni0uMzk3Ii8+PC9zdmc+)}body.light{background-color:transparent;color:#313131}body.light a{color:#0051c3}body.light a:hover{color:#ee730a;text-decoration:underline}body.light .lds-ring div{border-color:#595959 transparent transparent}body.light .font-red{color:#fc574a}body.light .big-button,body.light .pow-button{background-color:#003681;border-color:#003681;color:#fff}body.light #challenge-success-text{background-image:url(data:image/svg+xml;base64,PHN2ZyB4bWxucz0iaHR0cDovL3d3dy53My5vcmcvMjAwMC9zdmciIHdpZHRoPSIzMiIgaGVpZ2h0PSIzMiIgZmlsbD0ibm9uZSIgdmlld0JveD0iMCAwIDI2IDI2Ij48cGF0aCBmaWxsPSIjMzEzMTMxIiBkPSJNMTMgMGExMyAxMyAwIDEgMCAwIDI2IDEzIDEzIDAgMCAwIDAtMjZtMCAyNGExMSAxMSAwIDEgMSAwLTIyIDExIDExIDAgMCAxIDAgMjIiLz48cGF0aCBmaWxsPSIjMzEzMTMxIiBkPSJtMTAuOTU1IDE2LjA1NS0zLjk1LTQuMTI1LTEuNDQ1IDEuMzg1IDUuMzcgNS42MSA5LjQ5NS05LjYtMS40Mi0xLjQwNXoiLz48L3N2Zz4=)}body.light #challenge-error-text{background-image:url(data:image/svg+xml;base64,PHN2ZyB4bWxucz0iaHR0cDovL3d3dy53My5vcmcvMjAwMC9zdmciIHdpZHRoPSIzMiIgaGVpZ2h0PSIzMiIgZmlsbD0ibm9uZSI+PHBhdGggZmlsbD0iI2ZjNTc0YSIgZD0iTTE2IDNhMTMgMTMgMCAxIDAgMTMgMTNBMTMuMDE1IDEzLjAxNSAwIDAgMCAxNiAzbTAgMjRhMTEgMTEgMCAxIDEgMTEtMTEgMTEuMDEgMTEuMDEgMCAwIDEtMTEgMTEiLz48cGF0aCBmaWxsPSIjZmM1NzRhIiBkPSJNMTcuMDM4IDE4LjYxNUgxNC44N0wxNC41NjMgOS41aDIuNzgzem0tMS4wODQgMS40MjdxLjY2IDAgMS4wNTcuMzg4LjQwNy4zODkuNDA3Ljk5NCAwIC41OTYtLjQwNy45ODQtLjM5Ny4zOS0xLjA1Ny4zODktLjY1IDAtMS4wNTYtLjM4OS0uMzk4LS4zODktLjM5OC0uOTg0IDAtLjU5Ny4zOTgtLjk4NS40MDYtLjM5NyAxLjA1Ni0uMzk3Ii8+PC9zdmc+)}a{background-color:transparent;color:#0051c3;text-decoration:none;transition:color .15s ease}a:hover{color:#ee730a;text-decoration:underline}.main-content{margin:8rem auto;max-width:60rem;width:100%}.heading-favicon{height:2rem;margin-right:.5rem;width:2rem}@media (width <= 720px){.main-content{margin-top:4rem}.heading-favicon{height:1.5rem;width:1.5rem}}.footer,.main-content{padding-left:1.5rem;padding-right:1.5rem}.main-wrapper{align-items:center;display:flex;flex:1;flex-direction:column}.font-red{color:#b20f03}.spacer{margin:2rem 0}.h1{font-size:2.5rem;font-weight:500;line-height:3.75rem}.h2{font-weight:500}.core-msg,.h2{font-size:1.5rem;line-height:2.25rem}.body-text,.core-msg{font-weight:400}.body-text{font-size:1rem;line-height:1.25rem}@media (width <= 720px){.h1{font-size:1.5rem;line-height:1.75rem}.h2{font-size:1.25rem}.core-msg,.h2{line-height:1.5rem}.core-msg{font-size:1rem}}#challenge-error-text{background-image:url(data:image/svg+xml;base64,PHN2ZyB4bWxucz0iaHR0cDovL3d3dy53My5vcmcvMjAwMC9zdmciIHdpZHRoPSIzMiIgaGVpZ2h0PSIzMiIgZmlsbD0ibm9uZSI+PHBhdGggZmlsbD0iI2ZjNTc0YSIgZD0iTTE2IDNhMTMgMTMgMCAxIDAgMTMgMTNBMTMuMDE1IDEzLjAxNSAwIDAgMCAxNiAzbTAgMjRhMTEgMTEgMCAxIDEgMTEtMTEgMTEuMDEgMTEuMDEgMCAwIDEtMTEgMTEiLz48cGF0aCBmaWxsPSIjZmM1NzRhIiBkPSJNMTcuMDM4IDE4LjYxNUgxNC44N0wxNC41NjMgOS41aDIuNzgzem0tMS4wODQgMS40MjdxLjY2IDAgMS4wNTcuMzg4LjQwNy4zODkuNDA3Ljk5NCAwIC41OTYtLjQwNy45ODQtLjM5Ny4zOS0xLjA1Ny4zODktLjY1IDAtMS4wNTYtLjM4OS0uMzk4LS4zODktLjM5OC0uOTg0IDAtLjU5Ny4zOTgtLjk4NS40MDYtLjM5NyAxLjA1Ni0uMzk3Ii8+PC9zdmc+);padding-left:34px}#challenge-error-text,#challenge-success-text{background-repeat:no-repeat;background-size:contain}#challenge-success-text{background-image:url(data:image/svg+xml;base64,PHN2ZyB4bWxucz0iaHR0cDovL3d3dy53My5vcmcvMjAwMC9zdmciIHdpZHRoPSIzMiIgaGVpZ2h0PSIzMiIgZmlsbD0ibm9uZSIgdmlld0JveD0iMCAwIDI2IDI2Ij48cGF0aCBmaWxsPSIjMzEzMTMxIiBkPSJNMTMgMGExMyAxMyAwIDEgMCAwIDI2IDEzIDEzIDAgMCAwIDAtMjZtMCAyNGExMSAxMSAwIDEgMSAwLTIyIDExIDExIDAgMCAxIDAgMjIiLz48cGF0aCBmaWxsPSIjMzEzMTMxIiBkPSJtMTAuOTU1IDE2LjA1NS0zLjk1LTQuMTI1LTEuNDQ1IDEuMzg1IDUuMzcgNS42MSA5LjQ5NS05LjYtMS40Mi0xLjQwNXoiLz48L3N2Zz4=);padding-left:42px}.text-center{text-align:center}.big-button{border:.063rem solid #0051c3;border-radius:.313rem;font-size:.875rem;line-height:1.313rem;padding:.375rem 1rem;transition-duration:.2s;transition-property:background-color,border-color,color;transition-timing-function:ease}.big-button:hover{cursor:pointer}.captcha-prompt:not(.hidden){display:flex}@media (width <= 720px){.captcha-prompt:not(.hidden){flex-wrap:wrap;justify-content:center}}.pow-button{background-color:#0051c3;color:#fff;margin:2rem 0}.pow-button:hover{background-color:#003681;border-color:#003681;color:#fff}.footer{font-size:.75rem;line-height:1.125rem;margin:0 auto;max-width:60rem;width:100%}.footer-inner{border-top:1px solid #d9d9d9;padding-bottom:1rem;padding-top:1rem}.clearfix:after{clear:both;content:\"\";display:table}.clearfix .column{float:left;padding-right:1.5rem;width:50%}.diagnostic-wrapper{margin-bottom:.5rem}.footer .ray-id{text-align:center}.footer .ray-id code{font-family:monaco,courier,monospace}.core-msg,.zone-name-title{overflow-wrap:break-word}@media (width <= 720px){.diagnostic-wrapper{display:flex;flex-wrap:wrap;justify-content:center}.clearfix:after{clear:none;content:none;display:initial;text-align:center}.column{padding-bottom:2rem}.clearfix .column{float:none;padding:0;width:auto;word-break:keep-all}.zone-name-title{margin-bottom:1rem}}.loading-spinner{height:76.391px}.lds-ring{display:inline-block;position:relative}.lds-ring,.lds-ring div{height:1.875rem;width:1.875rem}.lds-ring div{animation:lds-ring 1.2s cubic-bezier(.5,0,.5,1) infinite;border:.3rem solid transparent;border-radius:50%;border-top-color:#313131;box-sizing:border-box;display:block;position:absolute}.lds-ring div:first-child{animation-delay:-.45s}.lds-ring div:nth-child(2){animation-delay:-.3s}.lds-ring div:nth-child(3){animation-delay:-.15s}@keyframes lds-ring{0%{transform:rotate(0)}to{transform:rotate(1turn)}}@media screen and (-ms-high-contrast:active),screen and (-ms-high-contrast:none){.main-wrapper,body{display:block}}</style><meta http-equiv=\"refresh\" content=\"375\"></head><body class=\"no-js\"><div class=\"main-wrapper\" role=\"main\"><div class=\"main-content\"><noscript><div id=\"challenge-error-title\"><div class=\"h2\"><span id=\"challenge-error-text\">Enable JavaScript and cookies to continue</span></div></div></noscript></div></div><script>(function(){window._cf_chl_opt={cvId: \\'3\\',cZone: \"www.indeed.com\",cType: \\'managed\\',cNounce: \\'86828\\',cRay: \\'8677d3493dee32b6\\',cHash: \\'b41fb66a79a6c13\\',cUPMDTk: \"\\\\/pagead\\\\/clk?mo=r&ad=-6NYlbfkN0Dv5y2Tz_XTKJ5_FAkW3zrjLJOd2TmyCZSSGZAIb9qsK7ED9MMzJfjSU2w0kpoNwcJaml4oafevb-o3Ugsk_frYlGVEBMoPkqxp8whNJr5tOFQHG8bEFY2k5826KYL7Qe7WxLcxFxPzSStkzPo-54WgjEtX6iqpDHCeZe6BTK98nuTZ1jxzJ2mU2lB8SyaRwDTE6EBONmflvwxMysPYwZndWb0ouQJKfODLFgYCt6GvRsdFQFlvg_XOkikHU9NuLxlTWgbBOMKMcszHRVmfPXxOKyM_2IoTwjVT1oQHH9lDo_Qn75WrHrnqkVuzaP3SDZMuAi2zzwrYR5yPPfDpw6ZvNiL4nxzBSUaH4caQ2huYOjEXRX5aFt9XTZ_eqipagKZdw37PJBiypEEznj_kzUFkzWjwU6m3g8uOP148F--OVGcqaidp7urOgl3ppXDRmUTeVR7qGG57WbGgKSRw3znPtjEicSrkuh4WO67MpyYMHuXvqbUAdBMp8xpzPwlmlNVJpyZh9f-wJQJV_gXS-gAaMAK14p8BChu_uB7jYKjbBhWXTaqnW7Kp3V2dKz9YjHwp6SpTJl2sxXlYXwfRcz9x&xkcb=SoDm6_M3DlT6q7Tenh0LbzkdCdPP&camk=4HOcmqOLYrCEe3bkuslzNA==&p=0&fvj=0&vjs=3&__cf_chl_tk=Lt0ekVLWYaVx0qFCt5z_7S2DPSB7i53YXvhvoQlYgMM-1710959970-0.0.1.1-3455\",cFPWv: \\'b\\',cTTimeMs: \\'1000\\',cMTimeMs: \\'375000\\',cTplV: 5,cTplB: \\'cf\\',cK: \"visitor-time\",fa: \"\\\\/pagead\\\\/clk?mo=r&ad=-6NYlbfkN0Dv5y2Tz_XTKJ5_FAkW3zrjLJOd2TmyCZSSGZAIb9qsK7ED9MMzJfjSU2w0kpoNwcJaml4oafevb-o3Ugsk_frYlGVEBMoPkqxp8whNJr5tOFQHG8bEFY2k5826KYL7Qe7WxLcxFxPzSStkzPo-54WgjEtX6iqpDHCeZe6BTK98nuTZ1jxzJ2mU2lB8SyaRwDTE6EBONmflvwxMysPYwZndWb0ouQJKfODLFgYCt6GvRsdFQFlvg_XOkikHU9NuLxlTWgbBOMKMcszHRVmfPXxOKyM_2IoTwjVT1oQHH9lDo_Qn75WrHrnqkVuzaP3SDZMuAi2zzwrYR5yPPfDpw6ZvNiL4nxzBSUaH4caQ2huYOjEXRX5aFt9XTZ_eqipagKZdw37PJBiypEEznj_kzUFkzWjwU6m3g8uOP148F--OVGcqaidp7urOgl3ppXDRmUTeVR7qGG57WbGgKSRw3znPtjEicSrkuh4WO67MpyYMHuXvqbUAdBMp8xpzPwlmlNVJpyZh9f-wJQJV_gXS-gAaMAK14p8BChu_uB7jYKjbBhWXTaqnW7Kp3V2dKz9YjHwp6SpTJl2sxXlYXwfRcz9x&xkcb=SoDm6_M3DlT6q7Tenh0LbzkdCdPP&camk=4HOcmqOLYrCEe3bkuslzNA==&p=0&fvj=0&vjs=3&__cf_chl_f_tk=Lt0ekVLWYaVx0qFCt5z_7S2DPSB7i53YXvhvoQlYgMM-1710959970-0.0.1.1-3455\",md: \"AcA733Ihakxmb7rjWFxYjHBIHUx_NQ8HBK6O5aYJrpU-1710959970-1.1.1.1-KbTYR7mppCG._BRgaAUziy4LHwpQg5DqXvKe9.1MBdDd6tbne30zESxuKvwBEHG_bJ7mOZETkFCZKXFNH5N7sLyxyuHg7e7EKNZcEm2JnQdrFb1IQIqL3Fwvio.14HX1qmkMsPcHXHRJ34OKS0WuCDgqhKSnrS5xoJOo145MOK3rPjk_bKefVHhTSTC.XXA1EMKxyIfBJLAzT9LHdcCb8PUlloA5aBin1jrqxBHwEkLFa.3DZ6.mu8gTFbDrCpEnAFeoQDXHgZ9Pbk3546Txo.J2XyEzyDFnfxVuflNO.5SNDnGw4F.lAsFRZJKC9EUXK.pQ08QHO9qpvL1teW0Q1QYF2dyTv_RQ7S_SzqjaiqCWyP5.bDjPnDJEVPeEklktjNZ3dktJ3OzeGLnerc2oiacZ0XfBVAqveFqHpt1Blm6NDZA4quIzUPWFqZj5HEkUX4SS_E._zEXL82_eG0NvCNNmmmZRDlRIupOPGIKuHmNMWtAJiNifckbRjBDsXiyMePva.aACtAglm8OXM._qXW6z2BLCFLhN7.9a58TfADaituskoJGV2Wq.mg41SMjqJMmNil5oXJKCXFdAczWHGDZpkqb67EoFEyzWCi0N51MjG48q9_7fXEytolfSsLXG1TqaMlGoUeuuXAlQE70K8hnxXO00tzgzJGuDSImBj6JT7FyqKDuAxT5JvacZdD9jra0UpaHKBHRxs.iaIMSbe8eiNaGfTnpSD6rR.IocUOZCLgW2QgcKSf6jDlkSOayLwiE_5SCPCyHjWqy_dSZn6M5w2CrkqwnhPdSxboe10HewhlrsP3r2a6RQWYwr2Tf2c7jLgQBDdknQtUUddaJw1h57FMLDErhpzzWR1k1FIHMDO5zdv6FMM6GwfFYsKevYOgnJLGZvfesloDt.MuP06vT5MLS_qqwp.JlxmiQ65ibvx4ncLEAjfhUGsbmX3brOOhf8HSTc5G5zIl1kAHSfIfpXpJ2g5p.1Bdtg6hrR.uPToPrA8x1HaLDk1mIV_tzy0vWIhhRGbA5PQ0.ENJictS6ngr_BIgWox5P3cjAWz99xoo.7T17iY0PQwIANjylLNoveSYi_6CgSP2iQEL6Jr7Fiv5bn74tn5bHvLBdDbg3MILA.OIfiZTo192VWECjoT6uz8Rtfqr2Fu8ax8Kl4ASnTN1O5mp9V2xaAAeq5nwdPhWN2cFByjV9ihNl81ndo951_zq5GTRE01G6m1tSB76hWbst45LnSBaqXzQ8FbMRyEMzGmD9BRC7Qpm75Ar7VSm5UW_sxbsC1brjzmqg.KCqsVxPegnDNoK7y9aPhjiULas8xfKG50UUfeXwfw6Mas_E02HXaLI1QxU1BFWbt5JHPmf7U3VXfjQlKAWAgfhWjm85q7Nde1MFaOtS.Tjf_JyGifrdZLl1_GYf.e3CSkXGEnCwKodEZztQzp23ydGfC708Snnhl2inPSn_YPYSU3prA3Ag9mI7nZnfPjbIpLPJg.Mob34FRaiMdRiwcfkni4yUKKCiqEdQ9kGUz6IuB64gkUC3PrfPIf5dtJW.Sq1gNE9vFfHZ4hkKHmm_H0ug2_B3OCO.Mll6TGsehQGpPeHPITigrO78gx54q3amUBGS7AgV2VVfAo50BNuhrOmtq.zlhslJ7mHf3bUqA9ArTidhqVMZOHV7NyMBWTX.9yx75yQItKOY6SMSAEj7aCb6ygNj6S4eF8k_Px6PpOXgufMdXa2j8lXHHaGX7U5Fxj.3.7B52x8OhRTQacim7RXUPhJmsI_bXGAkMgEGKaDuVmuUMrOpvOCnNoty5IzgH5xO3Ua7h.CBp8wToZYBz0rttctj4CKjn3E38kIVm.YpSYbymlPs8ZczneUMMln3OC8oITnSH5uxRQAth2gnrbiwnKo2MWgBTDxx3drsi7oAPYET5WrS6.SJbVOzQ4XhJfF07lw5zSTyQ382NutWDlXqJNJOdpmCSzHwR8gY6nUONpIMPdhC45OAJYzQFLZJClu2h1.8shTlDSsL17YDBhIBTpUjRLrAvaSDRNC7m14IQLhCssk2ZHcqgjNqKedxDh0dWkHpCGO1baAjPH8R_Bk8zrmrCXmLWbIFXkyXo9DG_mk416yMERbDIYSpVfUNHGs_jZMEBZ40egm7ll5kmtjkXBv0ByORubuY2cXgfAicOo5gEXheeBV7z2ELoPfwZ.RADFuVmp5v6EVeKaPyTlC68F3CLp4Wxd1MK6M25nUDIOj.RhjRBYa3_WsPduu1MA0f_RN7YbsiOfnvf_GYHaqHVZj3n_fUCFQUte9sE9aqLO3jGxbdfrD9NhjCL4_kABRCCiEZvlsn_awHgioDu1ybxMOdNTGNKeCTU61WMo_FdLi4W7MnRjRpCWnS4jF7djjcZXKz_dG41WPYQVnBYidgC2LgMhzpEEt4QBJkfdjft9a.PMZt2fjqqFKxAI7cVARLH2KPqBgFVo3CECs6ghPBOzA_G8C5kpsM7k2z.Nn0Sk1HsA91FNEijZ_jwoNAT5Oxhfjwb.b9FW0V_lE6HlHsBW3xSnO8D3bxtPRSkIPAhwnWKqHzmvwxTG4l9_cEEkCf7mjmMzRT_Vs1TCVDP6lZZyYtBYtJ2R.nDImPe7nG2uVCLnHe2jGL6bXAJb_6LmXS_Ch_ELOYmOxBLCjBTcgfTQ2uHvVsD2GkE8Yg8QDak1iBdVuU7Ri0_xq3elNcYsUxu6c0welOq1McTVghprWYQTdIXL6Ysg9WQ9m6c3oJp.5.2gYwgLA6Pom_Y8up1teeKAuAe.1NajHRQDjs2eXtJ0vl6NGbRz3RYWBybHtOT9USFlYFQ5ESPPhIEfF.c1FxWqdMfyKHIBjwlS0jlLM0vZ1nMPBnS5W8pdkkTO_JObX_E_NEhaRvhlepZ97c6dGzH0Rkcoj1XYy4iRLz.x8Xof_yv9TJxB0ZwzkV1tVmrEWvI3pjLfK_V_Yh6SC_GKGn.nx6VsD.RCQ6gY0IUHt1UV5k94l50sflXK7lhfVZoanKhOPmgfdIpm4mU8udWEGEi9LS62RiVTMsyN9rQxV7rqIrO2F9ysjWZDYe8QKpBYGwIQ0jYCm_o0SCydWApl7g9oyBAo29yYKc9WsSQjTfahP41T56Nyw4wb2uvD37gep1eqVOoq1806SYyGr6KleSdyFfD8ijGV6J_oFt6fhLjX.PebSmOp2shFTHCVbCf1txWVEVWdRrwpNhq1elDEFltvHJzbvicDX5VF95xgAOGnnyTXSHhGQYac6rO98DPRCNirx2LTf6kOsxu.6bAens3K4Sk1C8HKiQJQwbPIpN1k2GRlS7FoqhI24JenjL5UG28sMpOpTG.RIsE64HxlsxnGXrgl9K5_h1mtmq9tZW75xJ68sEl4lu6dQOXDiu2\",mdrd: \"QlApIKQXJz421OWgyVVkvHCLRaneriPUYVKUBdd0Wmo-1710959970-1.1.1.1-0vqdYZqh6.re4SaC7NSPwWoZ6rT6rnm3DSchnHEwF2j4V_BFHgxOAw5E4xxOTyhE7GIryBAFGCKDzPPDUnMpgKJ0sGZaPyT7AXPblE1qtW6e7tuNNynJaL3pMg7SgfYe2iHgQTjrDuUoYwgtOfSDyea.8EOliANv4sUdAUh1SFCwqRH4nFadt2IS1LizKBYH7jM4de775UQ.26c7Zx9GWRu1W0q63RyrSIU5A673lsBpiX1t6qnmDnYJS0sjeQmnBtbVxM4tqKyhiJvKzGuuzjtpYx3oG06x5rt4pIaUDNBWmTSVsYXvGGxUbgE9o4mkTDQFf0WhbjuzHsNdp5dQYCrX3Dw1zl5Hh0lrfRbuNGo4zSBsd7CWNuMwPZUuPUJzQnVC_2fXXGWOEVRB11KGXnTR0nKHXhuOL61RO53haAaH5UDK3tRY_mxuGTSPfVln7Fe2u0x.Z18xsafzE4sl.CwwKN_Qn0Qs7KOCFzGz.WaXxlbk.K7SKUR483kjAD8FPflBmw4I6dGaJyMxg5Op3L7OE0ttNvmEpDM6x_NAXIltu2qj_jMoFkqOuKp8FY.JRuqN0V2oQf89CevmGPSXfC8su9Vv31ws2B42a0GC._3QsMPDP97EiSHOjpTK2ZIxQt3gQ1zjsd437AzKdjz8T6iZC3aNOb9JurjkpUPiji6IL5iBd0rt3V3Zwv7BLIM_7ofg0YydlzaEWzLdxfZqw4PMx372uDfFwJeUqug81QmCLSrqnjqNJ_bHjDbB0m6lTBf32P0KC2ayLrLIRcIng773W0aIN2bxeg1rz7iuZKFuu2FQZdwmVrw3_Wb83mM8AQNpDdjM9Qq6rq_.hhLrkDof846AzgwTnSv6IeQnPNZNRKlN8ZZ0PruqlUIt2meVHrf.Xg.yCg6gRYLlTUOiN0oOT655PL2mz9qXC0vpSLKXVFpDUn6_ELtWuEPX12QX29heAN1igW2_wHvLAOB7IglXVIRw_4agEowo3AymOU5qrG0a2jsM.qfwn.5m_PeujCIUwjmAELUuPa1k02TODyMbw7QPpG2pqmdpm1YzW0Gdx83wWO4cxQahyb1N1yLCJZYnDxQZ0LZ.3iWpcte94OjIAnHwZAIQe06DEt4HvOYUS_wmY50tiC4EACiT.otpm03n1VdBUgePGhvtdedgJ_uXXk2N0Y08IRrVfpBG0yewipynSt_QB9NfnJGbsDXruGa0GsgHgcXMwKy_6XC5pHV9fR2b_FZCZjRrARJ_Ynn17E_yPhaQ2anyh2s9LHXUOWgsDJXZlML9FTb6OPfUj9xp_mtuSYK_1cUZJoGGgC3lc1P4.2bOhFKjFQG1_7tqPEwHZkB6OZsB750PgWIT.8ohunnD1O_b_GUmRf6RhJYqhJtwCDpOINyIkbYrucbya58zFwc_twDvy9i6_7JyKHAs4n4z73ReerLvoAwa59HE0mjkkZ9gDITp1Nlnhram8fmtqcFq9YbCVVkNn5mk91ZOLkGIUoZVEhTDZFL.MizM.3.wGLkpkYDI5J34kj8FueH8OjBnBOnN13ETaKizkX1v4WqhWaCjdyPGPEsWT5R7CA2mf.AKOue_JvUiUXtshExxQFaxC1Ncu9p6.0jGryC0pRwTkyESCQt0qgA9vpMdG6Z4kQLF1gENcwecBEs.h6Yq2IlSOPzJ3LMbS3TWvAgbW5MJtlLKypD6bqmjtKC6PTxcJ4KLmPXbPJ2xylZTGiMBBHD2lmCFWZZ81aS3.K5nR_vaLFkkAx.ebl4O5xGNkma.KpnW427iS8tBxD4oG3toE9TWP55oMV6rV6MYwz2ZZT3yaOp5aMikiyt9D2FyEqUM056us4T739gENs2OnactkSZhlwKzajD7bgcLSlsl99WidiFwFSPR4tUURIcmgORwXZC_.fo1rV3o9im6r_8I82H1dDMABhhPfcGroZXz.UtCYh5a8jxejrS9vY8ObLtB41BpFrUPJFNhFpqwnyxFH_QTZ5wOJs7KBg8x6T496kTODLNQhf5phduw67569qDm.tp7u0TWr.YY_Uq5lPuOYxPTiANHyhKP7i.ExlpOuVz5_B9Ucdi8PxHp.p9ZwC_h3hzQy4nfi2EMnwoyf9Uok8lZMCv6_5LKfc2ckALWVmcaywoeqEYZzVeD6zKAYuahR5qbqbV67A77Q8yQGEWx6NVP_AzJoLh_McCgyksoxQVxvn88mLN9rNeJpZ5ZF6YiPMhGmR67vHQQ0yvD3mUd7qjfvQ6ZK2BW0xJz.WPGnyiHFiKIP2AVTCFlLL.AidcjHX1iqOP32tR7w_A6J6KdvC3IgbRMo3pObXpKmyEp8MeAQ_EC3YAtfbj9hUEt.YMiyHEj44lMg139K5n8gFxOEoSfdcNySiO2KQd3M2vZPtK..Wigw58Fb9.atwKPhuhcbSthaXcK5RFvt5HMFyodcpaofwEZDLhGQmY3NB0B2Sdw4fv_1OfwvdCcSpMn_JMBD8_WML8NHDNKiJyLWSnSKVkjw6ArlaYQUcmiYVdHrYI3yBm1InZG5IJ0FaXgXrrLuJiLlqG7Ty50.HKFVN0Tm4cSpyIOFvypLsflHdhUL2Eaftp3Iczy9uC4I1pr4W785UoLGsYih0nWAmwKUPsyG1fJyOaTLpiq5YfqIyqcECaBSUQ.wpTAAjatgRXEpq_iehCrepAKFdn84s2VknfieHMQzZz2GdYlcmuqqgtbYcZB5g67hKIikZMoBUGxBrcxCoSIOLTBn9CaXX1vReItkMlCB0ipA.SMkhvMkEXGCA5KMJjtsqP8iUGLXFY7bWwqGJNYAJ0k6YLhasoCVqvfJGVlHeC3MFTwzPFOTX4FHNWVWjJVzX22SjjIsrbGk_Jfuy5su8qd0OB9UxPSDzaD23hc7AQXvquKXIKdy3zra2Hbdk4QNl3UVmjMF0XJEQ8bfK6SnHyBA5eK8VB2mBj7KPBSsX.ZoeFtmIzhMmmGoBQz.jmGJQ7I8jZYTACxT3McDZembieHwfPE1NCzkh.quMq.SqKseKFU7hQhNmr1605FIjpKiT0rGYYrPMJ.9R987K_88uJNNX_KuN4wuLdp.ebEBhpBVKhjJvyM0Y8cNrVRNo4EYNTnJAe1l_1rAJMGbOyS5RY0b.Ipi7d2d8BHlC0k87rvd2VuMbvrGiU4YJv7JX.jCOn9kmBIRVh1jojQ3JOLPxHMVuJOfE.pc3hSBJ38RDdwmcMT2xidb5dFxJEnQGOhSJqWAeP4DJhx4EFGFVZGLT0ds1oChTNFtp0O0etgVzos_HByQbdRx_5xjGpNVgcybQQ983Ytl.LN4IOdl5e0FM01MxxiG5E2Bi3fdiwLb0P5GlSBz0.tzDRpnLeHiVvBPxFwHcK09r4KMQHpNkytzp3XiO4KZUg55Zbi1YyNtXZ418BMAjXcCUQ_g5nVGaOa7oy46YeZnj.oCfPbgD6_8ZLZCY7Rqcjl9Pbu2nwSKCfK2Z1aV1qxu7U4h3Tq7YM.VlXXkylswoToAhihEn4u.7ZB9QtgAlA2ohcnOnRRARntfVQ71Nz8SZYEMPb1a35bErVWoZcpBbpHOsCzWCrXxUrH015q.cM8x9thp0uVe8dtX8Z1al1S8aPVKJZeSy2ryUh07Bn2JqMrTLhlzUHuN5VpPGq01ZY9RDgOcNp6hM9jyFu7SdKMicUY8qfXHCw6n4uk5KOpLD9A6jRtM0ownNmaHmp9qMN_bab6QCJQOf20NeiMTWW7xcK1hL4kcRZ5Y8iX1YAsREZGQISLWSCswHGlJtB.pHdq\",cRq: {ru: \\'aHR0cHM6Ly93d3cuaW5kZWVkLmNvbS9wYWdlYWQvY2xrP21vPXImYWQ9LTZOWWxiZmtOMER2NXkyVHpfWFRLSjVfRkFrVzN6cmpMSk9kMlRteUNaU1NHWkFJYjlxc0s3RUQ5TU16SmZqU1UydzBrcG9Od2NKYW1sNG9hZmV2Yi1vM1Vnc2tfZnJZbEdWRUJNb1BrcXhwOHdoTkpyNXRPRlFIRzhiRUZZMms1ODI2S1lMN1FlN1d4TGN4RnhQelNTdGt6UG8tNTRXZ2pFdFg2aXFwREhDZVplNkJUSzk4bnVUWjFqeHpKMm1VMmxCOFN5YVJ3RFRFNkVCT05tZmx2d3hNeXNQWXdabmRXYjBvdVFKS2ZPRExGZ1lDdDZHdlJzZEZRRmx2Z19YT2tpa0hVOU51THhsVFdnYkJPTUtNY3N6SFJWbWZQWHhPS3lNXzJJb1R3alZUMW9RSEg5bERvX1FuNzVXckhybnFrVnV6YVAzU0RaTXVBaTJ6endyWVI1eVBQZkRwdzZadk5pTDRueHpCU1VhSDRjYVEyaHVZT2pFWFJYNWFGdDlYVFpfZXFpcGFnS1pkdzM3UEpCaXlwRUV6bmpfa3pVRmt6V2p3VTZtM2c4dU9QMTQ4Ri0tT1ZHY3FhaWRwN3VyT2dsM3BwWERSbVVUZVZSN3FHRzU3V2JHZ0tTUnczem5QdGpFaWNTcmt1aDRXTzY3TXB5WU1IdVh2cWJVQWRCTXA4eHB6UHdsbWxOVkpweVpoOWYtd0pRSlZfZ1hTLWdBYU1BSzE0cDhCQ2h1X3VCN2pZS2piQmhXWFRhcW5XN0twM1YyZEt6OVlqSHdwNlNwVEpsMnN4WGxZWHdmUmN6OXgmeGtjYj1Tb0RtNl9NM0RsVDZxN1RlbmgwTGJ6a2RDZFBQJmNhbWs9NEhPY21xT0xZckNFZTNia3VzbHpOQT09JnA9MCZmdmo9MCZ2anM9Mw==\\',ra: \\'TW96aWxsYS81LjAgKFdpbmRvd3MgTlQgMTAuMDsgV2luNjQ7IHg2NCkgQXBwbGVXZWJLaXQvNTM3LjM2IChLSFRNTCwgbGlrZSBHZWNrbykgQ2hyb21lLzU4LjAuMzAyOS4xMTAgU2FmYXJpLzUzNy4z\\',rm: \\'R0VU\\',d: \\'mbFpnhGd1OQ6yBtXHefUj2UctT0bk6cyZgK9/x0pxXkBaCdR66yT93tqRxEbq9/9ewz9cSlNfZfUn4i5qfwTbtFJH38NTgVvx3yD152tl7AutAdt0R9bLHlWX1gmWFdOFl2A5mg0+xL4NIRMT2cs8vmNJiycP4E53FB6aBbd2PWx5zhUTIh9wWrdZ12vYayfIiNXI5zm5RbhkVfRFdaPjxACusG49pbOnfmwfxRiApKEBc8QDtXEXawSz7MUfTr65/dJSBscyoOWkuuq5cfKbKLzw7ujbIsWy/gjvSJrH20Dm+aBxSXDizcUThXTLH6FLaAmlSS4KyNQwd31sCoN1267xu9fysXsRC6yBU59cCQlUpDr0K4skLEYQ4W9PNRp9yi9ZMl2saKgfXIlhaAL6jcc7X2r0GqNSHJKwfYuz21bRBGcEUxmq96JYP2c962zGVv+KQLvkdLYalHf+CtdtPqleMqAn8CYmhkeLpvSvtf8Rtzm50C3FKZ6AXRv6+scjmuy908AUMJEdpy45M8+7EkACdqxHuGjyHGQrYfDFoPEcE1Vy0Ai1p9m2xP/AXendSuFdY2xi+5+eXNSh3bKpQ==\\',t: \\'MTcxMDk1OTk3MC43NjkwMDA=\\',cT: Math.floor(Date.now() / 1000),m: \\'FhNkRDhiR/QO0tOwy//anMgSXbkh2jYvcwfT+n7QMGc=\\',i1: \\'03QbZY6AUPOP7JpkYocxVA==\\',i2: \\'ocls/pRTY2fC2w/i3A9A1w==\\',zh: \\'2kfjrLYfAVNem19Lin3oP+VKo7ladb55se1eVtiLLnQ=\\',uh: \\'0C0u6AAowDJLu0DVVHR+OFYvZ2L4tzkp+TtciSyuCzE=\\',hh: \\'kscNdiThTx/CcYpUiV7EP4v/VgPxIHsoBIQQ6Rdzvmg=\\',}};var cpo = document.createElement(\\'script\\');cpo.src = \\'/cdn-cgi/challenge-platform/h/b/orchestrate/chl_page/v1?ray=8677d3493dee32b6\\';window._cf_chl_opt.cOgUHash = location.hash === \\'\\' && location.href.indexOf(\\'#\\') !== -1 ? \\'#\\' : location.hash;window._cf_chl_opt.cOgUQuery = location.search === \\'\\' && location.href.slice(0, location.href.length - window._cf_chl_opt.cOgUHash.length).indexOf(\\'?\\') !== -1 ? \\'?\\' : location.search;if (window.history && window.history.replaceState) {var ogU = location.pathname + window._cf_chl_opt.cOgUQuery + window._cf_chl_opt.cOgUHash;history.replaceState(null, null, \"\\\\/pagead\\\\/clk?mo=r&ad=-6NYlbfkN0Dv5y2Tz_XTKJ5_FAkW3zrjLJOd2TmyCZSSGZAIb9qsK7ED9MMzJfjSU2w0kpoNwcJaml4oafevb-o3Ugsk_frYlGVEBMoPkqxp8whNJr5tOFQHG8bEFY2k5826KYL7Qe7WxLcxFxPzSStkzPo-54WgjEtX6iqpDHCeZe6BTK98nuTZ1jxzJ2mU2lB8SyaRwDTE6EBONmflvwxMysPYwZndWb0ouQJKfODLFgYCt6GvRsdFQFlvg_XOkikHU9NuLxlTWgbBOMKMcszHRVmfPXxOKyM_2IoTwjVT1oQHH9lDo_Qn75WrHrnqkVuzaP3SDZMuAi2zzwrYR5yPPfDpw6ZvNiL4nxzBSUaH4caQ2huYOjEXRX5aFt9XTZ_eqipagKZdw37PJBiypEEznj_kzUFkzWjwU6m3g8uOP148F--OVGcqaidp7urOgl3ppXDRmUTeVR7qGG57WbGgKSRw3znPtjEicSrkuh4WO67MpyYMHuXvqbUAdBMp8xpzPwlmlNVJpyZh9f-wJQJV_gXS-gAaMAK14p8BChu_uB7jYKjbBhWXTaqnW7Kp3V2dKz9YjHwp6SpTJl2sxXlYXwfRcz9x&xkcb=SoDm6_M3DlT6q7Tenh0LbzkdCdPP&camk=4HOcmqOLYrCEe3bkuslzNA==&p=0&fvj=0&vjs=3&__cf_chl_rt_tk=Lt0ekVLWYaVx0qFCt5z_7S2DPSB7i53YXvhvoQlYgMM-1710959970-0.0.1.1-3455\" + window._cf_chl_opt.cOgUHash);cpo.onload = function() {history.replaceState(null, null, ogU);}}document.getElementsByTagName(\\'head\\')[0].appendChild(cpo);}());</script></body></html>'"
      ]
     },
     "execution_count": 29,
     "metadata": {},
     "output_type": "execute_result"
    }
   ],
   "source": [
    "proxies = {'http': 'http://10.10.1.10:3128'}\n",
    "response2 = requests.get(all_job_urls[0], headers=HEADERS, proxies=proxies)\n",
    "print(response2)\n",
    "response2.text"
   ]
  },
  {
   "cell_type": "code",
   "execution_count": 31,
   "metadata": {},
   "outputs": [],
   "source": [
    "from selenium import webdriver\n",
    "from selenium.webdriver.common.by import By\n",
    "from selenium.webdriver.support.ui import WebDriverWait\n",
    "from selenium.webdriver.support import expected_conditions as EC\n",
    "from selenium.webdriver.chrome.service import Service\n",
    "from webdriver_manager.chrome import ChromeDriverManager"
   ]
  },
  {
   "cell_type": "markdown",
   "metadata": {},
   "source": [
    "# simplyhired"
   ]
  },
  {
   "cell_type": "code",
   "execution_count": 32,
   "metadata": {},
   "outputs": [],
   "source": [
    "driver_path1 = \" /Users/masheng/Library/Python/3.11/lib/python/site-packages\"\n",
    "\n",
    "options = webdriver.ChromeOptions()\n",
    "options.add_argument(driver_path1)\n",
    "\n",
    "driver1 = webdriver.Chrome(options=options)"
   ]
  },
  {
   "cell_type": "code",
   "execution_count": 61,
   "metadata": {},
   "outputs": [],
   "source": [
    "driver1.get('https://www.simplyhired.com/search?q=data+scientist&l=')"
   ]
  },
  {
   "cell_type": "code",
   "execution_count": 73,
   "metadata": {},
   "outputs": [],
   "source": [
    "all_job_details = pd.DataFrame(columns=['job_title','benifits','qualifications','full job description'])"
   ]
  },
  {
   "cell_type": "code",
   "execution_count": 97,
   "metadata": {},
   "outputs": [],
   "source": [
    "next_job_card = driver1.find_element(By.CSS_SELECTOR, \"[class='chakra-button css-1djbb1k']\")"
   ]
  },
  {
   "cell_type": "code",
   "execution_count": 71,
   "metadata": {},
   "outputs": [],
   "source": [
    "num = 0\n",
    "page = 0"
   ]
  },
  {
   "cell_type": "code",
   "execution_count": 93,
   "metadata": {},
   "outputs": [
    {
     "name": "stdout",
     "output_type": "stream",
     "text": [
      "Manager, Model Validation\n",
      "['Paid time off', 'Volunteer time off']\n",
      "['Qualifications', 'Financial modeling', '5 years', 'R', 'Mathematics', 'Finance', \"Bachelor's degree\", 'Risk management', 'Quantitative analysis', 'SaaS', 'RMF', 'Communication skills', 'Python']\n",
      "Page 3 - Total 4 jobs fetched!\n",
      "Sr. Data Analyst Contractor, NextGen\n",
      "['Qualifications', 'Microsoft Excel', 'Merchandising', 'Supply chain', 'Process improvement', '3 years', 'SQL', 'Continuous improvement', 'Product management', 'Grocery store', 'Translation', 'Communication skills', 'Python', 'Analytics']\n",
      "Sr. Data Analyst Contractor, NextGen\n",
      "['Qualifications', 'Microsoft Excel', 'Merchandising', 'Supply chain', 'Process improvement', '3 years', 'SQL', 'Continuous improvement', 'Product management', 'Grocery store', 'Translation', 'Communication skills', 'Python', 'Analytics']\n",
      "Page 4 - Total 6 jobs fetched!\n",
      "Data Scientist\n",
      "['Qualifications', 'TensorFlow', 'Research laboratory experience', 'Computer science', '7 years', 'Computer Science', 'SAS', 'Bachelor of Science', 'Spark', 'Secret Clearance', \"Master's degree\", 'SQL', \"Bachelor's degree\", 'Machine learning', 'Data analytics', 'Kafka', 'Data science', 'Metadata', 'AI', 'Communication skills', 'Certified Analytics Professional', 'Analytics']\n",
      "Data Scientist\n",
      "['Qualifications', 'TensorFlow', 'Research laboratory experience', 'Computer science', '7 years', 'Computer Science', 'SAS', 'Bachelor of Science', 'Spark', 'Secret Clearance', \"Master's degree\", 'SQL', \"Bachelor's degree\", 'Machine learning', 'Data analytics', 'Kafka', 'Data science', 'Metadata', 'AI', 'Communication skills', 'Certified Analytics Professional', 'Analytics']\n",
      "Page 5 - Total 8 jobs fetched!\n"
     ]
    },
    {
     "ename": "KeyboardInterrupt",
     "evalue": "",
     "output_type": "error",
     "traceback": [
      "\u001b[0;31m---------------------------------------------------------------------------\u001b[0m",
      "\u001b[0;31mKeyboardInterrupt\u001b[0m                         Traceback (most recent call last)",
      "Cell \u001b[0;32mIn[93], line 5\u001b[0m\n\u001b[1;32m      3\u001b[0m job_card \u001b[38;5;241m=\u001b[39m next_job_card\n\u001b[1;32m      4\u001b[0m job_card\u001b[38;5;241m.\u001b[39mclick()\n\u001b[0;32m----> 5\u001b[0m \u001b[43mtime\u001b[49m\u001b[38;5;241;43m.\u001b[39;49m\u001b[43msleep\u001b[49m\u001b[43m(\u001b[49m\u001b[38;5;241;43m3\u001b[39;49m\u001b[43m)\u001b[49m\n\u001b[1;32m      7\u001b[0m \u001b[38;5;66;03m# try:\u001b[39;00m\n\u001b[1;32m      8\u001b[0m \u001b[38;5;66;03m#     useless_window = driver1.find_element(By.CLASS_NAME,'modal_main gdGrid css-1gy9wmw e8e8plt4')\u001b[39;00m\n\u001b[1;32m      9\u001b[0m \u001b[38;5;66;03m#     close = useless_window.find_element(By.CLASS_NAME,'SVGInline modal_closeIcon')\u001b[39;00m\n\u001b[0;32m   (...)\u001b[0m\n\u001b[1;32m     12\u001b[0m \u001b[38;5;66;03m# except:\u001b[39;00m\n\u001b[1;32m     13\u001b[0m \u001b[38;5;66;03m#     pass\u001b[39;00m\n\u001b[1;32m     15\u001b[0m job_details \u001b[38;5;241m=\u001b[39m pd\u001b[38;5;241m.\u001b[39mDataFrame({\n\u001b[1;32m     16\u001b[0m     \u001b[38;5;124m'\u001b[39m\u001b[38;5;124mjob_title\u001b[39m\u001b[38;5;124m'\u001b[39m:\u001b[38;5;28;01mNone\u001b[39;00m,\u001b[38;5;124m'\u001b[39m\u001b[38;5;124mbenifits\u001b[39m\u001b[38;5;124m'\u001b[39m:\u001b[38;5;28;01mNone\u001b[39;00m,\u001b[38;5;124m'\u001b[39m\u001b[38;5;124mqualifications\u001b[39m\u001b[38;5;124m'\u001b[39m:\u001b[38;5;28;01mNone\u001b[39;00m,\n\u001b[1;32m     17\u001b[0m     \u001b[38;5;124m'\u001b[39m\u001b[38;5;124mfull job description\u001b[39m\u001b[38;5;124m'\u001b[39m:\u001b[38;5;28;01mNone\u001b[39;00m}, index\u001b[38;5;241m=\u001b[39m[\u001b[38;5;241m0\u001b[39m])\n",
      "\u001b[0;31mKeyboardInterrupt\u001b[0m: "
     ]
    }
   ],
   "source": [
    "while True:\n",
    "    while next_job_card != None:\n",
    "        job_card = next_job_card\n",
    "        job_card.click()\n",
    "        time.sleep(3)\n",
    "\n",
    "        # try:\n",
    "        #     useless_window = driver1.find_element(By.CLASS_NAME,'modal_main gdGrid css-1gy9wmw e8e8plt4')\n",
    "        #     close = useless_window.find_element(By.CLASS_NAME,'SVGInline modal_closeIcon')\n",
    "        #     click = close.click()\n",
    "        #     time.sleep(2)\n",
    "        # except:\n",
    "        #     pass\n",
    "\n",
    "        job_details = pd.DataFrame({\n",
    "            'job_title':None,'benifits':None,'qualifications':None,\n",
    "            'full job description':None}, index=[0])\n",
    "\n",
    "        try:\n",
    "            job_title = driver1.find_element(By.CSS_SELECTOR, \"[class = 'chakra-stack css-1iblfv6']\")\n",
    "            job_title = job_title.text\n",
    "            print(job_title)\n",
    "            job_details['job_title'] = job_title\n",
    "        except:\n",
    "            pass\n",
    "        \n",
    "        try:\n",
    "            benifites = driver1.find_element(By.CSS_SELECTOR, \"[data-testid = 'viewJobBodyJobBenefits']\")\n",
    "            benifites = benifites.text.split(\"\\n\")\n",
    "            print(benifites)\n",
    "            job_details['benifits'] = benifites\n",
    "        except:\n",
    "            pass\n",
    "\n",
    "\n",
    "        try:\n",
    "            qualifications = driver1.find_element(By.CSS_SELECTOR, \"[data-testid = 'viewJobQualificationsContainer']\")\n",
    "            qualifications = qualifications.text.split(\"\\n\")\n",
    "            print(qualifications)\n",
    "            job_details['qualifications'] = qualifications\n",
    "        except:\n",
    "            pass\n",
    "\n",
    "        try:\n",
    "            full_job_description = driver1.find_element(By.CSS_SELECTOR, \"[data-testid = 'viewJobBodyJobFullDescriptionContent']\")\n",
    "            full_job_description = full_job_description.text\n",
    "            job_details['full job description'] = full_job_description\n",
    "        except:\n",
    "            pass\n",
    "\n",
    "\n",
    "        all_job_details = pd.concat([all_job_details,job_details],ignore_index=True)\n",
    "        num+=1\n",
    "\n",
    "        try:\n",
    "            next_job_card = job_card.find_element(By.CSS_SELECTOR, \"[class='chakra-button css-1djbb1k']\")\n",
    "        except:\n",
    "            next_job_card = None\n",
    "    \n",
    "    print(f\"Page {page} - Total {num} jobs fetched!\")\n",
    "    \n",
    "    try:\n",
    "        next_button = driver1.find_element(By.CSS_SELECTOR, \"[aria-label = 'Next page']\")\n",
    "        next_button.click()\n",
    "        time.sleep(5)\n",
    "        page+=1\n",
    "    except:\n",
    "        break\n",
    "\n",
    "    # try:\n",
    "    #     useless_window = driver1.find_element(By.CLASS_NAME,'modal_main gdGrid css-1gy9wmw e8e8plt4')\n",
    "    #     close = useless_window.find_element(By.CLASS_NAME,'SVGInline modal_closeIcon')\n",
    "    #     click = close.click()\n",
    "    #     time.sleep(2)\n",
    "    # except:\n",
    "    #     pass\n",
    "\n",
    "    next_job_card = driver1.find_element(By.CSS_SELECTOR, \"[data-testid='searchSerpJob']\")\n",
    "\n",
    "all_job_details"
   ]
  },
  {
   "cell_type": "code",
   "execution_count": 101,
   "metadata": {},
   "outputs": [],
   "source": [
    "# job_cards = driver1.find_elements(By.CSS_SELECTOR, \"[data-testid='searchSerpJob']\")\n",
    "job_urls = [i.find_element(By.TAG_NAME,'a').get_attribute('href') for i in job_card]"
   ]
  },
  {
   "cell_type": "code",
   "execution_count": 105,
   "metadata": {},
   "outputs": [],
   "source": [
    "all_job_urls = []"
   ]
  },
  {
   "cell_type": "code",
   "execution_count": 106,
   "metadata": {},
   "outputs": [
    {
     "name": "stdout",
     "output_type": "stream",
     "text": [
      "Page 0 : 20 - Total 20 jobs fetched!\n",
      "Page 1 : 40 - Total 40 jobs fetched!\n",
      "Page 2 : 60 - Total 60 jobs fetched!\n",
      "Page 3 : 80 - Total 80 jobs fetched!\n",
      "Page 4 : 100 - Total 100 jobs fetched!\n",
      "Page 5 : 120 - Total 120 jobs fetched!\n",
      "Page 6 : 140 - Total 140 jobs fetched!\n",
      "Page 7 : 160 - Total 160 jobs fetched!\n",
      "Page 8 : 180 - Total 180 jobs fetched!\n",
      "Page 9 : 200 - Total 200 jobs fetched!\n",
      "Page 10 : 220 - Total 220 jobs fetched!\n",
      "Page 11 : 240 - Total 240 jobs fetched!\n",
      "Page 12 : 260 - Total 260 jobs fetched!\n",
      "Page 13 : 280 - Total 280 jobs fetched!\n",
      "Page 14 : 300 - Total 300 jobs fetched!\n",
      "Page 15 : 320 - Total 320 jobs fetched!\n",
      "Page 16 : 340 - Total 340 jobs fetched!\n",
      "Page 17 : 360 - Total 360 jobs fetched!\n",
      "Page 18 : 380 - Total 380 jobs fetched!\n",
      "Page 19 : 400 - Total 400 jobs fetched!\n",
      "Page 20 : 420 - Total 420 jobs fetched!\n",
      "Page 21 : 440 - Total 440 jobs fetched!\n",
      "Page 22 : 460 - Total 460 jobs fetched!\n",
      "Page 23 : 480 - Total 480 jobs fetched!\n",
      "Page 24 : 500 - Total 500 jobs fetched!\n",
      "Page 25 : 520 - Total 520 jobs fetched!\n",
      "Page 26 : 540 - Total 540 jobs fetched!\n",
      "Page 27 : 560 - Total 560 jobs fetched!\n",
      "Page 28 : 580 - Total 580 jobs fetched!\n",
      "Page 29 : 600 - Total 600 jobs fetched!\n",
      "Page 30 : 620 - Total 620 jobs fetched!\n",
      "Page 31 : 640 - Total 640 jobs fetched!\n",
      "Page 32 : 660 - Total 660 jobs fetched!\n",
      "Page 33 : 680 - Total 680 jobs fetched!\n",
      "Page 34 : 700 - Total 700 jobs fetched!\n",
      "Page 35 : 720 - Total 720 jobs fetched!\n",
      "Page 36 : 740 - Total 740 jobs fetched!\n",
      "Page 37 : 760 - Total 760 jobs fetched!\n",
      "Page 38 : 780 - Total 780 jobs fetched!\n",
      "Page 39 : 800 - Total 800 jobs fetched!\n",
      "Page 40 : 820 - Total 820 jobs fetched!\n",
      "Page 41 : 840 - Total 840 jobs fetched!\n",
      "Page 42 : 860 - Total 860 jobs fetched!\n",
      "Page 43 : 880 - Total 880 jobs fetched!\n",
      "Page 44 : 900 - Total 900 jobs fetched!\n",
      "Page 45 : 920 - Total 920 jobs fetched!\n",
      "Page 46 : 940 - Total 940 jobs fetched!\n",
      "Page 47 : 960 - Total 960 jobs fetched!\n",
      "Page 48 : 980 - Total 980 jobs fetched!\n",
      "Page 49 : 1000 - Total 1000 jobs fetched!\n",
      "Page 50 : 1020 - Total 1020 jobs fetched!\n",
      "Page 51 : 1040 - Total 1040 jobs fetched!\n",
      "Page 52 : 1060 - Total 1060 jobs fetched!\n",
      "Page 53 : 1080 - Total 1080 jobs fetched!\n",
      "Page 54 : 1100 - Total 1100 jobs fetched!\n",
      "Page 55 : 1120 - Total 1120 jobs fetched!\n",
      "Page 56 : 1140 - Total 1140 jobs fetched!\n",
      "Page 57 : 1160 - Total 1160 jobs fetched!\n",
      "Page 58 : 1180 - Total 1180 jobs fetched!\n",
      "Page 59 : 1200 - Total 1200 jobs fetched!\n",
      "Page 60 : 1220 - Total 1220 jobs fetched!\n",
      "Page 61 : 1240 - Total 1240 jobs fetched!\n",
      "Page 62 : 1260 - Total 1260 jobs fetched!\n",
      "Page 63 : 1280 - Total 1280 jobs fetched!\n",
      "Page 64 : 1300 - Total 1300 jobs fetched!\n",
      "Page 65 : 1320 - Total 1320 jobs fetched!\n",
      "Page 66 : 1340 - Total 1340 jobs fetched!\n",
      "Page 67 : 1360 - Total 1360 jobs fetched!\n",
      "Page 68 : 1380 - Total 1380 jobs fetched!\n",
      "Page 69 : 1400 - Total 1400 jobs fetched!\n",
      "Page 70 : 1420 - Total 1420 jobs fetched!\n",
      "Page 71 : 1440 - Total 1440 jobs fetched!\n",
      "Page 72 : 1460 - Total 1460 jobs fetched!\n",
      "Page 73 : 1480 - Total 1480 jobs fetched!\n",
      "Page 74 : 1500 - Total 1500 jobs fetched!\n",
      "Page 75 : 1520 - Total 1520 jobs fetched!\n",
      "Page 76 : 1540 - Total 1540 jobs fetched!\n",
      "Page 77 : 1560 - Total 1560 jobs fetched!\n",
      "Page 78 : 1580 - Total 1580 jobs fetched!\n",
      "Page 79 : 1600 - Total 1600 jobs fetched!\n",
      "Page 80 : 1620 - Total 1620 jobs fetched!\n",
      "Page 81 : 1640 - Total 1640 jobs fetched!\n",
      "Page 82 : 1660 - Total 1660 jobs fetched!\n",
      "Page 83 : 1680 - Total 1680 jobs fetched!\n",
      "Page 84 : 1700 - Total 1700 jobs fetched!\n",
      "Page 85 : 1720 - Total 1720 jobs fetched!\n",
      "Page 86 : 1740 - Total 1740 jobs fetched!\n",
      "Page 87 : 1760 - Total 1760 jobs fetched!\n",
      "Page 88 : 1780 - Total 1780 jobs fetched!\n",
      "Page 89 : 1800 - Total 1800 jobs fetched!\n",
      "Page 90 : 1820 - Total 1820 jobs fetched!\n",
      "Page 91 : 1840 - Total 1840 jobs fetched!\n",
      "Page 92 : 1860 - Total 1860 jobs fetched!\n",
      "Page 93 : 1880 - Total 1880 jobs fetched!\n",
      "Page 94 : 1900 - Total 1900 jobs fetched!\n",
      "Page 95 : 1920 - Total 1920 jobs fetched!\n",
      "Page 96 : 1940 - Total 1940 jobs fetched!\n",
      "Page 97 : 1960 - Total 1960 jobs fetched!\n",
      "Page 98 : 1980 - Total 1980 jobs fetched!\n",
      "Page 99 : 2000 - Total 2000 jobs fetched!\n",
      "Page 100 : 2020 - Total 2020 jobs fetched!\n",
      "Page 101 : 2040 - Total 2040 jobs fetched!\n",
      "Page 102 : 2060 - Total 2060 jobs fetched!\n",
      "Page 103 : 2080 - Total 2080 jobs fetched!\n",
      "Page 104 : 2100 - Total 2100 jobs fetched!\n",
      "Page 105 : 2120 - Total 2120 jobs fetched!\n",
      "Page 106 : 2140 - Total 2140 jobs fetched!\n",
      "Page 107 : 2160 - Total 2160 jobs fetched!\n",
      "Page 108 : 2180 - Total 2180 jobs fetched!\n",
      "Page 109 : 2200 - Total 2200 jobs fetched!\n",
      "Page 110 : 2220 - Total 2220 jobs fetched!\n",
      "Page 111 : 2240 - Total 2240 jobs fetched!\n",
      "Page 112 : 2260 - Total 2260 jobs fetched!\n",
      "Page 113 : 2280 - Total 2280 jobs fetched!\n",
      "Page 114 : 2300 - Total 2300 jobs fetched!\n",
      "Page 115 : 2320 - Total 2320 jobs fetched!\n",
      "Page 116 : 2340 - Total 2340 jobs fetched!\n",
      "Page 117 : 2360 - Total 2360 jobs fetched!\n",
      "Page 118 : 2380 - Total 2380 jobs fetched!\n",
      "Page 119 : 2400 - Total 2400 jobs fetched!\n",
      "Page 120 : 2420 - Total 2420 jobs fetched!\n",
      "Page 121 : 2440 - Total 2440 jobs fetched!\n",
      "Page 122 : 2460 - Total 2460 jobs fetched!\n",
      "Page 123 : 2480 - Total 2480 jobs fetched!\n",
      "Page 124 : 2500 - Total 2500 jobs fetched!\n",
      "Page 125 : 2520 - Total 2520 jobs fetched!\n",
      "Page 126 : 2540 - Total 2540 jobs fetched!\n",
      "Page 127 : 2560 - Total 2560 jobs fetched!\n",
      "Page 128 : 2580 - Total 2580 jobs fetched!\n",
      "Page 129 : 2600 - Total 2600 jobs fetched!\n",
      "Page 130 : 2620 - Total 2620 jobs fetched!\n",
      "Page 131 : 2640 - Total 2640 jobs fetched!\n",
      "Page 132 : 2660 - Total 2660 jobs fetched!\n",
      "Page 133 : 2680 - Total 2680 jobs fetched!\n",
      "Page 134 : 2700 - Total 2700 jobs fetched!\n",
      "Page 135 : 2720 - Total 2720 jobs fetched!\n",
      "Page 136 : 2740 - Total 2740 jobs fetched!\n",
      "Page 137 : 2760 - Total 2760 jobs fetched!\n",
      "Page 138 : 2780 - Total 2780 jobs fetched!\n",
      "Page 139 : 2800 - Total 2800 jobs fetched!\n",
      "Page 140 : 2820 - Total 2820 jobs fetched!\n",
      "Page 141 : 2840 - Total 2840 jobs fetched!\n",
      "Page 142 : 2860 - Total 2860 jobs fetched!\n",
      "Page 143 : 2880 - Total 2880 jobs fetched!\n",
      "Page 144 : 2900 - Total 2900 jobs fetched!\n",
      "Page 145 : 2920 - Total 2920 jobs fetched!\n",
      "Page 146 : 2940 - Total 2940 jobs fetched!\n",
      "Page 147 : 2960 - Total 2960 jobs fetched!\n",
      "Page 148 : 2980 - Total 2980 jobs fetched!\n",
      "Page 149 : 3000 - Total 3000 jobs fetched!\n",
      "Page 150 : 3020 - Total 3020 jobs fetched!\n",
      "Page 151 : 3040 - Total 3040 jobs fetched!\n",
      "Page 152 : 3060 - Total 3060 jobs fetched!\n",
      "Page 153 : 3080 - Total 3080 jobs fetched!\n",
      "Page 154 : 3100 - Total 3100 jobs fetched!\n",
      "Page 155 : 3120 - Total 3120 jobs fetched!\n",
      "Page 156 : 3140 - Total 3140 jobs fetched!\n",
      "Page 157 : 3160 - Total 3160 jobs fetched!\n",
      "Page 158 : 3180 - Total 3180 jobs fetched!\n",
      "Page 159 : 3200 - Total 3200 jobs fetched!\n",
      "Page 160 : 3220 - Total 3220 jobs fetched!\n",
      "Page 161 : 3240 - Total 3240 jobs fetched!\n",
      "Page 162 : 3260 - Total 3260 jobs fetched!\n",
      "Page 163 : 3280 - Total 3280 jobs fetched!\n",
      "Page 164 : 3300 - Total 3300 jobs fetched!\n",
      "Page 165 : 3320 - Total 3320 jobs fetched!\n",
      "Page 166 : 3340 - Total 3340 jobs fetched!\n",
      "Page 167 : 3360 - Total 3360 jobs fetched!\n",
      "Page 168 : 3380 - Total 3380 jobs fetched!\n",
      "Page 169 : 3400 - Total 3400 jobs fetched!\n",
      "Page 170 : 3420 - Total 3420 jobs fetched!\n",
      "Page 171 : 3440 - Total 3440 jobs fetched!\n",
      "Page 172 : 3460 - Total 3460 jobs fetched!\n",
      "Page 173 : 3480 - Total 3480 jobs fetched!\n",
      "Page 174 : 3500 - Total 3500 jobs fetched!\n",
      "Page 175 : 3520 - Total 3520 jobs fetched!\n",
      "Page 176 : 3540 - Total 3540 jobs fetched!\n",
      "Page 177 : 3560 - Total 3560 jobs fetched!\n",
      "Page 178 : 3580 - Total 3580 jobs fetched!\n",
      "Page 179 : 3600 - Total 3600 jobs fetched!\n",
      "Page 180 : 3620 - Total 3620 jobs fetched!\n",
      "Page 181 : 3640 - Total 3640 jobs fetched!\n",
      "Page 182 : 3660 - Total 3660 jobs fetched!\n",
      "Page 183 : 3680 - Total 3680 jobs fetched!\n",
      "Page 184 : 3700 - Total 3700 jobs fetched!\n",
      "Page 185 : 3720 - Total 3720 jobs fetched!\n",
      "Page 186 : 3740 - Total 3740 jobs fetched!\n",
      "Page 187 : 3760 - Total 3760 jobs fetched!\n",
      "Page 188 : 3780 - Total 3780 jobs fetched!\n",
      "Page 189 : 3800 - Total 3800 jobs fetched!\n",
      "Page 190 : 3820 - Total 3820 jobs fetched!\n",
      "Page 191 : 3840 - Total 3840 jobs fetched!\n",
      "Page 192 : 3860 - Total 3860 jobs fetched!\n",
      "Page 193 : 3880 - Total 3880 jobs fetched!\n",
      "Page 194 : 3900 - Total 3900 jobs fetched!\n",
      "Page 195 : 3920 - Total 3920 jobs fetched!\n",
      "Page 196 : 3940 - Total 3940 jobs fetched!\n",
      "Page 197 : 3960 - Total 3960 jobs fetched!\n",
      "Page 198 : 3980 - Total 3980 jobs fetched!\n",
      "Page 199 : 4000 - Total 4000 jobs fetched!\n",
      "Page 200 : 4020 - Total 4020 jobs fetched!\n",
      "Page 201 : 4040 - Total 4040 jobs fetched!\n",
      "Page 202 : 4060 - Total 4060 jobs fetched!\n",
      "Page 203 : 4080 - Total 4080 jobs fetched!\n",
      "Page 204 : 4100 - Total 4100 jobs fetched!\n",
      "Page 205 : 4120 - Total 4120 jobs fetched!\n",
      "Page 206 : 4140 - Total 4140 jobs fetched!\n",
      "Page 207 : 4160 - Total 4160 jobs fetched!\n",
      "Page 208 : 4180 - Total 4180 jobs fetched!\n",
      "Page 209 : 4200 - Total 4200 jobs fetched!\n",
      "Page 210 : 4220 - Total 4220 jobs fetched!\n",
      "Page 211 : 4240 - Total 4240 jobs fetched!\n",
      "Page 212 : 4260 - Total 4260 jobs fetched!\n",
      "Page 213 : 4280 - Total 4280 jobs fetched!\n",
      "Page 214 : 4300 - Total 4300 jobs fetched!\n",
      "Page 215 : 4320 - Total 4320 jobs fetched!\n",
      "Page 216 : 4340 - Total 4340 jobs fetched!\n",
      "Page 217 : 4360 - Total 4360 jobs fetched!\n",
      "Page 218 : 4380 - Total 4380 jobs fetched!\n",
      "Page 219 : 4400 - Total 4400 jobs fetched!\n",
      "Page 220 : 4420 - Total 4420 jobs fetched!\n",
      "Page 221 : 4440 - Total 4440 jobs fetched!\n",
      "Page 222 : 4460 - Total 4460 jobs fetched!\n",
      "Page 223 : 4480 - Total 4480 jobs fetched!\n",
      "Page 224 : 4500 - Total 4500 jobs fetched!\n",
      "Page 225 : 4520 - Total 4520 jobs fetched!\n",
      "Page 226 : 4540 - Total 4540 jobs fetched!\n",
      "Page 227 : 4560 - Total 4560 jobs fetched!\n",
      "Page 228 : 4580 - Total 4580 jobs fetched!\n",
      "Page 229 : 4600 - Total 4600 jobs fetched!\n",
      "Page 230 : 4620 - Total 4620 jobs fetched!\n",
      "Page 231 : 4640 - Total 4640 jobs fetched!\n",
      "Page 232 : 4660 - Total 4660 jobs fetched!\n",
      "Page 233 : 4680 - Total 4680 jobs fetched!\n",
      "Page 234 : 4700 - Total 4700 jobs fetched!\n",
      "Page 235 : 4720 - Total 4720 jobs fetched!\n",
      "Page 236 : 4740 - Total 4740 jobs fetched!\n",
      "Page 237 : 4760 - Total 4760 jobs fetched!\n",
      "Page 238 : 4780 - Total 4780 jobs fetched!\n",
      "Page 239 : 4800 - Total 4800 jobs fetched!\n",
      "Page 240 : 4820 - Total 4820 jobs fetched!\n",
      "Page 241 : 4840 - Total 4840 jobs fetched!\n",
      "Page 242 : 4860 - Total 4860 jobs fetched!\n",
      "Page 243 : 4880 - Total 4880 jobs fetched!\n",
      "Page 244 : 4900 - Total 4900 jobs fetched!\n",
      "Page 245 : 4920 - Total 4920 jobs fetched!\n",
      "Page 246 : 4940 - Total 4940 jobs fetched!\n",
      "Page 247 : 4960 - Total 4960 jobs fetched!\n",
      "Page 248 : 4980 - Total 4980 jobs fetched!\n",
      "Page 249 : 5000 - Total 5000 jobs fetched!\n",
      "Page 250 : 5020 - Total 5020 jobs fetched!\n",
      "Page 251 : 5040 - Total 5040 jobs fetched!\n",
      "Page 252 : 5060 - Total 5060 jobs fetched!\n",
      "Page 253 : 5080 - Total 5080 jobs fetched!\n",
      "Page 254 : 5100 - Total 5100 jobs fetched!\n",
      "Page 255 : 5120 - Total 5120 jobs fetched!\n",
      "Page 256 : 5140 - Total 5140 jobs fetched!\n",
      "Page 257 : 5160 - Total 5160 jobs fetched!\n",
      "Page 258 : 5180 - Total 5180 jobs fetched!\n",
      "Page 259 : 5200 - Total 5200 jobs fetched!\n",
      "Page 260 : 5220 - Total 5220 jobs fetched!\n",
      "Page 261 : 5240 - Total 5240 jobs fetched!\n",
      "Page 262 : 5260 - Total 5260 jobs fetched!\n",
      "Page 263 : 5280 - Total 5280 jobs fetched!\n",
      "Page 264 : 5300 - Total 5300 jobs fetched!\n",
      "Page 265 : 5320 - Total 5320 jobs fetched!\n",
      "Page 266 : 5340 - Total 5340 jobs fetched!\n",
      "Page 267 : 5360 - Total 5360 jobs fetched!\n",
      "Page 268 : 5380 - Total 5380 jobs fetched!\n",
      "Page 269 : 5400 - Total 5400 jobs fetched!\n",
      "Page 270 : 5420 - Total 5420 jobs fetched!\n",
      "Page 271 : 5440 - Total 5440 jobs fetched!\n",
      "Page 272 : 5460 - Total 5460 jobs fetched!\n",
      "Page 273 : 5480 - Total 5480 jobs fetched!\n",
      "Page 274 : 5500 - Total 5500 jobs fetched!\n",
      "Page 275 : 5520 - Total 5520 jobs fetched!\n",
      "Page 276 : 5540 - Total 5540 jobs fetched!\n",
      "Page 277 : 5560 - Total 5560 jobs fetched!\n",
      "Page 278 : 5580 - Total 5580 jobs fetched!\n",
      "Page 279 : 5600 - Total 5600 jobs fetched!\n",
      "Page 280 : 5620 - Total 5620 jobs fetched!\n",
      "Page 281 : 5640 - Total 5640 jobs fetched!\n",
      "Page 282 : 5660 - Total 5660 jobs fetched!\n",
      "Page 283 : 5680 - Total 5680 jobs fetched!\n",
      "Page 284 : 5700 - Total 5700 jobs fetched!\n",
      "Page 285 : 5720 - Total 5720 jobs fetched!\n",
      "Page 286 : 5740 - Total 5740 jobs fetched!\n",
      "Page 287 : 5760 - Total 5760 jobs fetched!\n",
      "Page 288 : 5780 - Total 5780 jobs fetched!\n",
      "Page 289 : 5800 - Total 5800 jobs fetched!\n",
      "Page 290 : 5820 - Total 5820 jobs fetched!\n",
      "Page 291 : 5840 - Total 5840 jobs fetched!\n",
      "Page 292 : 5860 - Total 5860 jobs fetched!\n",
      "Page 293 : 5880 - Total 5880 jobs fetched!\n",
      "Page 294 : 5900 - Total 5900 jobs fetched!\n",
      "Page 295 : 5920 - Total 5920 jobs fetched!\n",
      "Page 296 : 5940 - Total 5940 jobs fetched!\n",
      "Page 297 : 5960 - Total 5960 jobs fetched!\n",
      "Page 298 : 5980 - Total 5980 jobs fetched!\n",
      "Page 299 : 6000 - Total 6000 jobs fetched!\n",
      "Page 300 : 6020 - Total 6020 jobs fetched!\n",
      "Page 301 : 6040 - Total 6040 jobs fetched!\n",
      "Page 302 : 6060 - Total 6060 jobs fetched!\n",
      "Page 303 : 6080 - Total 6080 jobs fetched!\n",
      "Page 304 : 6100 - Total 6100 jobs fetched!\n",
      "Page 305 : 6120 - Total 6120 jobs fetched!\n",
      "Page 306 : 6140 - Total 6140 jobs fetched!\n",
      "Page 307 : 6160 - Total 6160 jobs fetched!\n",
      "Page 308 : 6180 - Total 6180 jobs fetched!\n",
      "Page 309 : 6200 - Total 6200 jobs fetched!\n",
      "Page 310 : 6220 - Total 6220 jobs fetched!\n",
      "Page 311 : 6240 - Total 6240 jobs fetched!\n",
      "Page 312 : 6260 - Total 6260 jobs fetched!\n",
      "Page 313 : 6280 - Total 6280 jobs fetched!\n",
      "Page 314 : 6300 - Total 6300 jobs fetched!\n",
      "Page 315 : 6320 - Total 6320 jobs fetched!\n",
      "Page 316 : 6340 - Total 6340 jobs fetched!\n",
      "Page 317 : 6360 - Total 6360 jobs fetched!\n",
      "Page 318 : 6380 - Total 6380 jobs fetched!\n",
      "Page 319 : 6400 - Total 6400 jobs fetched!\n",
      "Page 320 : 6420 - Total 6420 jobs fetched!\n",
      "Page 321 : 6440 - Total 6440 jobs fetched!\n",
      "Page 322 : 6460 - Total 6460 jobs fetched!\n",
      "Page 323 : 6480 - Total 6480 jobs fetched!\n",
      "Page 324 : 6500 - Total 6500 jobs fetched!\n",
      "Page 325 : 6520 - Total 6520 jobs fetched!\n",
      "Page 326 : 6540 - Total 6540 jobs fetched!\n",
      "Page 327 : 6560 - Total 6560 jobs fetched!\n",
      "Page 328 : 6580 - Total 6580 jobs fetched!\n",
      "Page 329 : 6600 - Total 6600 jobs fetched!\n",
      "Page 330 : 6620 - Total 6620 jobs fetched!\n",
      "Page 331 : 6640 - Total 6640 jobs fetched!\n",
      "Page 332 : 6660 - Total 6660 jobs fetched!\n",
      "Page 333 : 6680 - Total 6680 jobs fetched!\n",
      "Page 334 : 6700 - Total 6700 jobs fetched!\n",
      "Page 335 : 6720 - Total 6720 jobs fetched!\n",
      "Page 336 : 6740 - Total 6740 jobs fetched!\n",
      "Page 337 : 6760 - Total 6760 jobs fetched!\n",
      "Page 338 : 6780 - Total 6780 jobs fetched!\n",
      "Page 339 : 6800 - Total 6800 jobs fetched!\n",
      "Page 340 : 6820 - Total 6820 jobs fetched!\n",
      "Page 341 : 6840 - Total 6840 jobs fetched!\n",
      "Page 342 : 6860 - Total 6860 jobs fetched!\n",
      "Page 343 : 6880 - Total 6880 jobs fetched!\n",
      "Page 344 : 6900 - Total 6900 jobs fetched!\n",
      "Page 345 : 6920 - Total 6920 jobs fetched!\n",
      "Page 346 : 6940 - Total 6940 jobs fetched!\n",
      "Page 347 : 6960 - Total 6960 jobs fetched!\n",
      "Page 348 : 6980 - Total 6980 jobs fetched!\n",
      "Page 349 : 7000 - Total 7000 jobs fetched!\n",
      "Page 350 : 7020 - Total 7020 jobs fetched!\n",
      "Page 351 : 7040 - Total 7040 jobs fetched!\n",
      "Page 352 : 7060 - Total 7060 jobs fetched!\n",
      "Page 353 : 7080 - Total 7080 jobs fetched!\n",
      "Page 354 : 7100 - Total 7100 jobs fetched!\n",
      "Page 355 : 7120 - Total 7120 jobs fetched!\n",
      "Page 356 : 7140 - Total 7140 jobs fetched!\n",
      "Page 357 : 7160 - Total 7160 jobs fetched!\n",
      "Page 358 : 7180 - Total 7180 jobs fetched!\n",
      "Page 359 : 7200 - Total 7200 jobs fetched!\n",
      "Page 360 : 7220 - Total 7220 jobs fetched!\n",
      "Page 361 : 7240 - Total 7240 jobs fetched!\n",
      "Page 362 : 7260 - Total 7260 jobs fetched!\n",
      "Page 363 : 7280 - Total 7280 jobs fetched!\n",
      "Page 364 : 7300 - Total 7300 jobs fetched!\n",
      "Page 365 : 7320 - Total 7320 jobs fetched!\n",
      "Page 366 : 7340 - Total 7340 jobs fetched!\n",
      "Page 367 : 7360 - Total 7360 jobs fetched!\n",
      "Page 368 : 7380 - Total 7380 jobs fetched!\n",
      "Page 369 : 7400 - Total 7400 jobs fetched!\n",
      "Page 370 : 7420 - Total 7420 jobs fetched!\n",
      "Page 371 : 7440 - Total 7440 jobs fetched!\n",
      "Page 372 : 7460 - Total 7460 jobs fetched!\n",
      "Page 373 : 7480 - Total 7480 jobs fetched!\n",
      "Page 374 : 7500 - Total 7500 jobs fetched!\n",
      "Page 375 : 7520 - Total 7520 jobs fetched!\n",
      "Page 376 : 7540 - Total 7540 jobs fetched!\n",
      "Page 377 : 7560 - Total 7560 jobs fetched!\n",
      "Page 378 : 7580 - Total 7580 jobs fetched!\n",
      "Page 379 : 7600 - Total 7600 jobs fetched!\n",
      "Page 380 : 7620 - Total 7620 jobs fetched!\n",
      "Page 381 : 7640 - Total 7640 jobs fetched!\n",
      "Page 382 : 7660 - Total 7660 jobs fetched!\n",
      "Page 383 : 7680 - Total 7680 jobs fetched!\n",
      "Page 384 : 7700 - Total 7700 jobs fetched!\n",
      "Page 385 : 7720 - Total 7720 jobs fetched!\n",
      "Page 386 : 7740 - Total 7740 jobs fetched!\n",
      "Page 387 : 7760 - Total 7760 jobs fetched!\n",
      "Page 388 : 7780 - Total 7780 jobs fetched!\n",
      "Page 389 : 7800 - Total 7800 jobs fetched!\n",
      "Page 390 : 7820 - Total 7820 jobs fetched!\n",
      "Page 391 : 7840 - Total 7840 jobs fetched!\n",
      "Page 392 : 7860 - Total 7860 jobs fetched!\n",
      "Page 393 : 7880 - Total 7880 jobs fetched!\n",
      "Page 394 : 7900 - Total 7900 jobs fetched!\n",
      "Page 395 : 7920 - Total 7920 jobs fetched!\n",
      "Page 396 : 7940 - Total 7940 jobs fetched!\n",
      "Page 397 : 7960 - Total 7960 jobs fetched!\n",
      "Page 398 : 7980 - Total 7980 jobs fetched!\n",
      "Page 399 : 8000 - Total 8000 jobs fetched!\n",
      "Page 400 : 8020 - Total 8020 jobs fetched!\n",
      "Page 401 : 8040 - Total 8040 jobs fetched!\n",
      "Page 402 : 8060 - Total 8060 jobs fetched!\n",
      "Page 403 : 8080 - Total 8080 jobs fetched!\n",
      "Page 404 : 8100 - Total 8100 jobs fetched!\n",
      "Page 405 : 8120 - Total 8120 jobs fetched!\n",
      "Page 406 : 8140 - Total 8140 jobs fetched!\n",
      "Page 407 : 8160 - Total 8160 jobs fetched!\n",
      "Page 408 : 8180 - Total 8180 jobs fetched!\n",
      "Page 409 : 8200 - Total 8200 jobs fetched!\n",
      "Page 410 : 8220 - Total 8220 jobs fetched!\n",
      "Page 411 : 8240 - Total 8240 jobs fetched!\n",
      "Page 412 : 8260 - Total 8260 jobs fetched!\n",
      "Page 413 : 8280 - Total 8280 jobs fetched!\n",
      "Page 414 : 8300 - Total 8300 jobs fetched!\n",
      "Page 415 : 8320 - Total 8320 jobs fetched!\n",
      "Page 416 : 8340 - Total 8340 jobs fetched!\n",
      "Page 417 : 8360 - Total 8360 jobs fetched!\n",
      "Page 418 : 8380 - Total 8380 jobs fetched!\n",
      "Page 419 : 8400 - Total 8400 jobs fetched!\n",
      "Page 420 : 8420 - Total 8420 jobs fetched!\n",
      "Page 421 : 8440 - Total 8440 jobs fetched!\n",
      "Page 422 : 8460 - Total 8460 jobs fetched!\n",
      "Page 423 : 8480 - Total 8480 jobs fetched!\n",
      "Page 424 : 8500 - Total 8500 jobs fetched!\n",
      "Page 425 : 8520 - Total 8520 jobs fetched!\n",
      "Page 426 : 8540 - Total 8540 jobs fetched!\n",
      "Page 427 : 8560 - Total 8560 jobs fetched!\n",
      "Page 428 : 8580 - Total 8580 jobs fetched!\n",
      "Page 429 : 8600 - Total 8600 jobs fetched!\n",
      "Page 430 : 8620 - Total 8620 jobs fetched!\n",
      "Page 431 : 8640 - Total 8640 jobs fetched!\n",
      "Page 432 : 8660 - Total 8660 jobs fetched!\n",
      "Page 433 : 8680 - Total 8680 jobs fetched!\n",
      "Page 434 : 8700 - Total 8700 jobs fetched!\n",
      "Page 435 : 8720 - Total 8720 jobs fetched!\n",
      "Page 436 : 8740 - Total 8740 jobs fetched!\n",
      "Page 437 : 8760 - Total 8760 jobs fetched!\n",
      "Page 438 : 8780 - Total 8780 jobs fetched!\n",
      "Page 439 : 8800 - Total 8800 jobs fetched!\n",
      "Page 440 : 8820 - Total 8820 jobs fetched!\n",
      "Page 441 : 8840 - Total 8840 jobs fetched!\n",
      "Page 442 : 8860 - Total 8860 jobs fetched!\n",
      "Page 443 : 8880 - Total 8880 jobs fetched!\n",
      "Page 444 : 8900 - Total 8900 jobs fetched!\n",
      "Page 445 : 8920 - Total 8920 jobs fetched!\n",
      "Page 446 : 8940 - Total 8940 jobs fetched!\n",
      "Page 447 : 8960 - Total 8960 jobs fetched!\n",
      "Page 448 : 8980 - Total 8980 jobs fetched!\n",
      "Page 449 : 9000 - Total 9000 jobs fetched!\n",
      "Page 450 : 9020 - Total 9020 jobs fetched!\n",
      "Page 451 : 9040 - Total 9040 jobs fetched!\n",
      "Page 452 : 9060 - Total 9060 jobs fetched!\n",
      "Page 453 : 9080 - Total 9080 jobs fetched!\n",
      "Page 454 : 9100 - Total 9100 jobs fetched!\n",
      "Page 455 : 9120 - Total 9120 jobs fetched!\n",
      "Page 456 : 9140 - Total 9140 jobs fetched!\n",
      "Page 457 : 9160 - Total 9160 jobs fetched!\n",
      "Page 458 : 9180 - Total 9180 jobs fetched!\n",
      "Page 459 : 9200 - Total 9200 jobs fetched!\n",
      "Page 460 : 9220 - Total 9220 jobs fetched!\n",
      "Page 461 : 9240 - Total 9240 jobs fetched!\n",
      "Page 462 : 9260 - Total 9260 jobs fetched!\n",
      "Page 463 : 9280 - Total 9280 jobs fetched!\n",
      "Page 464 : 9300 - Total 9300 jobs fetched!\n",
      "Page 465 : 9320 - Total 9320 jobs fetched!\n",
      "Page 466 : 9340 - Total 9340 jobs fetched!\n",
      "Page 467 : 9360 - Total 9360 jobs fetched!\n",
      "Page 468 : 9380 - Total 9380 jobs fetched!\n",
      "Page 469 : 9400 - Total 9400 jobs fetched!\n",
      "Page 470 : 9420 - Total 9420 jobs fetched!\n",
      "Page 471 : 9440 - Total 9440 jobs fetched!\n",
      "Page 472 : 9460 - Total 9460 jobs fetched!\n",
      "Page 473 : 9480 - Total 9480 jobs fetched!\n",
      "Page 474 : 9500 - Total 9500 jobs fetched!\n",
      "Page 475 : 9520 - Total 9520 jobs fetched!\n",
      "Page 476 : 9540 - Total 9540 jobs fetched!\n",
      "Page 477 : 9560 - Total 9560 jobs fetched!\n",
      "Page 478 : 9580 - Total 9580 jobs fetched!\n",
      "Page 479 : 9600 - Total 9600 jobs fetched!\n",
      "Page 480 : 9620 - Total 9620 jobs fetched!\n",
      "Page 481 : 9640 - Total 9640 jobs fetched!\n",
      "Page 482 : 9660 - Total 9660 jobs fetched!\n",
      "Page 483 : 9680 - Total 9680 jobs fetched!\n",
      "Page 484 : 9700 - Total 9700 jobs fetched!\n",
      "Page 485 : 9720 - Total 9720 jobs fetched!\n",
      "Page 486 : 9740 - Total 9740 jobs fetched!\n",
      "Page 487 : 9760 - Total 9760 jobs fetched!\n",
      "Page 488 : 9780 - Total 9780 jobs fetched!\n",
      "Page 489 : 9800 - Total 9800 jobs fetched!\n",
      "Page 490 : 9820 - Total 9820 jobs fetched!\n",
      "Page 491 : 9840 - Total 9840 jobs fetched!\n",
      "Page 492 : 9860 - Total 9860 jobs fetched!\n",
      "Page 493 : 9880 - Total 9880 jobs fetched!\n",
      "Page 494 : 9900 - Total 9900 jobs fetched!\n",
      "Page 495 : 9920 - Total 9920 jobs fetched!\n",
      "Page 496 : 9940 - Total 9940 jobs fetched!\n",
      "Page 497 : 9960 - Total 9960 jobs fetched!\n",
      "Page 498 : 9980 - Total 9980 jobs fetched!\n",
      "Page 499 : 10000 - Total 10000 jobs fetched!\n",
      "Page 500 : 10020 - Total 10020 jobs fetched!\n",
      "Page 501 : 10040 - Total 10040 jobs fetched!\n",
      "Page 502 : 10060 - Total 10060 jobs fetched!\n"
     ]
    }
   ],
   "source": [
    "i=0\n",
    "while True:\n",
    "    job_card = driver1.find_elements(By.CSS_SELECTOR, \"[data-testid='searchSerpJob']\")\n",
    "    job_urls = [i.find_element(By.TAG_NAME,'a').get_attribute('href') for i in job_card]\n",
    "    all_job_urls = all_job_urls + job_urls\n",
    "    print(f\"Page {i} : {len(all_job_urls)} - Total {len(all_job_urls)} jobs fetched!\")\n",
    "    i+=1\n",
    "\n",
    "    try:\n",
    "        next_button = driver1.find_element(By.CSS_SELECTOR, \"[aria-label = 'Next page']\")\n",
    "        next_button.click()\n",
    "        time.sleep(3)\n",
    "    except:\n",
    "        break"
   ]
  },
  {
   "cell_type": "code",
   "execution_count": 107,
   "metadata": {},
   "outputs": [
    {
     "data": {
      "text/plain": [
       "['https://www.simplyhired.com/job/zRCtbfE8nzAXnn0021Xjd6GX3N9PWZt8nzAXlXGWsORQXVlYTSgheg?isp=1&jobCardTrackingKey=5-pdx1-0-1hpf7auakk57n800-91f9074d302543e2---6NYlbfkN0AlIVd5Z9xE1cdy5gk3DQPaPGBF7szVrnQGVwgGCyHZJ5O6fv2zoKFloNxUlDJYmO5CyIEnfcivASRpRU0m5npnZyGjZIKPECOIRc65YX_1J-F-qBFqOuR7MoVRj9b0b6jN91Vv9v3GRBTxF3HtsJJ76Cn5YVuyPHXVI6Mra6Uc-z8_HzVaQJJrlB-f6CVcSpDMaSIrpItRKjNp1J7jHp1hywoBexGKOi4t5A6qlVTUGREgmcUt4niYW3RUlWPZ-fdvf-0GmGPzIJ82Me5fZhynIfj3pQGHkU3GpxYmEdM-7C67xUlmoF-bVr1_nYFnEd9IpCEqRT2zho7OUSaJUjJfoKrtL5vez5rvYsa1qdYErGrKJLR7XCThK_sbe8xF0r6qpVhucv7Rv62FlmKir2qjCcOxmc62ZRVKA64xaQqTnR5bFcN4xGFa5HICErCI0Jbo2-KcaMiR5api-m0iTuca09ECYeddXH1fG1erXAH9O56Xuqu09Hb28_O-8QeLn9SuHWrYS1yauLR7NWEAC2VzdXNJeRa4LVuwjXE64rlHe7reJubaqy7w9fmdiukyiBcmY213UfsNSP0Vy_Yb59bcup9eXkKupluGg6KFigwgf4ewBK6Smea87MkHwkUFT6_BdDqNHCe9l_-TICoVtTF-s6V_0K0RCyQkj2SbEE0pKN71ROgWQTYu2fCsdgNc2OTjtoYube9n8sVsKM56FdXfMeMdALiSTh4%3D&xkcb=SoDF6_M3DvGkFc2fwR0LbzkdCdPP&camk=H-lBaXMUocJ7RJ1MQM28-g%3D%3D',\n",
       " 'https://www.simplyhired.com/job/jHuMjrxEOlPnrybeunEgnjCNgs8MBBK-YpEJpIDk6df8XSYht157vQ',\n",
       " 'https://www.simplyhired.com/job/jeQcI2apyqSoAC6kUCeSl51GSQ2bvt3YCggesHI3PXBu3SaUBZrhIQ',\n",
       " 'https://www.simplyhired.com/job/96lx7-tfb_lpuuMJs_lLh-rfpwG2gCAft4mm9VmQFIlHxAIP12AkHA',\n",
       " 'https://www.simplyhired.com/job/WPUABN4rmhZ5WzBXBNyj5EYYg8BLsLx3_lzXX8aMJe-7hb_qaQbtZw']"
      ]
     },
     "execution_count": 107,
     "metadata": {},
     "output_type": "execute_result"
    }
   ],
   "source": [
    "all_job_urls[:5]"
   ]
  },
  {
   "cell_type": "code",
   "execution_count": 151,
   "metadata": {},
   "outputs": [],
   "source": [
    "pd.DataFrame(all_job_urls).to_csv(\"all_simplyhired_urls.csv\", index=False)"
   ]
  },
  {
   "cell_type": "code",
   "execution_count": 110,
   "metadata": {},
   "outputs": [
    {
     "data": {
      "text/plain": [
       "<Response [200]>"
      ]
     },
     "execution_count": 110,
     "metadata": {},
     "output_type": "execute_result"
    }
   ],
   "source": [
    "HEADERS = {\n",
    "    \"User-Agent\": 'Mozilla/5.0 (Macintosh; Intel Mac OS X 10_15_7) AppleWebKit/537.36 (KHTML, like Gecko) Chrome/122.0.0.0 Safari/537.36',\n",
    "    \"Accept-Encoding\": \"gzip\",\n",
    "    \"Accept\": \"text/html\",\n",
    "    \"Accept-Language\": \"en\",\n",
    "    \"Cache-Control\": \"max-age=0\",\n",
    "    \"Sec-Fetch-Dest\": \"document\",\n",
    "    \"Sec-Fetch-Mode\": \"navigate\",\n",
    "    \"Cookie\": 'shk=1hpej3gtsmkkm801; csrf=CoA78HzgzcFPgttGNZvRzeo_poNSlsETD8MeHvzk-DbdqUWA05JfILc3CC404mI8hu453pOdbLSI81M_LNlZ; _ga=GA1.1.1189312297.1710960528; rq=%5B%22q%3Ddata%2Bscientist%26l%3D%26ts%3D1710972560480%22%5D; __cf_bm=aN_K675TYklod50qxgAAOmQdSQ_7ICBzeOqdWIT.2S0-1710983723-1.0.1.1-IRkjgI3bB9lZNXzFJki1qVhF.mCt3a6p.UIIUq.j02XTQBKySe_KNHPu2onGnuiE23UrES17yJE9I9Kj08nfmg; _ga_9GC5K2RCSP=GS1.1.1710984354.4.0.1710984354.0.0.0; OptanonConsent=isGpcEnabled=0&datestamp=Wed+Mar+20+2024+18%3A25%3A54+GMT-0700+(%E5%8C%97%E7%BE%8E%E5%A4%AA%E5%B9%B3%E6%B4%8B%E5%A4%8F%E4%BB%A4%E6%97%B6%E9%97%B4)&version=202308.2.0&browserGpcFlag=0&isIABGlobal=false&hosts=&consentId=b14705d6-2bab-4a15-9ca9-885fdfdc93c2&interactionCount=1&landingPath=NotLandingPage&groups=C0001%3A1%2CC0002%3A1%2CC0003%3A1%2CC0004%3A1%2CC0007%3A0&AwaitingReconsent=false'\n",
    "}\n",
    "response = requests.get(all_job_urls[0], headers=HEADERS)\n",
    "response"
   ]
  },
  {
   "cell_type": "code",
   "execution_count": 113,
   "metadata": {},
   "outputs": [],
   "source": [
    "job_soup = BeautifulSoup(response.text, \"html.parser\")"
   ]
  },
  {
   "cell_type": "code",
   "execution_count": 121,
   "metadata": {},
   "outputs": [
    {
     "name": "stdout",
     "output_type": "stream",
     "text": [
      "['Paid time off', 'Volunteer time off']\n"
     ]
    }
   ],
   "source": [
    "benifites = job_soup.find_all('span',{'data-testid':'viewJobBenefitItem'})\n",
    "benifites = [i.text for i in benifites]\n",
    "print(benifites)"
   ]
  },
  {
   "cell_type": "code",
   "execution_count": 122,
   "metadata": {},
   "outputs": [
    {
     "name": "stdout",
     "output_type": "stream",
     "text": [
      "['Financial modeling', '5 years', 'R', 'Mathematics', 'Finance', \"Bachelor's degree\", 'Risk management', 'Quantitative analysis', 'SaaS', 'RMF', 'Communication skills', 'Python']\n"
     ]
    }
   ],
   "source": [
    "qualifications = job_soup.find_all('span',{'data-testid':'viewJobQualificationItem'})\n",
    "qualifications = [i.text for i in qualifications]\n",
    "print(qualifications)"
   ]
  },
  {
   "cell_type": "code",
   "execution_count": 125,
   "metadata": {},
   "outputs": [
    {
     "name": "stdout",
     "output_type": "stream",
     "text": [
      "When you join Sallie Mae, you become a champion for all students.\n",
      "We’re on a mission to power confidence as students begin their unique journey. To help them plan their higher education, successfully finish, and prepare for life after school. To help them Start smart. Learn big.\n",
      "Students need guidance navigating this important time in their life. They need someone who acknowledges that their education path is unique. They need a partner willing to evolve and not only meet but surpass their expectations. We’re changing. Because students need a better way.\n",
      "We’re looking for people who are excited to drive this transformation. To break barriers and think of new ways to adapt, help, and create better experiences for students—and for each other.\n",
      "This is where diverse backgrounds, beliefs, and perspectives matter. It’s where you’re empowered to bring your authentic self to work.\n",
      "Feeling your best allows you to do your best. Our benefits take care of the whole you—from physical and mental to financial and professional. You’ll get opportunities to further your education and career, support for you and your family (including your pets!), paid time off to volunteer for the things that matter to you, and more.\n",
      "We’re obsessed with impact and making a real difference. For us, that means putting relationships first, asking “why not?” when tackling challenges, and continuously learning new skills.\n",
      "Come do more than join something, change something. For students, for future generations, for the future of education.\n",
      "What You'll Contribute\n",
      "The Manager, Model Risk will be responsible for ensuring the accuracy, integrity, and compliance of our organization's financial models and risk assessment tools.\n",
      "What You'll Do\n",
      "May manage a Model Risk team and provide guidance, support, and mentorship to team members.\n",
      "Implement a comprehensive model risk management framework, policies, and procedures to ensure compliance with regulatory requirements and industry best practices.\n",
      "Oversee the validation and testing of financial models, including model development, data analysis, calibration, and documentation.\n",
      "Assess and evaluate the effectiveness and limitations of existing models and identify areas for improvement.\n",
      "Collaborate with cross-functional teams to understand business needs and requirements and ensure that models align with organizational objectives.\n",
      "Conduct periodic model risk assessments, including model governance, validation, and ongoing monitoring, to identify and mitigate potential risks.\n",
      "Prepare and present reports on model risk to senior management and regulatory bodies.\n",
      "The above information is intended to describe the general nature and level of work performed by employees assigned to this job; it is not designed to contain or be interpreted as a comprehensive inventory of all duties, responsibilities and qualifications required of employees in this role.\n",
      "What you have\n",
      "Minimum education, skills and experience required.\n",
      "Strong knowledge of quantitative analysis, statistical techniques, and risk assessment methodologies.\n",
      "Familiarity with regulatory requirements and the ability to interpret and implement them.\n",
      "Proficiency in programming languages such as SAAS, Python or R, along with experience working with statistical packages.\n",
      "Excellent analytical and problem-solving skills, with the ability to evaluate complex financial models and identify potential risks.\n",
      "Strong leadership and team management abilities, with a track record of effectively leading and developing teams.\n",
      "Exceptional written and verbal communication skills, with the ability to present complex information in a clear and concise manner.\n",
      "Preferred education, skills, and experience.\n",
      "Bachelor's degree in finance, mathematics, statistics, economics, or a related field.\n",
      "5 years of experience in statistical modeling, model risk management, financial modeling, or a related field within the financial services industry.\n",
      "The Americans with Disabilities Act\n",
      "The Americans with Disabilities Act of 1990 (ADA) prohibits discrimination by employers, in compensation and employment opportunities, against qualified individuals with disabilities who, with or without reasonable accommodation, can perform the “essential functions” of a job. A function may be essential for any of several reasons, including: the job exists to perform that function, the employee holding the job was hired for his/her expertise in performing the function, or only a limited number of employees are available to perform that function.\n",
      "Not the right fit? Let us know you're interested in a future opportunity by clicking Introduce Yourself in the top-right corner of the page or create an account to set up email alerts as new job postings become available that meet your interest!\n",
      "Sallie Mae is proud to be an equal opportunity (EEO) employer. All qualified applicants will receive consideration for employment without regard to race, color, religion, sex, gender, sexual orientation, national origin, age, genetic information, gender identity, disability, Veteran status or any other characteristic protected by federal, state or local law. Click here to view the U.S. Pay Transparency Policy, and here for federal job applicant notices.\n",
      "\n",
      "Reasonable accommodations are available for applicants with disabilities in all phases of the application and employment process. To request an accommodation please call (855) 756-2007 and choose option 9. All information you provide will be kept confidential and will be used only to the extent required to provide needed reasonable accommodations.\n"
     ]
    }
   ],
   "source": [
    "full_job_description = job_soup.find('div',{'data-testid':'viewJobBodyJobFullDescriptionContent'})\n",
    "full_job_description = full_job_description.text\n",
    "print(full_job_description)"
   ]
  },
  {
   "cell_type": "code",
   "execution_count": 134,
   "metadata": {},
   "outputs": [],
   "source": [
    "def get_info(url):\n",
    "    time.sleep(0.05)\n",
    "    HEADERS = {\n",
    "    \"User-Agent\": 'Mozilla/5.0 (Macintosh; Intel Mac OS X 10_15_7) AppleWebKit/537.36 (KHTML, like Gecko) Chrome/122.0.0.0 Safari/537.36',\n",
    "    \"Accept-Encoding\": \"gzip\",\n",
    "    \"Accept\": \"text/html\",\n",
    "    \"Accept-Language\": \"en\",\n",
    "    \"Cache-Control\": \"max-age=0\",\n",
    "    \"Sec-Fetch-Dest\": \"document\",\n",
    "    \"Sec-Fetch-Mode\": \"navigate\",\n",
    "    \"Cookie\": 'shk=1hpej3gtsmkkm801; csrf=CoA78HzgzcFPgttGNZvRzeo_poNSlsETD8MeHvzk-DbdqUWA05JfILc3CC404mI8hu453pOdbLSI81M_LNlZ; _ga=GA1.1.1189312297.1710960528; rq=%5B%22q%3Ddata%2Bscientist%26l%3D%26ts%3D1710972560480%22%5D; __cf_bm=aN_K675TYklod50qxgAAOmQdSQ_7ICBzeOqdWIT.2S0-1710983723-1.0.1.1-IRkjgI3bB9lZNXzFJki1qVhF.mCt3a6p.UIIUq.j02XTQBKySe_KNHPu2onGnuiE23UrES17yJE9I9Kj08nfmg; _ga_9GC5K2RCSP=GS1.1.1710984354.4.0.1710984354.0.0.0; OptanonConsent=isGpcEnabled=0&datestamp=Wed+Mar+20+2024+18%3A25%3A54+GMT-0700+(%E5%8C%97%E7%BE%8E%E5%A4%AA%E5%B9%B3%E6%B4%8B%E5%A4%8F%E4%BB%A4%E6%97%B6%E9%97%B4)&version=202308.2.0&browserGpcFlag=0&isIABGlobal=false&hosts=&consentId=b14705d6-2bab-4a15-9ca9-885fdfdc93c2&interactionCount=1&landingPath=NotLandingPage&groups=C0001%3A1%2CC0002%3A1%2CC0003%3A1%2CC0004%3A1%2CC0007%3A0&AwaitingReconsent=false'\n",
    "    }\n",
    "    response = requests.get(url, headers=HEADERS)\n",
    "    \n",
    "    if response.status_code == 200:\n",
    "        job_soup = BeautifulSoup(response.text, 'html.parser')\n",
    "\n",
    "        job_details = {\n",
    "            'job_title':None,'benifits':None,'qualifications':None,\n",
    "            'full job description':None}\n",
    "\n",
    "        try:\n",
    "            job_title = job_soup.find('div',{'class':'chakra-stack css-1iblfv6',})\n",
    "            job_title = job_title.text\n",
    "            job_details['job_title'] = job_title\n",
    "        except:\n",
    "            pass\n",
    "        \n",
    "        try:\n",
    "            benifites = job_soup.find_all('span',{'data-testid':'viewJobBenefitItem'})\n",
    "            benifites = [i.text for i in benifites]\n",
    "            job_details['benifits'] = benifites\n",
    "        except:\n",
    "            pass\n",
    "\n",
    "        try:\n",
    "            qualifications = job_soup.find_all('span',{'data-testid':'viewJobQualificationItem'})\n",
    "            qualifications = [i.text for i in qualifications]\n",
    "            job_details['qualifications'] = qualifications\n",
    "        except:\n",
    "            pass\n",
    "\n",
    "        try:\n",
    "            full_job_description = job_soup.find('div',{'data-testid':'viewJobBodyJobFullDescriptionContent'})\n",
    "            full_job_description = full_job_description.text\n",
    "            job_details['full job description'] = full_job_description\n",
    "        except:\n",
    "            pass\n",
    "\n",
    "\n",
    "    return job_details"
   ]
  },
  {
   "cell_type": "code",
   "execution_count": 137,
   "metadata": {},
   "outputs": [],
   "source": [
    "all_job_details = {}"
   ]
  },
  {
   "cell_type": "code",
   "execution_count": 138,
   "metadata": {},
   "outputs": [
    {
     "name": "stderr",
     "output_type": "stream",
     "text": [
      "Fetching job details:  52%|█████▏    | 2605/5000 [37:02<34:02,  1.17job/s]  \n"
     ]
    },
    {
     "ename": "UnboundLocalError",
     "evalue": "cannot access local variable 'job_details' where it is not associated with a value",
     "output_type": "error",
     "traceback": [
      "\u001b[0;31m---------------------------------------------------------------------------\u001b[0m",
      "\u001b[0;31mUnboundLocalError\u001b[0m                         Traceback (most recent call last)",
      "Cell \u001b[0;32mIn[138], line 3\u001b[0m\n\u001b[1;32m      1\u001b[0m i\u001b[38;5;241m=\u001b[39m\u001b[38;5;241m0\u001b[39m\n\u001b[1;32m      2\u001b[0m \u001b[38;5;28;01mfor\u001b[39;00m url \u001b[38;5;129;01min\u001b[39;00m tqdm(all_job_urls[:\u001b[38;5;241m5000\u001b[39m], desc\u001b[38;5;241m=\u001b[39m\u001b[38;5;124m\"\u001b[39m\u001b[38;5;124mFetching job details\u001b[39m\u001b[38;5;124m\"\u001b[39m, unit\u001b[38;5;241m=\u001b[39m\u001b[38;5;124m\"\u001b[39m\u001b[38;5;124mjob\u001b[39m\u001b[38;5;124m\"\u001b[39m):\n\u001b[0;32m----> 3\u001b[0m     job_detail \u001b[38;5;241m=\u001b[39m \u001b[43mget_info\u001b[49m\u001b[43m(\u001b[49m\u001b[43murl\u001b[49m\u001b[43m)\u001b[49m\n\u001b[1;32m      4\u001b[0m     all_job_details[i] \u001b[38;5;241m=\u001b[39m job_detail\n\u001b[1;32m      5\u001b[0m     i\u001b[38;5;241m=\u001b[39mi\u001b[38;5;241m+\u001b[39m\u001b[38;5;241m1\u001b[39m\n",
      "Cell \u001b[0;32mIn[134], line 51\u001b[0m, in \u001b[0;36mget_info\u001b[0;34m(url)\u001b[0m\n\u001b[1;32m     47\u001b[0m     \u001b[38;5;28;01mexcept\u001b[39;00m:\n\u001b[1;32m     48\u001b[0m         \u001b[38;5;28;01mpass\u001b[39;00m\n\u001b[0;32m---> 51\u001b[0m \u001b[38;5;28;01mreturn\u001b[39;00m \u001b[43mjob_details\u001b[49m\n",
      "\u001b[0;31mUnboundLocalError\u001b[0m: cannot access local variable 'job_details' where it is not associated with a value"
     ]
    }
   ],
   "source": [
    "i=0\n",
    "for url in tqdm(all_job_urls[:5000], desc=\"Fetching job details\", unit=\"job\"):\n",
    "    job_detail = get_info(url)\n",
    "    all_job_details[i] = job_detail\n",
    "    i=i+1\n",
    "print(\"All job details scraped!\")"
   ]
  },
  {
   "cell_type": "code",
   "execution_count": 131,
   "metadata": {},
   "outputs": [
    {
     "data": {
      "text/html": [
       "<div>\n",
       "<style scoped>\n",
       "    .dataframe tbody tr th:only-of-type {\n",
       "        vertical-align: middle;\n",
       "    }\n",
       "\n",
       "    .dataframe tbody tr th {\n",
       "        vertical-align: top;\n",
       "    }\n",
       "\n",
       "    .dataframe thead th {\n",
       "        text-align: right;\n",
       "    }\n",
       "</style>\n",
       "<table border=\"1\" class=\"dataframe\">\n",
       "  <thead>\n",
       "    <tr style=\"text-align: right;\">\n",
       "      <th></th>\n",
       "      <th>job_title</th>\n",
       "      <th>benifits</th>\n",
       "      <th>qualifications</th>\n",
       "      <th>full job description</th>\n",
       "    </tr>\n",
       "  </thead>\n",
       "  <tbody>\n",
       "    <tr>\n",
       "      <th>0</th>\n",
       "      <td>Manager, Model Validation</td>\n",
       "      <td>None</td>\n",
       "      <td>None</td>\n",
       "      <td>When you join Sallie Mae, you become a champio...</td>\n",
       "    </tr>\n",
       "    <tr>\n",
       "      <th>1</th>\n",
       "      <td>Data Scientist</td>\n",
       "      <td>None</td>\n",
       "      <td>None</td>\n",
       "      <td>Syntelligent is hiring for a full-time Data Sc...</td>\n",
       "    </tr>\n",
       "    <tr>\n",
       "      <th>2</th>\n",
       "      <td>Data Scientist</td>\n",
       "      <td>None</td>\n",
       "      <td>None</td>\n",
       "      <td>At NSA Data Science is a broad field, and a te...</td>\n",
       "    </tr>\n",
       "    <tr>\n",
       "      <th>3</th>\n",
       "      <td>Data Scientist- 33130</td>\n",
       "      <td>None</td>\n",
       "      <td>None</td>\n",
       "      <td>Description:The Data Scientist will lead proje...</td>\n",
       "    </tr>\n",
       "    <tr>\n",
       "      <th>4</th>\n",
       "      <td>Data Analyst / Data Scientist</td>\n",
       "      <td>None</td>\n",
       "      <td>None</td>\n",
       "      <td>We are small, technology consulting firm assis...</td>\n",
       "    </tr>\n",
       "  </tbody>\n",
       "</table>\n",
       "</div>"
      ],
      "text/plain": [
       "                       job_title benifits qualifications  \\\n",
       "0      Manager, Model Validation     None           None   \n",
       "1                 Data Scientist     None           None   \n",
       "2                 Data Scientist     None           None   \n",
       "3          Data Scientist- 33130     None           None   \n",
       "4  Data Analyst / Data Scientist     None           None   \n",
       "\n",
       "                                full job description  \n",
       "0  When you join Sallie Mae, you become a champio...  \n",
       "1  Syntelligent is hiring for a full-time Data Sc...  \n",
       "2  At NSA Data Science is a broad field, and a te...  \n",
       "3  Description:The Data Scientist will lead proje...  \n",
       "4  We are small, technology consulting firm assis...  "
      ]
     },
     "execution_count": 131,
     "metadata": {},
     "output_type": "execute_result"
    }
   ],
   "source": [
    "all_job_details"
   ]
  },
  {
   "cell_type": "code",
   "execution_count": 143,
   "metadata": {},
   "outputs": [],
   "source": [
    "import json\n",
    "\n",
    "with open('simplyhired_jobs_detail.json', 'w') as json_file:\n",
    "    json.dump(all_job_details, json_file)"
   ]
  },
  {
   "cell_type": "code",
   "execution_count": 140,
   "metadata": {},
   "outputs": [
    {
     "data": {
      "text/plain": [
       "{'job_title': 'Manager, Model Validation',\n",
       " 'benifits': ['Paid time off', 'Volunteer time off'],\n",
       " 'qualifications': ['Financial modeling',\n",
       "  '5 years',\n",
       "  'R',\n",
       "  'Mathematics',\n",
       "  'Finance',\n",
       "  \"Bachelor's degree\",\n",
       "  'Risk management',\n",
       "  'Quantitative analysis',\n",
       "  'SaaS',\n",
       "  'RMF',\n",
       "  'Communication skills',\n",
       "  'Python'],\n",
       " 'full job description': \"When you join Sallie Mae, you become a champion for all students.\\nWe’re on a mission to power confidence as students begin their unique journey. To help them plan their higher education, successfully finish, and prepare for life after school. To help them Start smart. Learn big.\\nStudents need guidance navigating this important time in their life. They need someone who acknowledges that their education path is unique. They need a partner willing to evolve and not only meet but surpass their expectations. We’re changing. Because students need a better way.\\nWe’re looking for people who are excited to drive this transformation. To break barriers and think of new ways to adapt, help, and create better experiences for students—and for each other.\\nThis is where diverse backgrounds, beliefs, and perspectives matter. It’s where you’re empowered to bring your authentic self to work.\\nFeeling your best allows you to do your best. Our benefits take care of the whole you—from physical and mental to financial and professional. You’ll get opportunities to further your education and career, support for you and your family (including your pets!), paid time off to volunteer for the things that matter to you, and more.\\nWe’re obsessed with impact and making a real difference. For us, that means putting relationships first, asking “why not?” when tackling challenges, and continuously learning new skills.\\nCome do more than join something, change something. For students, for future generations, for the future of education.\\nWhat You'll Contribute\\nThe Manager, Model Risk will be responsible for ensuring the accuracy, integrity, and compliance of our organization's financial models and risk assessment tools.\\nWhat You'll Do\\nMay manage a Model Risk team and provide guidance, support, and mentorship to team members.\\nImplement a comprehensive model risk management framework, policies, and procedures to ensure compliance with regulatory requirements and industry best practices.\\nOversee the validation and testing of financial models, including model development, data analysis, calibration, and documentation.\\nAssess and evaluate the effectiveness and limitations of existing models and identify areas for improvement.\\nCollaborate with cross-functional teams to understand business needs and requirements and ensure that models align with organizational objectives.\\nConduct periodic model risk assessments, including model governance, validation, and ongoing monitoring, to identify and mitigate potential risks.\\nPrepare and present reports on model risk to senior management and regulatory bodies.\\nThe above information is intended to describe the general nature and level of work performed by employees assigned to this job; it is not designed to contain or be interpreted as a comprehensive inventory of all duties, responsibilities and qualifications required of employees in this role.\\nWhat you have\\nMinimum education, skills and experience required.\\nStrong knowledge of quantitative analysis, statistical techniques, and risk assessment methodologies.\\nFamiliarity with regulatory requirements and the ability to interpret and implement them.\\nProficiency in programming languages such as SAAS, Python or R, along with experience working with statistical packages.\\nExcellent analytical and problem-solving skills, with the ability to evaluate complex financial models and identify potential risks.\\nStrong leadership and team management abilities, with a track record of effectively leading and developing teams.\\nExceptional written and verbal communication skills, with the ability to present complex information in a clear and concise manner.\\nPreferred education, skills, and experience.\\nBachelor's degree in finance, mathematics, statistics, economics, or a related field.\\n5 years of experience in statistical modeling, model risk management, financial modeling, or a related field within the financial services industry.\\nThe Americans with Disabilities Act\\nThe Americans with Disabilities Act of 1990 (ADA) prohibits discrimination by employers, in compensation and employment opportunities, against qualified individuals with disabilities who, with or without reasonable accommodation, can perform the “essential functions” of a job. A function may be essential for any of several reasons, including: the job exists to perform that function, the employee holding the job was hired for his/her expertise in performing the function, or only a limited number of employees are available to perform that function.\\nNot the right fit? Let us know you're interested in a future opportunity by clicking Introduce Yourself in the top-right corner of the page or create an account to set up email alerts as new job postings become available that meet your interest!\\nSallie Mae is proud to be an equal opportunity (EEO) employer. All qualified applicants will receive consideration for employment without regard to race, color, religion, sex, gender, sexual orientation, national origin, age, genetic information, gender identity, disability, Veteran status or any other characteristic protected by federal, state or local law. Click here to view the U.S. Pay Transparency Policy, and here for federal job applicant notices.\\n\\nReasonable accommodations are available for applicants with disabilities in all phases of the application and employment process. To request an accommodation please call (855) 756-2007 and choose option 9. All information you provide will be kept confidential and will be used only to the extent required to provide needed reasonable accommodations.\"}"
      ]
     },
     "execution_count": 140,
     "metadata": {},
     "output_type": "execute_result"
    }
   ],
   "source": [
    "all_job_details[0]"
   ]
  },
  {
   "cell_type": "code",
   "execution_count": 6,
   "metadata": {},
   "outputs": [
    {
     "ename": "ModuleNotFoundError",
     "evalue": "No module named 'pyLDAvis.sklearn'",
     "output_type": "error",
     "traceback": [
      "\u001b[0;31m---------------------------------------------------------------------------\u001b[0m",
      "\u001b[0;31mModuleNotFoundError\u001b[0m                       Traceback (most recent call last)",
      "Cell \u001b[0;32mIn[6], line 1\u001b[0m\n\u001b[0;32m----> 1\u001b[0m \u001b[38;5;28;01mimport\u001b[39;00m \u001b[38;5;21;01mpyLDAvis\u001b[39;00m\u001b[38;5;21;01m.\u001b[39;00m\u001b[38;5;21;01msklearn\u001b[39;00m\n\u001b[1;32m      2\u001b[0m \u001b[38;5;28;01mimport\u001b[39;00m \u001b[38;5;21;01mmatplotlib\u001b[39;00m\u001b[38;5;21;01m.\u001b[39;00m\u001b[38;5;21;01mpyplot\u001b[39;00m \u001b[38;5;28;01mas\u001b[39;00m \u001b[38;5;21;01mplt\u001b[39;00m\n\u001b[1;32m      3\u001b[0m \u001b[38;5;28;01mfrom\u001b[39;00m \u001b[38;5;21;01msklearn\u001b[39;00m\u001b[38;5;21;01m.\u001b[39;00m\u001b[38;5;21;01mfeature_extraction\u001b[39;00m\u001b[38;5;21;01m.\u001b[39;00m\u001b[38;5;21;01mtext\u001b[39;00m \u001b[38;5;28;01mimport\u001b[39;00m CountVectorizer\n",
      "\u001b[0;31mModuleNotFoundError\u001b[0m: No module named 'pyLDAvis.sklearn'"
     ]
    }
   ],
   "source": [
    "import pyLDAvis.sklearn\n",
    "import matplotlib.pyplot as plt\n",
    "from sklearn.feature_extraction.text import CountVectorizer\n",
    "from sklearn.decomposition import LatentDirichletAllocation"
   ]
  },
  {
   "cell_type": "code",
   "execution_count": null,
   "metadata": {},
   "outputs": [],
   "source": [
    "\n",
    "# Assume 'corpus' contains your preprocessed text data\n",
    "\n",
    "# Create a vectorizer to convert text data to a bag-of-words matrix\n",
    "vectorizer = CountVectorizer(max_df=0.95, min_df=2, stop_words='english')\n",
    "X = vectorizer.fit_transform(corpus)\n",
    "\n",
    "# Initialize and fit the LDA model\n",
    "lda_model = LatentDirichletAllocation(n_components=5, random_state=42)\n",
    "lda_model.fit(X)\n",
    "\n",
    "# Visualize the LDA model using pyLDAvis\n",
    "pyLDAvis.enable_notebook()\n",
    "vis = pyLDAvis.sklearn.prepare(lda_model, X, vectorizer, mds='mmds')\n",
    "pyLDAvis.save_html(vis, 'lda_visualization.html')  # Save the visualization to an HTML file\n"
   ]
  },
  {
   "cell_type": "code",
   "execution_count": 3,
   "metadata": {},
   "outputs": [],
   "source": [
    "import json\n",
    "\n",
    "with open('simplyhired_jobs_detail.json', 'r', encoding='utf-8') as file:\n",
    "    all_job_data = file.read()\n",
    "\n",
    "# 将 JSON 数据转换为字典\n",
    "all_job_details = json.loads(all_job_data)"
   ]
  },
  {
   "cell_type": "code",
   "execution_count": 5,
   "metadata": {},
   "outputs": [
    {
     "data": {
      "text/plain": [
       "{'job_title': 'Manager, Model Validation',\n",
       " 'benifits': ['Paid time off', 'Volunteer time off'],\n",
       " 'qualifications': ['Financial modeling',\n",
       "  '5 years',\n",
       "  'R',\n",
       "  'Mathematics',\n",
       "  'Finance',\n",
       "  \"Bachelor's degree\",\n",
       "  'Risk management',\n",
       "  'Quantitative analysis',\n",
       "  'SaaS',\n",
       "  'RMF',\n",
       "  'Communication skills',\n",
       "  'Python'],\n",
       " 'full job description': \"When you join Sallie Mae, you become a champion for all students.\\nWe’re on a mission to power confidence as students begin their unique journey. To help them plan their higher education, successfully finish, and prepare for life after school. To help them Start smart. Learn big.\\nStudents need guidance navigating this important time in their life. They need someone who acknowledges that their education path is unique. They need a partner willing to evolve and not only meet but surpass their expectations. We’re changing. Because students need a better way.\\nWe’re looking for people who are excited to drive this transformation. To break barriers and think of new ways to adapt, help, and create better experiences for students—and for each other.\\nThis is where diverse backgrounds, beliefs, and perspectives matter. It’s where you’re empowered to bring your authentic self to work.\\nFeeling your best allows you to do your best. Our benefits take care of the whole you—from physical and mental to financial and professional. You’ll get opportunities to further your education and career, support for you and your family (including your pets!), paid time off to volunteer for the things that matter to you, and more.\\nWe’re obsessed with impact and making a real difference. For us, that means putting relationships first, asking “why not?” when tackling challenges, and continuously learning new skills.\\nCome do more than join something, change something. For students, for future generations, for the future of education.\\nWhat You'll Contribute\\nThe Manager, Model Risk will be responsible for ensuring the accuracy, integrity, and compliance of our organization's financial models and risk assessment tools.\\nWhat You'll Do\\nMay manage a Model Risk team and provide guidance, support, and mentorship to team members.\\nImplement a comprehensive model risk management framework, policies, and procedures to ensure compliance with regulatory requirements and industry best practices.\\nOversee the validation and testing of financial models, including model development, data analysis, calibration, and documentation.\\nAssess and evaluate the effectiveness and limitations of existing models and identify areas for improvement.\\nCollaborate with cross-functional teams to understand business needs and requirements and ensure that models align with organizational objectives.\\nConduct periodic model risk assessments, including model governance, validation, and ongoing monitoring, to identify and mitigate potential risks.\\nPrepare and present reports on model risk to senior management and regulatory bodies.\\nThe above information is intended to describe the general nature and level of work performed by employees assigned to this job; it is not designed to contain or be interpreted as a comprehensive inventory of all duties, responsibilities and qualifications required of employees in this role.\\nWhat you have\\nMinimum education, skills and experience required.\\nStrong knowledge of quantitative analysis, statistical techniques, and risk assessment methodologies.\\nFamiliarity with regulatory requirements and the ability to interpret and implement them.\\nProficiency in programming languages such as SAAS, Python or R, along with experience working with statistical packages.\\nExcellent analytical and problem-solving skills, with the ability to evaluate complex financial models and identify potential risks.\\nStrong leadership and team management abilities, with a track record of effectively leading and developing teams.\\nExceptional written and verbal communication skills, with the ability to present complex information in a clear and concise manner.\\nPreferred education, skills, and experience.\\nBachelor's degree in finance, mathematics, statistics, economics, or a related field.\\n5 years of experience in statistical modeling, model risk management, financial modeling, or a related field within the financial services industry.\\nThe Americans with Disabilities Act\\nThe Americans with Disabilities Act of 1990 (ADA) prohibits discrimination by employers, in compensation and employment opportunities, against qualified individuals with disabilities who, with or without reasonable accommodation, can perform the “essential functions” of a job. A function may be essential for any of several reasons, including: the job exists to perform that function, the employee holding the job was hired for his/her expertise in performing the function, or only a limited number of employees are available to perform that function.\\nNot the right fit? Let us know you're interested in a future opportunity by clicking Introduce Yourself in the top-right corner of the page or create an account to set up email alerts as new job postings become available that meet your interest!\\nSallie Mae is proud to be an equal opportunity (EEO) employer. All qualified applicants will receive consideration for employment without regard to race, color, religion, sex, gender, sexual orientation, national origin, age, genetic information, gender identity, disability, Veteran status or any other characteristic protected by federal, state or local law. Click here to view the U.S. Pay Transparency Policy, and here for federal job applicant notices.\\n\\nReasonable accommodations are available for applicants with disabilities in all phases of the application and employment process. To request an accommodation please call (855) 756-2007 and choose option 9. All information you provide will be kept confidential and will be used only to the extent required to provide needed reasonable accommodations.\"}"
      ]
     },
     "execution_count": 5,
     "metadata": {},
     "output_type": "execute_result"
    }
   ],
   "source": [
    "all_job_details['0']"
   ]
  },
  {
   "cell_type": "code",
   "execution_count": 10,
   "metadata": {},
   "outputs": [],
   "source": [
    "from sklearn.feature_extraction.text import CountVectorizer\n",
    "from sklearn.decomposition import LatentDirichletAllocation\n",
    "import pyLDAvis\n",
    "import pandas as pd"
   ]
  },
  {
   "cell_type": "code",
   "execution_count": 13,
   "metadata": {},
   "outputs": [
    {
     "name": "stdout",
     "output_type": "stream",
     "text": [
      "10147 40966\n"
     ]
    }
   ],
   "source": [
    "benefits_texts = []\n",
    "qualifications_texts = []\n",
    "for key, value in all_job_details.items():\n",
    "    benefits_texts=benefits_texts+value['benifits']\n",
    "    qualifications_texts=qualifications_texts+value['qualifications']\n",
    "\n",
    "print(len(benefits_texts), len(qualifications_texts))\n"
   ]
  },
  {
   "cell_type": "code",
   "execution_count": 23,
   "metadata": {},
   "outputs": [
    {
     "name": "stdout",
     "output_type": "stream",
     "text": [
      "2605\n"
     ]
    }
   ],
   "source": [
    "detail_texts = []\n",
    "for key, value in all_job_details.items():\n",
    "    detail_texts.append(value['full job description'])\n",
    "\n",
    "print(len(detail_texts))"
   ]
  },
  {
   "cell_type": "code",
   "execution_count": 15,
   "metadata": {},
   "outputs": [],
   "source": [
    "from gensim.models.ldamodel import LdaModel\n",
    "from gensim.corpora import Dictionary\n",
    "import pyLDAvis.gensim"
   ]
  },
  {
   "cell_type": "code",
   "execution_count": 20,
   "metadata": {},
   "outputs": [],
   "source": [
    "# 使用 CountVectorizer 对文本进行词频分析\n",
    "vectorizer_ben = CountVectorizer()\n",
    "X_ben = vectorizer_ben.fit_transform(benefits_texts)\n",
    "\n",
    "# 创建 LDA 模型并拟合数据\n",
    "lda_model_ben = LatentDirichletAllocation(n_components=3, random_state=42)  # 假设选择5个主题\n",
    "lda_model_ben.fit(X_ben)\n",
    "\n",
    "texts_tokenized_ben = [text.split() for text in benefits_texts]\n",
    "dictionary_ben = Dictionary(texts_tokenized_ben)\n",
    "corpus_ben = [dictionary_ben.doc2bow(text) for text in texts_tokenized_ben]\n",
    "\n",
    "# 使用 gensim 进行 LDA 模型拟合\n",
    "lda_gensim_model_ben = LdaModel(corpus=corpus_ben, num_topics=3, id2word=dictionary_ben)\n",
    "\n",
    "# 可视化 LDA 模型\n",
    "pyLDAvis.enable_notebook()\n",
    "panel_ben = pyLDAvis.gensim.prepare(lda_gensim_model_ben, corpus_ben, dictionary_ben)\n",
    "pyLDAvis.save_html(panel_ben, 'benefits_lda.html')"
   ]
  },
  {
   "cell_type": "code",
   "execution_count": 25,
   "metadata": {},
   "outputs": [],
   "source": [
    "# 使用 CountVectorizer 对文本进行词频分析\n",
    "vectorizer_qual = CountVectorizer()\n",
    "X_qual = vectorizer_qual.fit_transform(qualifications_texts)\n",
    "\n",
    "# 创建 LDA 模型并拟合数据\n",
    "lda_model_qual = LatentDirichletAllocation(n_components=5, random_state=42)  # 假设选择5个主题\n",
    "lda_model_qual.fit(X_qual)\n",
    "\n",
    "texts_tokenized_qual = [text.split() for text in qualifications_texts]\n",
    "dictionary_qual = Dictionary(texts_tokenized_qual)\n",
    "corpus_qual = [dictionary_qual.doc2bow(text) for text in texts_tokenized_qual]\n",
    "\n",
    "# 使用 gensim 进行 LDA 模型拟合\n",
    "lda_gensim_model_qual = LdaModel(corpus=corpus_qual, num_topics=5, id2word=dictionary_qual)\n",
    "\n",
    "# 可视化 LDA 模型\n",
    "pyLDAvis.enable_notebook()\n",
    "panel_qual = pyLDAvis.gensim.prepare(lda_gensim_model_qual, corpus_qual, dictionary_qual)\n",
    "pyLDAvis.save_html(panel_qual, 'qual_lda.html')"
   ]
  },
  {
   "cell_type": "code",
   "execution_count": 27,
   "metadata": {},
   "outputs": [],
   "source": [
    "detail_texts = list(filter(lambda x: x is not None, detail_texts))"
   ]
  },
  {
   "cell_type": "code",
   "execution_count": 29,
   "metadata": {},
   "outputs": [
    {
     "name": "stderr",
     "output_type": "stream",
     "text": [
      "[nltk_data] Error loading stopwords: <urlopen error [SSL:\n",
      "[nltk_data]     CERTIFICATE_VERIFY_FAILED] certificate verify failed:\n",
      "[nltk_data]     unable to get local issuer certificate (_ssl.c:1002)>\n",
      "[nltk_data] Error loading punkt: <urlopen error [SSL:\n",
      "[nltk_data]     CERTIFICATE_VERIFY_FAILED] certificate verify failed:\n",
      "[nltk_data]     unable to get local issuer certificate (_ssl.c:1002)>\n"
     ]
    },
    {
     "ename": "LookupError",
     "evalue": "\n**********************************************************************\n  Resource \u001b[93mstopwords\u001b[0m not found.\n  Please use the NLTK Downloader to obtain the resource:\n\n  \u001b[31m>>> import nltk\n  >>> nltk.download('stopwords')\n  \u001b[0m\n  For more information see: https://www.nltk.org/data.html\n\n  Attempted to load \u001b[93mcorpora/stopwords\u001b[0m\n\n  Searched in:\n    - '/Users/masheng/nltk_data'\n    - '/Library/Frameworks/Python.framework/Versions/3.11/nltk_data'\n    - '/Library/Frameworks/Python.framework/Versions/3.11/share/nltk_data'\n    - '/Library/Frameworks/Python.framework/Versions/3.11/lib/nltk_data'\n    - '/usr/share/nltk_data'\n    - '/usr/local/share/nltk_data'\n    - '/usr/lib/nltk_data'\n    - '/usr/local/lib/nltk_data'\n**********************************************************************\n",
     "output_type": "error",
     "traceback": [
      "\u001b[0;31m---------------------------------------------------------------------------\u001b[0m",
      "\u001b[0;31mLookupError\u001b[0m                               Traceback (most recent call last)",
      "File \u001b[0;32m/Library/Frameworks/Python.framework/Versions/3.11/lib/python3.11/site-packages/nltk/corpus/util.py:84\u001b[0m, in \u001b[0;36mLazyCorpusLoader.__load\u001b[0;34m(self)\u001b[0m\n\u001b[1;32m     83\u001b[0m \u001b[38;5;28;01mtry\u001b[39;00m:\n\u001b[0;32m---> 84\u001b[0m     root \u001b[38;5;241m=\u001b[39m \u001b[43mnltk\u001b[49m\u001b[38;5;241;43m.\u001b[39;49m\u001b[43mdata\u001b[49m\u001b[38;5;241;43m.\u001b[39;49m\u001b[43mfind\u001b[49m\u001b[43m(\u001b[49m\u001b[38;5;124;43mf\u001b[39;49m\u001b[38;5;124;43m\"\u001b[39;49m\u001b[38;5;132;43;01m{\u001b[39;49;00m\u001b[38;5;28;43mself\u001b[39;49m\u001b[38;5;241;43m.\u001b[39;49m\u001b[43msubdir\u001b[49m\u001b[38;5;132;43;01m}\u001b[39;49;00m\u001b[38;5;124;43m/\u001b[39;49m\u001b[38;5;132;43;01m{\u001b[39;49;00m\u001b[43mzip_name\u001b[49m\u001b[38;5;132;43;01m}\u001b[39;49;00m\u001b[38;5;124;43m\"\u001b[39;49m\u001b[43m)\u001b[49m\n\u001b[1;32m     85\u001b[0m \u001b[38;5;28;01mexcept\u001b[39;00m \u001b[38;5;167;01mLookupError\u001b[39;00m:\n",
      "File \u001b[0;32m/Library/Frameworks/Python.framework/Versions/3.11/lib/python3.11/site-packages/nltk/data.py:583\u001b[0m, in \u001b[0;36mfind\u001b[0;34m(resource_name, paths)\u001b[0m\n\u001b[1;32m    582\u001b[0m resource_not_found \u001b[38;5;241m=\u001b[39m \u001b[38;5;124mf\u001b[39m\u001b[38;5;124m\"\u001b[39m\u001b[38;5;130;01m\\n\u001b[39;00m\u001b[38;5;132;01m{\u001b[39;00msep\u001b[38;5;132;01m}\u001b[39;00m\u001b[38;5;130;01m\\n\u001b[39;00m\u001b[38;5;132;01m{\u001b[39;00mmsg\u001b[38;5;132;01m}\u001b[39;00m\u001b[38;5;130;01m\\n\u001b[39;00m\u001b[38;5;132;01m{\u001b[39;00msep\u001b[38;5;132;01m}\u001b[39;00m\u001b[38;5;130;01m\\n\u001b[39;00m\u001b[38;5;124m\"\u001b[39m\n\u001b[0;32m--> 583\u001b[0m \u001b[38;5;28;01mraise\u001b[39;00m \u001b[38;5;167;01mLookupError\u001b[39;00m(resource_not_found)\n",
      "\u001b[0;31mLookupError\u001b[0m: \n**********************************************************************\n  Resource \u001b[93mstopwords\u001b[0m not found.\n  Please use the NLTK Downloader to obtain the resource:\n\n  \u001b[31m>>> import nltk\n  >>> nltk.download('stopwords')\n  \u001b[0m\n  For more information see: https://www.nltk.org/data.html\n\n  Attempted to load \u001b[93mcorpora/stopwords.zip/stopwords/\u001b[0m\n\n  Searched in:\n    - '/Users/masheng/nltk_data'\n    - '/Library/Frameworks/Python.framework/Versions/3.11/nltk_data'\n    - '/Library/Frameworks/Python.framework/Versions/3.11/share/nltk_data'\n    - '/Library/Frameworks/Python.framework/Versions/3.11/lib/nltk_data'\n    - '/usr/share/nltk_data'\n    - '/usr/local/share/nltk_data'\n    - '/usr/lib/nltk_data'\n    - '/usr/local/lib/nltk_data'\n**********************************************************************\n",
      "\nDuring handling of the above exception, another exception occurred:\n",
      "\u001b[0;31mLookupError\u001b[0m                               Traceback (most recent call last)",
      "Cell \u001b[0;32mIn[29], line 10\u001b[0m\n\u001b[1;32m      7\u001b[0m nltk\u001b[38;5;241m.\u001b[39mdownload(\u001b[38;5;124m'\u001b[39m\u001b[38;5;124mpunkt\u001b[39m\u001b[38;5;124m'\u001b[39m)\n\u001b[1;32m      9\u001b[0m \u001b[38;5;66;03m# 加载停用词列表\u001b[39;00m\n\u001b[0;32m---> 10\u001b[0m stop_words \u001b[38;5;241m=\u001b[39m \u001b[38;5;28mset\u001b[39m(\u001b[43mstopwords\u001b[49m\u001b[38;5;241;43m.\u001b[39;49m\u001b[43mwords\u001b[49m(\u001b[38;5;124m'\u001b[39m\u001b[38;5;124menglish\u001b[39m\u001b[38;5;124m'\u001b[39m))\n",
      "File \u001b[0;32m/Library/Frameworks/Python.framework/Versions/3.11/lib/python3.11/site-packages/nltk/corpus/util.py:121\u001b[0m, in \u001b[0;36mLazyCorpusLoader.__getattr__\u001b[0;34m(self, attr)\u001b[0m\n\u001b[1;32m    118\u001b[0m \u001b[38;5;28;01mif\u001b[39;00m attr \u001b[38;5;241m==\u001b[39m \u001b[38;5;124m\"\u001b[39m\u001b[38;5;124m__bases__\u001b[39m\u001b[38;5;124m\"\u001b[39m:\n\u001b[1;32m    119\u001b[0m     \u001b[38;5;28;01mraise\u001b[39;00m \u001b[38;5;167;01mAttributeError\u001b[39;00m(\u001b[38;5;124m\"\u001b[39m\u001b[38;5;124mLazyCorpusLoader object has no attribute \u001b[39m\u001b[38;5;124m'\u001b[39m\u001b[38;5;124m__bases__\u001b[39m\u001b[38;5;124m'\u001b[39m\u001b[38;5;124m\"\u001b[39m)\n\u001b[0;32m--> 121\u001b[0m \u001b[38;5;28;43mself\u001b[39;49m\u001b[38;5;241;43m.\u001b[39;49m\u001b[43m__load\u001b[49m\u001b[43m(\u001b[49m\u001b[43m)\u001b[49m\n\u001b[1;32m    122\u001b[0m \u001b[38;5;66;03m# This looks circular, but its not, since __load() changes our\u001b[39;00m\n\u001b[1;32m    123\u001b[0m \u001b[38;5;66;03m# __class__ to something new:\u001b[39;00m\n\u001b[1;32m    124\u001b[0m \u001b[38;5;28;01mreturn\u001b[39;00m \u001b[38;5;28mgetattr\u001b[39m(\u001b[38;5;28mself\u001b[39m, attr)\n",
      "File \u001b[0;32m/Library/Frameworks/Python.framework/Versions/3.11/lib/python3.11/site-packages/nltk/corpus/util.py:86\u001b[0m, in \u001b[0;36mLazyCorpusLoader.__load\u001b[0;34m(self)\u001b[0m\n\u001b[1;32m     84\u001b[0m             root \u001b[38;5;241m=\u001b[39m nltk\u001b[38;5;241m.\u001b[39mdata\u001b[38;5;241m.\u001b[39mfind(\u001b[38;5;124mf\u001b[39m\u001b[38;5;124m\"\u001b[39m\u001b[38;5;132;01m{\u001b[39;00m\u001b[38;5;28mself\u001b[39m\u001b[38;5;241m.\u001b[39msubdir\u001b[38;5;132;01m}\u001b[39;00m\u001b[38;5;124m/\u001b[39m\u001b[38;5;132;01m{\u001b[39;00mzip_name\u001b[38;5;132;01m}\u001b[39;00m\u001b[38;5;124m\"\u001b[39m)\n\u001b[1;32m     85\u001b[0m         \u001b[38;5;28;01mexcept\u001b[39;00m \u001b[38;5;167;01mLookupError\u001b[39;00m:\n\u001b[0;32m---> 86\u001b[0m             \u001b[38;5;28;01mraise\u001b[39;00m e\n\u001b[1;32m     88\u001b[0m \u001b[38;5;66;03m# Load the corpus.\u001b[39;00m\n\u001b[1;32m     89\u001b[0m corpus \u001b[38;5;241m=\u001b[39m \u001b[38;5;28mself\u001b[39m\u001b[38;5;241m.\u001b[39m__reader_cls(root, \u001b[38;5;241m*\u001b[39m\u001b[38;5;28mself\u001b[39m\u001b[38;5;241m.\u001b[39m__args, \u001b[38;5;241m*\u001b[39m\u001b[38;5;241m*\u001b[39m\u001b[38;5;28mself\u001b[39m\u001b[38;5;241m.\u001b[39m__kwargs)\n",
      "File \u001b[0;32m/Library/Frameworks/Python.framework/Versions/3.11/lib/python3.11/site-packages/nltk/corpus/util.py:81\u001b[0m, in \u001b[0;36mLazyCorpusLoader.__load\u001b[0;34m(self)\u001b[0m\n\u001b[1;32m     79\u001b[0m \u001b[38;5;28;01melse\u001b[39;00m:\n\u001b[1;32m     80\u001b[0m     \u001b[38;5;28;01mtry\u001b[39;00m:\n\u001b[0;32m---> 81\u001b[0m         root \u001b[38;5;241m=\u001b[39m \u001b[43mnltk\u001b[49m\u001b[38;5;241;43m.\u001b[39;49m\u001b[43mdata\u001b[49m\u001b[38;5;241;43m.\u001b[39;49m\u001b[43mfind\u001b[49m\u001b[43m(\u001b[49m\u001b[38;5;124;43mf\u001b[39;49m\u001b[38;5;124;43m\"\u001b[39;49m\u001b[38;5;132;43;01m{\u001b[39;49;00m\u001b[38;5;28;43mself\u001b[39;49m\u001b[38;5;241;43m.\u001b[39;49m\u001b[43msubdir\u001b[49m\u001b[38;5;132;43;01m}\u001b[39;49;00m\u001b[38;5;124;43m/\u001b[39;49m\u001b[38;5;132;43;01m{\u001b[39;49;00m\u001b[38;5;28;43mself\u001b[39;49m\u001b[38;5;241;43m.\u001b[39;49m\u001b[43m__name\u001b[49m\u001b[38;5;132;43;01m}\u001b[39;49;00m\u001b[38;5;124;43m\"\u001b[39;49m\u001b[43m)\u001b[49m\n\u001b[1;32m     82\u001b[0m     \u001b[38;5;28;01mexcept\u001b[39;00m \u001b[38;5;167;01mLookupError\u001b[39;00m \u001b[38;5;28;01mas\u001b[39;00m e:\n\u001b[1;32m     83\u001b[0m         \u001b[38;5;28;01mtry\u001b[39;00m:\n",
      "File \u001b[0;32m/Library/Frameworks/Python.framework/Versions/3.11/lib/python3.11/site-packages/nltk/data.py:583\u001b[0m, in \u001b[0;36mfind\u001b[0;34m(resource_name, paths)\u001b[0m\n\u001b[1;32m    581\u001b[0m sep \u001b[38;5;241m=\u001b[39m \u001b[38;5;124m\"\u001b[39m\u001b[38;5;124m*\u001b[39m\u001b[38;5;124m\"\u001b[39m \u001b[38;5;241m*\u001b[39m \u001b[38;5;241m70\u001b[39m\n\u001b[1;32m    582\u001b[0m resource_not_found \u001b[38;5;241m=\u001b[39m \u001b[38;5;124mf\u001b[39m\u001b[38;5;124m\"\u001b[39m\u001b[38;5;130;01m\\n\u001b[39;00m\u001b[38;5;132;01m{\u001b[39;00msep\u001b[38;5;132;01m}\u001b[39;00m\u001b[38;5;130;01m\\n\u001b[39;00m\u001b[38;5;132;01m{\u001b[39;00mmsg\u001b[38;5;132;01m}\u001b[39;00m\u001b[38;5;130;01m\\n\u001b[39;00m\u001b[38;5;132;01m{\u001b[39;00msep\u001b[38;5;132;01m}\u001b[39;00m\u001b[38;5;130;01m\\n\u001b[39;00m\u001b[38;5;124m\"\u001b[39m\n\u001b[0;32m--> 583\u001b[0m \u001b[38;5;28;01mraise\u001b[39;00m \u001b[38;5;167;01mLookupError\u001b[39;00m(resource_not_found)\n",
      "\u001b[0;31mLookupError\u001b[0m: \n**********************************************************************\n  Resource \u001b[93mstopwords\u001b[0m not found.\n  Please use the NLTK Downloader to obtain the resource:\n\n  \u001b[31m>>> import nltk\n  >>> nltk.download('stopwords')\n  \u001b[0m\n  For more information see: https://www.nltk.org/data.html\n\n  Attempted to load \u001b[93mcorpora/stopwords\u001b[0m\n\n  Searched in:\n    - '/Users/masheng/nltk_data'\n    - '/Library/Frameworks/Python.framework/Versions/3.11/nltk_data'\n    - '/Library/Frameworks/Python.framework/Versions/3.11/share/nltk_data'\n    - '/Library/Frameworks/Python.framework/Versions/3.11/lib/nltk_data'\n    - '/usr/share/nltk_data'\n    - '/usr/local/share/nltk_data'\n    - '/usr/lib/nltk_data'\n    - '/usr/local/lib/nltk_data'\n**********************************************************************\n"
     ]
    }
   ],
   "source": [
    "import nltk\n",
    "from nltk.corpus import stopwords\n",
    "from nltk.tokenize import word_tokenize\n",
    "\n",
    "# 下载停用词列表\n",
    "nltk.download('stopwords')\n",
    "nltk.download('punkt')\n",
    "\n",
    "# 加载停用词列表\n",
    "stop_words = set(stopwords.words('english'))"
   ]
  },
  {
   "cell_type": "code",
   "execution_count": 30,
   "metadata": {},
   "outputs": [
    {
     "name": "stdout",
     "output_type": "stream",
     "text": [
      "showing info https://raw.githubusercontent.com/nltk/nltk_data/gh-pages/index.xml\n"
     ]
    },
    {
     "data": {
      "text/plain": [
       "True"
      ]
     },
     "execution_count": 30,
     "metadata": {},
     "output_type": "execute_result"
    }
   ],
   "source": [
    "import nltk\n",
    "import ssl\n",
    "\n",
    "try:\n",
    "    _create_unverified_https_context = ssl._create_unverified_context\n",
    "except AttributeError:\n",
    "    pass\n",
    "else:\n",
    "    ssl._create_default_https_context = _create_unverified_https_context\n",
    "\n",
    "nltk.download()"
   ]
  },
  {
   "cell_type": "code",
   "execution_count": 31,
   "metadata": {},
   "outputs": [],
   "source": [
    "import nltk.corpus"
   ]
  },
  {
   "cell_type": "code",
   "execution_count": 32,
   "metadata": {},
   "outputs": [
    {
     "ename": "LookupError",
     "evalue": "\n**********************************************************************\n  Resource \u001b[93mstopwords\u001b[0m not found.\n  Please use the NLTK Downloader to obtain the resource:\n\n  \u001b[31m>>> import nltk\n  >>> nltk.download('stopwords')\n  \u001b[0m\n  For more information see: https://www.nltk.org/data.html\n\n  Attempted to load \u001b[93mcorpora/stopwords\u001b[0m\n\n  Searched in:\n    - '/Users/masheng/nltk_data'\n    - '/Library/Frameworks/Python.framework/Versions/3.11/nltk_data'\n    - '/Library/Frameworks/Python.framework/Versions/3.11/share/nltk_data'\n    - '/Library/Frameworks/Python.framework/Versions/3.11/lib/nltk_data'\n    - '/usr/share/nltk_data'\n    - '/usr/local/share/nltk_data'\n    - '/usr/lib/nltk_data'\n    - '/usr/local/lib/nltk_data'\n**********************************************************************\n",
     "output_type": "error",
     "traceback": [
      "\u001b[0;31m---------------------------------------------------------------------------\u001b[0m",
      "\u001b[0;31mLookupError\u001b[0m                               Traceback (most recent call last)",
      "File \u001b[0;32m/Library/Frameworks/Python.framework/Versions/3.11/lib/python3.11/site-packages/nltk/corpus/util.py:84\u001b[0m, in \u001b[0;36mLazyCorpusLoader.__load\u001b[0;34m(self)\u001b[0m\n\u001b[1;32m     83\u001b[0m \u001b[38;5;28;01mtry\u001b[39;00m:\n\u001b[0;32m---> 84\u001b[0m     root \u001b[38;5;241m=\u001b[39m \u001b[43mnltk\u001b[49m\u001b[38;5;241;43m.\u001b[39;49m\u001b[43mdata\u001b[49m\u001b[38;5;241;43m.\u001b[39;49m\u001b[43mfind\u001b[49m\u001b[43m(\u001b[49m\u001b[38;5;124;43mf\u001b[39;49m\u001b[38;5;124;43m\"\u001b[39;49m\u001b[38;5;132;43;01m{\u001b[39;49;00m\u001b[38;5;28;43mself\u001b[39;49m\u001b[38;5;241;43m.\u001b[39;49m\u001b[43msubdir\u001b[49m\u001b[38;5;132;43;01m}\u001b[39;49;00m\u001b[38;5;124;43m/\u001b[39;49m\u001b[38;5;132;43;01m{\u001b[39;49;00m\u001b[43mzip_name\u001b[49m\u001b[38;5;132;43;01m}\u001b[39;49;00m\u001b[38;5;124;43m\"\u001b[39;49m\u001b[43m)\u001b[49m\n\u001b[1;32m     85\u001b[0m \u001b[38;5;28;01mexcept\u001b[39;00m \u001b[38;5;167;01mLookupError\u001b[39;00m:\n",
      "File \u001b[0;32m/Library/Frameworks/Python.framework/Versions/3.11/lib/python3.11/site-packages/nltk/data.py:583\u001b[0m, in \u001b[0;36mfind\u001b[0;34m(resource_name, paths)\u001b[0m\n\u001b[1;32m    582\u001b[0m resource_not_found \u001b[38;5;241m=\u001b[39m \u001b[38;5;124mf\u001b[39m\u001b[38;5;124m\"\u001b[39m\u001b[38;5;130;01m\\n\u001b[39;00m\u001b[38;5;132;01m{\u001b[39;00msep\u001b[38;5;132;01m}\u001b[39;00m\u001b[38;5;130;01m\\n\u001b[39;00m\u001b[38;5;132;01m{\u001b[39;00mmsg\u001b[38;5;132;01m}\u001b[39;00m\u001b[38;5;130;01m\\n\u001b[39;00m\u001b[38;5;132;01m{\u001b[39;00msep\u001b[38;5;132;01m}\u001b[39;00m\u001b[38;5;130;01m\\n\u001b[39;00m\u001b[38;5;124m\"\u001b[39m\n\u001b[0;32m--> 583\u001b[0m \u001b[38;5;28;01mraise\u001b[39;00m \u001b[38;5;167;01mLookupError\u001b[39;00m(resource_not_found)\n",
      "\u001b[0;31mLookupError\u001b[0m: \n**********************************************************************\n  Resource \u001b[93mstopwords\u001b[0m not found.\n  Please use the NLTK Downloader to obtain the resource:\n\n  \u001b[31m>>> import nltk\n  >>> nltk.download('stopwords')\n  \u001b[0m\n  For more information see: https://www.nltk.org/data.html\n\n  Attempted to load \u001b[93mcorpora/stopwords.zip/stopwords/\u001b[0m\n\n  Searched in:\n    - '/Users/masheng/nltk_data'\n    - '/Library/Frameworks/Python.framework/Versions/3.11/nltk_data'\n    - '/Library/Frameworks/Python.framework/Versions/3.11/share/nltk_data'\n    - '/Library/Frameworks/Python.framework/Versions/3.11/lib/nltk_data'\n    - '/usr/share/nltk_data'\n    - '/usr/local/share/nltk_data'\n    - '/usr/lib/nltk_data'\n    - '/usr/local/lib/nltk_data'\n**********************************************************************\n",
      "\nDuring handling of the above exception, another exception occurred:\n",
      "\u001b[0;31mLookupError\u001b[0m                               Traceback (most recent call last)",
      "Cell \u001b[0;32mIn[32], line 1\u001b[0m\n\u001b[0;32m----> 1\u001b[0m stop_words \u001b[38;5;241m=\u001b[39m \u001b[38;5;28mset\u001b[39m(\u001b[43mstopwords\u001b[49m\u001b[38;5;241;43m.\u001b[39;49m\u001b[43mwords\u001b[49m(\u001b[38;5;124m'\u001b[39m\u001b[38;5;124menglish\u001b[39m\u001b[38;5;124m'\u001b[39m))\n",
      "File \u001b[0;32m/Library/Frameworks/Python.framework/Versions/3.11/lib/python3.11/site-packages/nltk/corpus/util.py:121\u001b[0m, in \u001b[0;36mLazyCorpusLoader.__getattr__\u001b[0;34m(self, attr)\u001b[0m\n\u001b[1;32m    118\u001b[0m \u001b[38;5;28;01mif\u001b[39;00m attr \u001b[38;5;241m==\u001b[39m \u001b[38;5;124m\"\u001b[39m\u001b[38;5;124m__bases__\u001b[39m\u001b[38;5;124m\"\u001b[39m:\n\u001b[1;32m    119\u001b[0m     \u001b[38;5;28;01mraise\u001b[39;00m \u001b[38;5;167;01mAttributeError\u001b[39;00m(\u001b[38;5;124m\"\u001b[39m\u001b[38;5;124mLazyCorpusLoader object has no attribute \u001b[39m\u001b[38;5;124m'\u001b[39m\u001b[38;5;124m__bases__\u001b[39m\u001b[38;5;124m'\u001b[39m\u001b[38;5;124m\"\u001b[39m)\n\u001b[0;32m--> 121\u001b[0m \u001b[38;5;28;43mself\u001b[39;49m\u001b[38;5;241;43m.\u001b[39;49m\u001b[43m__load\u001b[49m\u001b[43m(\u001b[49m\u001b[43m)\u001b[49m\n\u001b[1;32m    122\u001b[0m \u001b[38;5;66;03m# This looks circular, but its not, since __load() changes our\u001b[39;00m\n\u001b[1;32m    123\u001b[0m \u001b[38;5;66;03m# __class__ to something new:\u001b[39;00m\n\u001b[1;32m    124\u001b[0m \u001b[38;5;28;01mreturn\u001b[39;00m \u001b[38;5;28mgetattr\u001b[39m(\u001b[38;5;28mself\u001b[39m, attr)\n",
      "File \u001b[0;32m/Library/Frameworks/Python.framework/Versions/3.11/lib/python3.11/site-packages/nltk/corpus/util.py:86\u001b[0m, in \u001b[0;36mLazyCorpusLoader.__load\u001b[0;34m(self)\u001b[0m\n\u001b[1;32m     84\u001b[0m             root \u001b[38;5;241m=\u001b[39m nltk\u001b[38;5;241m.\u001b[39mdata\u001b[38;5;241m.\u001b[39mfind(\u001b[38;5;124mf\u001b[39m\u001b[38;5;124m\"\u001b[39m\u001b[38;5;132;01m{\u001b[39;00m\u001b[38;5;28mself\u001b[39m\u001b[38;5;241m.\u001b[39msubdir\u001b[38;5;132;01m}\u001b[39;00m\u001b[38;5;124m/\u001b[39m\u001b[38;5;132;01m{\u001b[39;00mzip_name\u001b[38;5;132;01m}\u001b[39;00m\u001b[38;5;124m\"\u001b[39m)\n\u001b[1;32m     85\u001b[0m         \u001b[38;5;28;01mexcept\u001b[39;00m \u001b[38;5;167;01mLookupError\u001b[39;00m:\n\u001b[0;32m---> 86\u001b[0m             \u001b[38;5;28;01mraise\u001b[39;00m e\n\u001b[1;32m     88\u001b[0m \u001b[38;5;66;03m# Load the corpus.\u001b[39;00m\n\u001b[1;32m     89\u001b[0m corpus \u001b[38;5;241m=\u001b[39m \u001b[38;5;28mself\u001b[39m\u001b[38;5;241m.\u001b[39m__reader_cls(root, \u001b[38;5;241m*\u001b[39m\u001b[38;5;28mself\u001b[39m\u001b[38;5;241m.\u001b[39m__args, \u001b[38;5;241m*\u001b[39m\u001b[38;5;241m*\u001b[39m\u001b[38;5;28mself\u001b[39m\u001b[38;5;241m.\u001b[39m__kwargs)\n",
      "File \u001b[0;32m/Library/Frameworks/Python.framework/Versions/3.11/lib/python3.11/site-packages/nltk/corpus/util.py:81\u001b[0m, in \u001b[0;36mLazyCorpusLoader.__load\u001b[0;34m(self)\u001b[0m\n\u001b[1;32m     79\u001b[0m \u001b[38;5;28;01melse\u001b[39;00m:\n\u001b[1;32m     80\u001b[0m     \u001b[38;5;28;01mtry\u001b[39;00m:\n\u001b[0;32m---> 81\u001b[0m         root \u001b[38;5;241m=\u001b[39m \u001b[43mnltk\u001b[49m\u001b[38;5;241;43m.\u001b[39;49m\u001b[43mdata\u001b[49m\u001b[38;5;241;43m.\u001b[39;49m\u001b[43mfind\u001b[49m\u001b[43m(\u001b[49m\u001b[38;5;124;43mf\u001b[39;49m\u001b[38;5;124;43m\"\u001b[39;49m\u001b[38;5;132;43;01m{\u001b[39;49;00m\u001b[38;5;28;43mself\u001b[39;49m\u001b[38;5;241;43m.\u001b[39;49m\u001b[43msubdir\u001b[49m\u001b[38;5;132;43;01m}\u001b[39;49;00m\u001b[38;5;124;43m/\u001b[39;49m\u001b[38;5;132;43;01m{\u001b[39;49;00m\u001b[38;5;28;43mself\u001b[39;49m\u001b[38;5;241;43m.\u001b[39;49m\u001b[43m__name\u001b[49m\u001b[38;5;132;43;01m}\u001b[39;49;00m\u001b[38;5;124;43m\"\u001b[39;49m\u001b[43m)\u001b[49m\n\u001b[1;32m     82\u001b[0m     \u001b[38;5;28;01mexcept\u001b[39;00m \u001b[38;5;167;01mLookupError\u001b[39;00m \u001b[38;5;28;01mas\u001b[39;00m e:\n\u001b[1;32m     83\u001b[0m         \u001b[38;5;28;01mtry\u001b[39;00m:\n",
      "File \u001b[0;32m/Library/Frameworks/Python.framework/Versions/3.11/lib/python3.11/site-packages/nltk/data.py:583\u001b[0m, in \u001b[0;36mfind\u001b[0;34m(resource_name, paths)\u001b[0m\n\u001b[1;32m    581\u001b[0m sep \u001b[38;5;241m=\u001b[39m \u001b[38;5;124m\"\u001b[39m\u001b[38;5;124m*\u001b[39m\u001b[38;5;124m\"\u001b[39m \u001b[38;5;241m*\u001b[39m \u001b[38;5;241m70\u001b[39m\n\u001b[1;32m    582\u001b[0m resource_not_found \u001b[38;5;241m=\u001b[39m \u001b[38;5;124mf\u001b[39m\u001b[38;5;124m\"\u001b[39m\u001b[38;5;130;01m\\n\u001b[39;00m\u001b[38;5;132;01m{\u001b[39;00msep\u001b[38;5;132;01m}\u001b[39;00m\u001b[38;5;130;01m\\n\u001b[39;00m\u001b[38;5;132;01m{\u001b[39;00mmsg\u001b[38;5;132;01m}\u001b[39;00m\u001b[38;5;130;01m\\n\u001b[39;00m\u001b[38;5;132;01m{\u001b[39;00msep\u001b[38;5;132;01m}\u001b[39;00m\u001b[38;5;130;01m\\n\u001b[39;00m\u001b[38;5;124m\"\u001b[39m\n\u001b[0;32m--> 583\u001b[0m \u001b[38;5;28;01mraise\u001b[39;00m \u001b[38;5;167;01mLookupError\u001b[39;00m(resource_not_found)\n",
      "\u001b[0;31mLookupError\u001b[0m: \n**********************************************************************\n  Resource \u001b[93mstopwords\u001b[0m not found.\n  Please use the NLTK Downloader to obtain the resource:\n\n  \u001b[31m>>> import nltk\n  >>> nltk.download('stopwords')\n  \u001b[0m\n  For more information see: https://www.nltk.org/data.html\n\n  Attempted to load \u001b[93mcorpora/stopwords\u001b[0m\n\n  Searched in:\n    - '/Users/masheng/nltk_data'\n    - '/Library/Frameworks/Python.framework/Versions/3.11/nltk_data'\n    - '/Library/Frameworks/Python.framework/Versions/3.11/share/nltk_data'\n    - '/Library/Frameworks/Python.framework/Versions/3.11/lib/nltk_data'\n    - '/usr/share/nltk_data'\n    - '/usr/local/share/nltk_data'\n    - '/usr/lib/nltk_data'\n    - '/usr/local/lib/nltk_data'\n**********************************************************************\n"
     ]
    }
   ],
   "source": [
    "stop_words = set(stopwords.words('english'))"
   ]
  },
  {
   "cell_type": "code",
   "execution_count": 33,
   "metadata": {},
   "outputs": [
    {
     "ename": "LookupError",
     "evalue": "\n**********************************************************************\n  Resource \u001b[93mstopwords\u001b[0m not found.\n  Please use the NLTK Downloader to obtain the resource:\n\n  \u001b[31m>>> import nltk\n  >>> nltk.download('stopwords')\n  \u001b[0m\n  For more information see: https://www.nltk.org/data.html\n\n  Attempted to load \u001b[93mcorpora/stopwords\u001b[0m\n\n  Searched in:\n    - '/Users/masheng/nltk_data'\n    - '/Library/Frameworks/Python.framework/Versions/3.11/nltk_data'\n    - '/Library/Frameworks/Python.framework/Versions/3.11/share/nltk_data'\n    - '/Library/Frameworks/Python.framework/Versions/3.11/lib/nltk_data'\n    - '/usr/share/nltk_data'\n    - '/usr/local/share/nltk_data'\n    - '/usr/lib/nltk_data'\n    - '/usr/local/lib/nltk_data'\n**********************************************************************\n",
     "output_type": "error",
     "traceback": [
      "\u001b[0;31m---------------------------------------------------------------------------\u001b[0m",
      "\u001b[0;31mLookupError\u001b[0m                               Traceback (most recent call last)",
      "File \u001b[0;32m/Library/Frameworks/Python.framework/Versions/3.11/lib/python3.11/site-packages/nltk/corpus/util.py:84\u001b[0m, in \u001b[0;36mLazyCorpusLoader.__load\u001b[0;34m(self)\u001b[0m\n\u001b[1;32m     83\u001b[0m \u001b[38;5;28;01mtry\u001b[39;00m:\n\u001b[0;32m---> 84\u001b[0m     root \u001b[38;5;241m=\u001b[39m \u001b[43mnltk\u001b[49m\u001b[38;5;241;43m.\u001b[39;49m\u001b[43mdata\u001b[49m\u001b[38;5;241;43m.\u001b[39;49m\u001b[43mfind\u001b[49m\u001b[43m(\u001b[49m\u001b[38;5;124;43mf\u001b[39;49m\u001b[38;5;124;43m\"\u001b[39;49m\u001b[38;5;132;43;01m{\u001b[39;49;00m\u001b[38;5;28;43mself\u001b[39;49m\u001b[38;5;241;43m.\u001b[39;49m\u001b[43msubdir\u001b[49m\u001b[38;5;132;43;01m}\u001b[39;49;00m\u001b[38;5;124;43m/\u001b[39;49m\u001b[38;5;132;43;01m{\u001b[39;49;00m\u001b[43mzip_name\u001b[49m\u001b[38;5;132;43;01m}\u001b[39;49;00m\u001b[38;5;124;43m\"\u001b[39;49m\u001b[43m)\u001b[49m\n\u001b[1;32m     85\u001b[0m \u001b[38;5;28;01mexcept\u001b[39;00m \u001b[38;5;167;01mLookupError\u001b[39;00m:\n",
      "File \u001b[0;32m/Library/Frameworks/Python.framework/Versions/3.11/lib/python3.11/site-packages/nltk/data.py:583\u001b[0m, in \u001b[0;36mfind\u001b[0;34m(resource_name, paths)\u001b[0m\n\u001b[1;32m    582\u001b[0m resource_not_found \u001b[38;5;241m=\u001b[39m \u001b[38;5;124mf\u001b[39m\u001b[38;5;124m\"\u001b[39m\u001b[38;5;130;01m\\n\u001b[39;00m\u001b[38;5;132;01m{\u001b[39;00msep\u001b[38;5;132;01m}\u001b[39;00m\u001b[38;5;130;01m\\n\u001b[39;00m\u001b[38;5;132;01m{\u001b[39;00mmsg\u001b[38;5;132;01m}\u001b[39;00m\u001b[38;5;130;01m\\n\u001b[39;00m\u001b[38;5;132;01m{\u001b[39;00msep\u001b[38;5;132;01m}\u001b[39;00m\u001b[38;5;130;01m\\n\u001b[39;00m\u001b[38;5;124m\"\u001b[39m\n\u001b[0;32m--> 583\u001b[0m \u001b[38;5;28;01mraise\u001b[39;00m \u001b[38;5;167;01mLookupError\u001b[39;00m(resource_not_found)\n",
      "\u001b[0;31mLookupError\u001b[0m: \n**********************************************************************\n  Resource \u001b[93mstopwords\u001b[0m not found.\n  Please use the NLTK Downloader to obtain the resource:\n\n  \u001b[31m>>> import nltk\n  >>> nltk.download('stopwords')\n  \u001b[0m\n  For more information see: https://www.nltk.org/data.html\n\n  Attempted to load \u001b[93mcorpora/stopwords.zip/stopwords/\u001b[0m\n\n  Searched in:\n    - '/Users/masheng/nltk_data'\n    - '/Library/Frameworks/Python.framework/Versions/3.11/nltk_data'\n    - '/Library/Frameworks/Python.framework/Versions/3.11/share/nltk_data'\n    - '/Library/Frameworks/Python.framework/Versions/3.11/lib/nltk_data'\n    - '/usr/share/nltk_data'\n    - '/usr/local/share/nltk_data'\n    - '/usr/lib/nltk_data'\n    - '/usr/local/lib/nltk_data'\n**********************************************************************\n",
      "\nDuring handling of the above exception, another exception occurred:\n",
      "\u001b[0;31mLookupError\u001b[0m                               Traceback (most recent call last)",
      "Cell \u001b[0;32mIn[33], line 1\u001b[0m\n\u001b[0;32m----> 1\u001b[0m stopwords \u001b[38;5;241m=\u001b[39m \u001b[43mnltk\u001b[49m\u001b[38;5;241;43m.\u001b[39;49m\u001b[43mcorpus\u001b[49m\u001b[38;5;241;43m.\u001b[39;49m\u001b[43mstopwords\u001b[49m\u001b[38;5;241;43m.\u001b[39;49m\u001b[43mwords\u001b[49m(\u001b[38;5;124m\"\u001b[39m\u001b[38;5;124menglish\u001b[39m\u001b[38;5;124m\"\u001b[39m)\n\u001b[1;32m      2\u001b[0m [w \u001b[38;5;28;01mfor\u001b[39;00m w \u001b[38;5;129;01min\u001b[39;00m detail_texts \u001b[38;5;28;01mif\u001b[39;00m w \u001b[38;5;129;01mnot\u001b[39;00m \u001b[38;5;129;01min\u001b[39;00m stopwords]\n",
      "File \u001b[0;32m/Library/Frameworks/Python.framework/Versions/3.11/lib/python3.11/site-packages/nltk/corpus/util.py:121\u001b[0m, in \u001b[0;36mLazyCorpusLoader.__getattr__\u001b[0;34m(self, attr)\u001b[0m\n\u001b[1;32m    118\u001b[0m \u001b[38;5;28;01mif\u001b[39;00m attr \u001b[38;5;241m==\u001b[39m \u001b[38;5;124m\"\u001b[39m\u001b[38;5;124m__bases__\u001b[39m\u001b[38;5;124m\"\u001b[39m:\n\u001b[1;32m    119\u001b[0m     \u001b[38;5;28;01mraise\u001b[39;00m \u001b[38;5;167;01mAttributeError\u001b[39;00m(\u001b[38;5;124m\"\u001b[39m\u001b[38;5;124mLazyCorpusLoader object has no attribute \u001b[39m\u001b[38;5;124m'\u001b[39m\u001b[38;5;124m__bases__\u001b[39m\u001b[38;5;124m'\u001b[39m\u001b[38;5;124m\"\u001b[39m)\n\u001b[0;32m--> 121\u001b[0m \u001b[38;5;28;43mself\u001b[39;49m\u001b[38;5;241;43m.\u001b[39;49m\u001b[43m__load\u001b[49m\u001b[43m(\u001b[49m\u001b[43m)\u001b[49m\n\u001b[1;32m    122\u001b[0m \u001b[38;5;66;03m# This looks circular, but its not, since __load() changes our\u001b[39;00m\n\u001b[1;32m    123\u001b[0m \u001b[38;5;66;03m# __class__ to something new:\u001b[39;00m\n\u001b[1;32m    124\u001b[0m \u001b[38;5;28;01mreturn\u001b[39;00m \u001b[38;5;28mgetattr\u001b[39m(\u001b[38;5;28mself\u001b[39m, attr)\n",
      "File \u001b[0;32m/Library/Frameworks/Python.framework/Versions/3.11/lib/python3.11/site-packages/nltk/corpus/util.py:86\u001b[0m, in \u001b[0;36mLazyCorpusLoader.__load\u001b[0;34m(self)\u001b[0m\n\u001b[1;32m     84\u001b[0m             root \u001b[38;5;241m=\u001b[39m nltk\u001b[38;5;241m.\u001b[39mdata\u001b[38;5;241m.\u001b[39mfind(\u001b[38;5;124mf\u001b[39m\u001b[38;5;124m\"\u001b[39m\u001b[38;5;132;01m{\u001b[39;00m\u001b[38;5;28mself\u001b[39m\u001b[38;5;241m.\u001b[39msubdir\u001b[38;5;132;01m}\u001b[39;00m\u001b[38;5;124m/\u001b[39m\u001b[38;5;132;01m{\u001b[39;00mzip_name\u001b[38;5;132;01m}\u001b[39;00m\u001b[38;5;124m\"\u001b[39m)\n\u001b[1;32m     85\u001b[0m         \u001b[38;5;28;01mexcept\u001b[39;00m \u001b[38;5;167;01mLookupError\u001b[39;00m:\n\u001b[0;32m---> 86\u001b[0m             \u001b[38;5;28;01mraise\u001b[39;00m e\n\u001b[1;32m     88\u001b[0m \u001b[38;5;66;03m# Load the corpus.\u001b[39;00m\n\u001b[1;32m     89\u001b[0m corpus \u001b[38;5;241m=\u001b[39m \u001b[38;5;28mself\u001b[39m\u001b[38;5;241m.\u001b[39m__reader_cls(root, \u001b[38;5;241m*\u001b[39m\u001b[38;5;28mself\u001b[39m\u001b[38;5;241m.\u001b[39m__args, \u001b[38;5;241m*\u001b[39m\u001b[38;5;241m*\u001b[39m\u001b[38;5;28mself\u001b[39m\u001b[38;5;241m.\u001b[39m__kwargs)\n",
      "File \u001b[0;32m/Library/Frameworks/Python.framework/Versions/3.11/lib/python3.11/site-packages/nltk/corpus/util.py:81\u001b[0m, in \u001b[0;36mLazyCorpusLoader.__load\u001b[0;34m(self)\u001b[0m\n\u001b[1;32m     79\u001b[0m \u001b[38;5;28;01melse\u001b[39;00m:\n\u001b[1;32m     80\u001b[0m     \u001b[38;5;28;01mtry\u001b[39;00m:\n\u001b[0;32m---> 81\u001b[0m         root \u001b[38;5;241m=\u001b[39m \u001b[43mnltk\u001b[49m\u001b[38;5;241;43m.\u001b[39;49m\u001b[43mdata\u001b[49m\u001b[38;5;241;43m.\u001b[39;49m\u001b[43mfind\u001b[49m\u001b[43m(\u001b[49m\u001b[38;5;124;43mf\u001b[39;49m\u001b[38;5;124;43m\"\u001b[39;49m\u001b[38;5;132;43;01m{\u001b[39;49;00m\u001b[38;5;28;43mself\u001b[39;49m\u001b[38;5;241;43m.\u001b[39;49m\u001b[43msubdir\u001b[49m\u001b[38;5;132;43;01m}\u001b[39;49;00m\u001b[38;5;124;43m/\u001b[39;49m\u001b[38;5;132;43;01m{\u001b[39;49;00m\u001b[38;5;28;43mself\u001b[39;49m\u001b[38;5;241;43m.\u001b[39;49m\u001b[43m__name\u001b[49m\u001b[38;5;132;43;01m}\u001b[39;49;00m\u001b[38;5;124;43m\"\u001b[39;49m\u001b[43m)\u001b[49m\n\u001b[1;32m     82\u001b[0m     \u001b[38;5;28;01mexcept\u001b[39;00m \u001b[38;5;167;01mLookupError\u001b[39;00m \u001b[38;5;28;01mas\u001b[39;00m e:\n\u001b[1;32m     83\u001b[0m         \u001b[38;5;28;01mtry\u001b[39;00m:\n",
      "File \u001b[0;32m/Library/Frameworks/Python.framework/Versions/3.11/lib/python3.11/site-packages/nltk/data.py:583\u001b[0m, in \u001b[0;36mfind\u001b[0;34m(resource_name, paths)\u001b[0m\n\u001b[1;32m    581\u001b[0m sep \u001b[38;5;241m=\u001b[39m \u001b[38;5;124m\"\u001b[39m\u001b[38;5;124m*\u001b[39m\u001b[38;5;124m\"\u001b[39m \u001b[38;5;241m*\u001b[39m \u001b[38;5;241m70\u001b[39m\n\u001b[1;32m    582\u001b[0m resource_not_found \u001b[38;5;241m=\u001b[39m \u001b[38;5;124mf\u001b[39m\u001b[38;5;124m\"\u001b[39m\u001b[38;5;130;01m\\n\u001b[39;00m\u001b[38;5;132;01m{\u001b[39;00msep\u001b[38;5;132;01m}\u001b[39;00m\u001b[38;5;130;01m\\n\u001b[39;00m\u001b[38;5;132;01m{\u001b[39;00mmsg\u001b[38;5;132;01m}\u001b[39;00m\u001b[38;5;130;01m\\n\u001b[39;00m\u001b[38;5;132;01m{\u001b[39;00msep\u001b[38;5;132;01m}\u001b[39;00m\u001b[38;5;130;01m\\n\u001b[39;00m\u001b[38;5;124m\"\u001b[39m\n\u001b[0;32m--> 583\u001b[0m \u001b[38;5;28;01mraise\u001b[39;00m \u001b[38;5;167;01mLookupError\u001b[39;00m(resource_not_found)\n",
      "\u001b[0;31mLookupError\u001b[0m: \n**********************************************************************\n  Resource \u001b[93mstopwords\u001b[0m not found.\n  Please use the NLTK Downloader to obtain the resource:\n\n  \u001b[31m>>> import nltk\n  >>> nltk.download('stopwords')\n  \u001b[0m\n  For more information see: https://www.nltk.org/data.html\n\n  Attempted to load \u001b[93mcorpora/stopwords\u001b[0m\n\n  Searched in:\n    - '/Users/masheng/nltk_data'\n    - '/Library/Frameworks/Python.framework/Versions/3.11/nltk_data'\n    - '/Library/Frameworks/Python.framework/Versions/3.11/share/nltk_data'\n    - '/Library/Frameworks/Python.framework/Versions/3.11/lib/nltk_data'\n    - '/usr/share/nltk_data'\n    - '/usr/local/share/nltk_data'\n    - '/usr/lib/nltk_data'\n    - '/usr/local/lib/nltk_data'\n**********************************************************************\n"
     ]
    }
   ],
   "source": [
    "stopwords = nltk.corpus.stopwords.words(\"english\")\n",
    "[w for w in detail_texts if w not in stopwords]"
   ]
  },
  {
   "cell_type": "code",
   "execution_count": null,
   "metadata": {},
   "outputs": [],
   "source": []
  },
  {
   "cell_type": "code",
   "execution_count": null,
   "metadata": {},
   "outputs": [],
   "source": [
    "# 过滤文本中的停用词\n",
    "filtered_texts = []\n",
    "for text in detail_texts:\n",
    "    word_tokens = word_tokenize(text)\n",
    "    filtered_text = [word for word in word_tokens if word.lower() not in stop_words]\n",
    "    filtered_texts.append(' '.join(filtered_text))"
   ]
  },
  {
   "cell_type": "code",
   "execution_count": 28,
   "metadata": {},
   "outputs": [],
   "source": [
    "# 使用 CountVectorizer 对文本进行词频分析\n",
    "vectorizer_detail = CountVectorizer()\n",
    "X_detail = vectorizer_detail.fit_transform(detail_texts)\n",
    "\n",
    "# 创建 LDA 模型并拟合数据\n",
    "lda_model_detail = LatentDirichletAllocation(n_components=5, random_state=42)  # 假设选择5个主题\n",
    "lda_model_detail.fit(X_detail)\n",
    "\n",
    "texts_tokenized_detail = [text.split() for text in detail_texts]\n",
    "dictionary_detail = Dictionary(texts_tokenized_detail)\n",
    "corpus_detail = [dictionary_detail.doc2bow(text) for text in texts_tokenized_detail]\n",
    "\n",
    "# 使用 gensim 进行 LDA 模型拟合\n",
    "lda_gensim_model_detail = LdaModel(corpus=corpus_detail, num_topics=5, id2word=dictionary_detail)\n",
    "\n",
    "# 可视化 LDA 模型\n",
    "pyLDAvis.enable_notebook()\n",
    "panel_detail = pyLDAvis.gensim.prepare(lda_gensim_model_detail, corpus_detail, dictionary_detail)\n",
    "pyLDAvis.save_html(panel_detail, 'detail_lda.html')"
   ]
  }
 ],
 "metadata": {
  "kernelspec": {
   "display_name": "Python 3",
   "language": "python",
   "name": "python3"
  },
  "language_info": {
   "codemirror_mode": {
    "name": "ipython",
    "version": 3
   },
   "file_extension": ".py",
   "mimetype": "text/x-python",
   "name": "python",
   "nbconvert_exporter": "python",
   "pygments_lexer": "ipython3",
   "version": "3.11.4"
  }
 },
 "nbformat": 4,
 "nbformat_minor": 2
}
